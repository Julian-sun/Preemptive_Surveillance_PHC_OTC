{
 "cells": [
  {
   "cell_type": "code",
   "execution_count": 1,
   "metadata": {},
   "outputs": [],
   "source": [
    "# Read packedges\n",
    "\n",
    "import pandas as pd\n",
    "import pandas.testing as tm\n",
    "import numpy as np\n",
    "import seaborn as sns\n",
    "import matplotlib.pyplot as plt\n",
    "\n",
    "import scipy.stats\n",
    "\n",
    "import statsmodels.api as sm\n",
    "import statsmodels.discrete.discrete_model as dm\n",
    "\n",
    "from patsy import dmatrices\n",
    "import statsmodels.graphics.tsaplots as tsa\n",
    "\n",
    "from scipy.fft import fft, ifft, fftfreq\n",
    "\n",
    "import numpy as np, scipy.stats as st\n",
    "\n",
    "import statsmodels.formula.api as smf\n",
    "from statsmodels.tsa.stattools import acf\n",
    "\n",
    "import itertools\n",
    "from itertools import combinations, chain\n",
    "\n",
    "from scipy.stats import pearsonr\n",
    "\n",
    "import re\n",
    "\n",
    "from datetime import datetime\n",
    "\n",
    "import os\n",
    "\n",
    "import functions"
   ]
  },
  {
   "cell_type": "markdown",
   "metadata": {},
   "source": [
    "# Read data "
   ]
  },
  {
   "cell_type": "code",
   "execution_count": 20,
   "metadata": {},
   "outputs": [],
   "source": [
    "# data of hospitalizations\n",
    "df_sih = pd.read_parquet('/Users/julianeoliveira/Documents/github/Bivariate_Anomaly_Detection_Primary_Health_Care_Drug_Selling_ILI_surveillance/Data/counts_aih_2025.parquet')\n",
    "\n",
    "#/home/juliane.oliveira/workspace/OTC_PHC_analysis_and_modelling/counts_aih_gripal.parquet')\n",
    "\n",
    "# Read dictionary with municipalities\n",
    "muni = pd.read_csv('/Users/julianeoliveira/Documents/github/Bivariate_Anomaly_Detection_Primary_Health_Care_Drug_Selling_ILI_surveillance/Data/RELATORIO_DTB_BRASIL_MUNICIPIO.csv', sep = ';')"
   ]
  },
  {
   "cell_type": "markdown",
   "metadata": {},
   "source": [
    "# Format data for analysis"
   ]
  },
  {
   "cell_type": "code",
   "execution_count": 27,
   "metadata": {},
   "outputs": [],
   "source": [
    "df_sih = df_sih.assign( co_ibge = df_sih['MUNIC_RES'].astype(int),\n",
    "                        epiweek = df_sih.epiweek.astype(int),\n",
    "                       epiyear = df_sih.epiyear.astype(int))\n",
    "\n",
    "df_sih = functions.year_week_ts(df_sih, epiweek_col='epiweek', year_col='epiyear')\n",
    "\n",
    "muni = muni[['UF', 'Nome_UF', 'Região Geográfica Imediata',\n",
    "       'Nome Região Geográfica Imediata',\n",
    "       'Município', 'Código Município Completo', 'Nome_Município']]\n",
    "\n",
    "muni = muni.assign(co_ibge = muni['Código Município Completo'].astype(str).str[0:6].astype(int))\n",
    "\n",
    "\n",
    "df_sih = df_sih.merge(muni, left_on='co_ibge', right_on='co_ibge')\n",
    "\n",
    "df_sih = df_sih.rename(columns= {\"Região Geográfica Imediata\": \"co_imed\", \"Nome Região Geográfica Imediata\": \"Nome_imed\"})"
   ]
  },
  {
   "cell_type": "code",
   "execution_count": 28,
   "metadata": {},
   "outputs": [],
   "source": [
    "df_sih_muni = df_sih[['Nome_Município', 'co_ibge', 'epiweek', 'epiyear', 'n',  'year_week',\n",
    "                      'year_week_ts', 'year_week_str', 'UF', 'Nome_UF',\n",
    "                      'Código Município Completo']]\n",
    "\n",
    "df_sih_imed = df_sih.groupby(['UF', 'Nome_UF', 'co_imed', 'Nome_imed',  'epiweek', 'epiyear','year_week',\n",
    "       'year_week_ts', 'year_week_str'])['n'].sum().reset_index()"
   ]
  },
  {
   "cell_type": "code",
   "execution_count": 29,
   "metadata": {},
   "outputs": [],
   "source": [
    "df_sih_muni  = df_sih_muni[(df_sih_muni.year_week >= '2022-47') & (df_sih_muni.year_week <= '2024-52')]"
   ]
  },
  {
   "cell_type": "code",
   "execution_count": 30,
   "metadata": {},
   "outputs": [],
   "source": [
    "df_sih_imed = df_sih_imed[(df_sih_imed.year_week >= '2022-47') & (df_sih_imed.year_week <= '2024-52')]"
   ]
  },
  {
   "cell_type": "code",
   "execution_count": 32,
   "metadata": {},
   "outputs": [
    {
     "data": {
      "text/html": [
       "<div>\n",
       "<style scoped>\n",
       "    .dataframe tbody tr th:only-of-type {\n",
       "        vertical-align: middle;\n",
       "    }\n",
       "\n",
       "    .dataframe tbody tr th {\n",
       "        vertical-align: top;\n",
       "    }\n",
       "\n",
       "    .dataframe thead th {\n",
       "        text-align: right;\n",
       "    }\n",
       "</style>\n",
       "<table border=\"1\" class=\"dataframe\">\n",
       "  <thead>\n",
       "    <tr style=\"text-align: right;\">\n",
       "      <th></th>\n",
       "      <th>epiyear</th>\n",
       "      <th>n</th>\n",
       "    </tr>\n",
       "  </thead>\n",
       "  <tbody>\n",
       "    <tr>\n",
       "      <th>0</th>\n",
       "      <td>2022</td>\n",
       "      <td>85630</td>\n",
       "    </tr>\n",
       "    <tr>\n",
       "      <th>1</th>\n",
       "      <td>2023</td>\n",
       "      <td>871551</td>\n",
       "    </tr>\n",
       "    <tr>\n",
       "      <th>2</th>\n",
       "      <td>2024</td>\n",
       "      <td>846297</td>\n",
       "    </tr>\n",
       "  </tbody>\n",
       "</table>\n",
       "</div>"
      ],
      "text/plain": [
       "   epiyear       n\n",
       "0     2022   85630\n",
       "1     2023  871551\n",
       "2     2024  846297"
      ]
     },
     "execution_count": 32,
     "metadata": {},
     "output_type": "execute_result"
    }
   ],
   "source": [
    "df_sih_imed.groupby(['epiyear'])['n'].sum().reset_index()"
   ]
  },
  {
   "cell_type": "code",
   "execution_count": 33,
   "metadata": {},
   "outputs": [
    {
     "data": {
      "text/html": [
       "<div>\n",
       "<style scoped>\n",
       "    .dataframe tbody tr th:only-of-type {\n",
       "        vertical-align: middle;\n",
       "    }\n",
       "\n",
       "    .dataframe tbody tr th {\n",
       "        vertical-align: top;\n",
       "    }\n",
       "\n",
       "    .dataframe thead th {\n",
       "        text-align: right;\n",
       "    }\n",
       "</style>\n",
       "<table border=\"1\" class=\"dataframe\">\n",
       "  <thead>\n",
       "    <tr style=\"text-align: right;\">\n",
       "      <th></th>\n",
       "      <th>epiyear</th>\n",
       "      <th>n</th>\n",
       "    </tr>\n",
       "  </thead>\n",
       "  <tbody>\n",
       "    <tr>\n",
       "      <th>0</th>\n",
       "      <td>2018</td>\n",
       "      <td>770430</td>\n",
       "    </tr>\n",
       "    <tr>\n",
       "      <th>1</th>\n",
       "      <td>2019</td>\n",
       "      <td>785039</td>\n",
       "    </tr>\n",
       "    <tr>\n",
       "      <th>2</th>\n",
       "      <td>2020</td>\n",
       "      <td>1034071</td>\n",
       "    </tr>\n",
       "    <tr>\n",
       "      <th>3</th>\n",
       "      <td>2021</td>\n",
       "      <td>1658091</td>\n",
       "    </tr>\n",
       "    <tr>\n",
       "      <th>4</th>\n",
       "      <td>2022</td>\n",
       "      <td>961599</td>\n",
       "    </tr>\n",
       "    <tr>\n",
       "      <th>5</th>\n",
       "      <td>2023</td>\n",
       "      <td>871551</td>\n",
       "    </tr>\n",
       "    <tr>\n",
       "      <th>6</th>\n",
       "      <td>2024</td>\n",
       "      <td>846297</td>\n",
       "    </tr>\n",
       "    <tr>\n",
       "      <th>7</th>\n",
       "      <td>2025</td>\n",
       "      <td>391</td>\n",
       "    </tr>\n",
       "  </tbody>\n",
       "</table>\n",
       "</div>"
      ],
      "text/plain": [
       "   epiyear        n\n",
       "0     2018   770430\n",
       "1     2019   785039\n",
       "2     2020  1034071\n",
       "3     2021  1658091\n",
       "4     2022   961599\n",
       "5     2023   871551\n",
       "6     2024   846297\n",
       "7     2025      391"
      ]
     },
     "execution_count": 33,
     "metadata": {},
     "output_type": "execute_result"
    }
   ],
   "source": [
    "df_sih.groupby(['epiyear'])['n'].sum().reset_index()"
   ]
  },
  {
   "cell_type": "markdown",
   "metadata": {},
   "source": [
    "# Find anomalies in SIH series"
   ]
  },
  {
   "cell_type": "markdown",
   "metadata": {},
   "source": [
    "## Anomalies in series at city level"
   ]
  },
  {
   "cell_type": "code",
   "execution_count": 17,
   "metadata": {},
   "outputs": [],
   "source": [
    "lst = []\n",
    "\n",
    "for code in df_sih_muni.co_ibge.unique():\n",
    "    \n",
    "    set_muni = df_sih_muni[df_sih_muni.co_ibge == code]\n",
    "    \n",
    "    \n",
    "    # Add new columns\n",
    "    set_muni = set_muni.assign(\n",
    "        mean_per_week=round(set_muni.n.mean(), 0),\n",
    "        mode = set_muni.n.mode(),\n",
    "        median = set_muni.n.median(),\n",
    "        std = set_muni.n.std(),\n",
    "        total_n = set_muni.n.sum(),\n",
    "        n_4 = set_muni.n.rolling(window=4).mean().fillna(0)\n",
    "    )\n",
    "\n",
    "    #Apply condition row-wise for warning\n",
    "    set_muni['warning_aih'] = (set_muni['n'] > set_muni['median'] + 2*set_muni['std']) \n",
    "\n",
    "    set_muni = set_muni.assign(warning_aih_sum = set_muni['warning_aih'].sum())\n",
    "\n",
    "    # Append to the list\n",
    "    lst.append(set_muni)\n",
    "\n",
    "result_warning_aih_muni = pd.concat(lst, ignore_index=True)"
   ]
  },
  {
   "cell_type": "code",
   "execution_count": 18,
   "metadata": {},
   "outputs": [],
   "source": [
    "dta1 = result_warning_aih_muni[['co_ibge','year_week', 'n', 'warning_aih']]\n",
    "\n",
    "dta2 = functions.clean_warning_column(dta1, 'co_ibge', 'year_week','warning_aih')\n",
    "\n",
    "dta2 = dta2[['co_ibge', 'year_week', 'warning_aih', 'n',\n",
    "             'cleaned_warning', 'event', 'warning_final']]\n",
    "\n",
    "dta2 = dta2.rename(columns={'cleaned_warning': 'warning_aih_without_isolated', \n",
    "                            'event': 'warning_aih_corect_with_consec',\n",
    "                           'warning_final':'warning_final_aih'})"
   ]
  },
  {
   "cell_type": "code",
   "execution_count": 19,
   "metadata": {},
   "outputs": [],
   "source": [
    "dta2 = dta2.assign(warning_aih = dta2.warning_aih.astype(int),\n",
    "                   warning_aih_without_isolated = dta2.warning_aih_without_isolated.astype(int),\n",
    "                   warning_final_aih = dta2.warning_final_aih.astype(int))\n",
    "                   "
   ]
  },
  {
   "cell_type": "code",
   "execution_count": 20,
   "metadata": {},
   "outputs": [],
   "source": [
    "dta2.to_parquet('/Users/julianeoliveira/Documents/github/Bivariate_Anomaly_Detection_Primary_Health_Care_Drug_Selling_ILI_surveillance/Results/data_manuscript_warning_aih_muni2.parquet')\n",
    "\n",
    "                #/home/juliane.oliveira/workspace/Data/data_manuscript_warning_aih_muni.parquet')"
   ]
  },
  {
   "cell_type": "markdown",
   "metadata": {},
   "source": [
    "## Anomalies in series at imediate reagion level"
   ]
  },
  {
   "cell_type": "code",
   "execution_count": 34,
   "metadata": {},
   "outputs": [],
   "source": [
    "lst = []\n",
    "\n",
    "for code in df_sih_imed.co_imed.unique():\n",
    "    \n",
    "    set_imed = df_sih_imed[df_sih_imed.co_imed == code]\n",
    "    \n",
    "    # Add new columns\n",
    "    set_imed = set_imed.assign(\n",
    "        mean_per_week=round(set_imed.n.mean(), 0),\n",
    "        mode = set_imed.n.mode(),\n",
    "        median = set_imed.n.median(),\n",
    "        std = set_imed.n.std(),\n",
    "        total_n = set_imed.n.sum(),\n",
    "        n_4 = set_imed.n.rolling(window=4).mean().fillna(0)\n",
    "    )\n",
    "\n",
    "    #Apply condition row-wise for warning\n",
    "    set_imed['warning_aih'] = (set_imed['n'] > set_imed['median'] + 2*set_imed['std']) \n",
    "\n",
    "    set_imed = set_imed.assign(warning_aih_sum = set_imed['warning_aih'].sum())\n",
    "\n",
    "    # Append to the list\n",
    "    lst.append(set_imed)\n",
    "\n",
    "result_warning_aih_imed = pd.concat(lst, ignore_index=True)"
   ]
  },
  {
   "cell_type": "code",
   "execution_count": 35,
   "metadata": {},
   "outputs": [
    {
     "data": {
      "text/plain": [
       "Index(['UF', 'Nome_UF', 'co_imed', 'Nome_imed', 'epiweek', 'epiyear',\n",
       "       'year_week', 'year_week_ts', 'year_week_str', 'n', 'mean_per_week',\n",
       "       'mode', 'median', 'std', 'total_n', 'n_4', 'warning_aih',\n",
       "       'warning_aih_sum'],\n",
       "      dtype='object')"
      ]
     },
     "execution_count": 35,
     "metadata": {},
     "output_type": "execute_result"
    }
   ],
   "source": [
    "result_warning_aih_imed.columns"
   ]
  },
  {
   "cell_type": "code",
   "execution_count": 36,
   "metadata": {},
   "outputs": [],
   "source": [
    "dta1 = result_warning_aih_imed[['co_imed','year_week', 'n', 'warning_aih']]\n",
    "\n",
    "dta2 = functions.clean_warning_column(dta1, 'co_imed', 'year_week','warning_aih')\n",
    "\n",
    "dta2 = dta2[['co_imed', 'year_week', 'warning_aih', 'n',\n",
    "             'cleaned_warning', 'event', 'warning_final']]\n",
    "\n",
    "dta2 = dta2.rename(columns={'cleaned_warning': 'warning_aih_without_isolated', \n",
    "                            'event': 'warning_aih_corect_with_consec',\n",
    "                           'warning_final':'warning_final_aih'})\n",
    "\n",
    "dta2 = dta2.assign(warning_aih = dta2.warning_aih.astype(int),\n",
    "                   warning_aih_without_isolated = dta2.warning_aih_without_isolated.astype(int),\n",
    "                   warning_final_aih = dta2.warning_final_aih.astype(int))"
   ]
  },
  {
   "cell_type": "code",
   "execution_count": 37,
   "metadata": {},
   "outputs": [
    {
     "data": {
      "text/plain": [
       "556"
      ]
     },
     "execution_count": 37,
     "metadata": {},
     "output_type": "execute_result"
    }
   ],
   "source": [
    "dta2.warning_final_aih.sum()"
   ]
  },
  {
   "cell_type": "code",
   "execution_count": 38,
   "metadata": {},
   "outputs": [
    {
     "data": {
      "text/html": [
       "<div>\n",
       "<style scoped>\n",
       "    .dataframe tbody tr th:only-of-type {\n",
       "        vertical-align: middle;\n",
       "    }\n",
       "\n",
       "    .dataframe tbody tr th {\n",
       "        vertical-align: top;\n",
       "    }\n",
       "\n",
       "    .dataframe thead th {\n",
       "        text-align: right;\n",
       "    }\n",
       "</style>\n",
       "<table border=\"1\" class=\"dataframe\">\n",
       "  <thead>\n",
       "    <tr style=\"text-align: right;\">\n",
       "      <th></th>\n",
       "      <th>co_imed</th>\n",
       "      <th>year_week</th>\n",
       "      <th>warning_aih</th>\n",
       "      <th>n</th>\n",
       "      <th>warning_aih_without_isolated</th>\n",
       "      <th>warning_aih_corect_with_consec</th>\n",
       "      <th>warning_final_aih</th>\n",
       "    </tr>\n",
       "  </thead>\n",
       "  <tbody>\n",
       "    <tr>\n",
       "      <th>92</th>\n",
       "      <td>110001</td>\n",
       "      <td>2022-47</td>\n",
       "      <td>0</td>\n",
       "      <td>47</td>\n",
       "      <td>0</td>\n",
       "      <td>0</td>\n",
       "      <td>0</td>\n",
       "    </tr>\n",
       "    <tr>\n",
       "      <th>95</th>\n",
       "      <td>110001</td>\n",
       "      <td>2022-48</td>\n",
       "      <td>0</td>\n",
       "      <td>51</td>\n",
       "      <td>0</td>\n",
       "      <td>0</td>\n",
       "      <td>0</td>\n",
       "    </tr>\n",
       "    <tr>\n",
       "      <th>98</th>\n",
       "      <td>110001</td>\n",
       "      <td>2022-49</td>\n",
       "      <td>0</td>\n",
       "      <td>51</td>\n",
       "      <td>0</td>\n",
       "      <td>0</td>\n",
       "      <td>0</td>\n",
       "    </tr>\n",
       "    <tr>\n",
       "      <th>101</th>\n",
       "      <td>110001</td>\n",
       "      <td>2022-50</td>\n",
       "      <td>0</td>\n",
       "      <td>59</td>\n",
       "      <td>0</td>\n",
       "      <td>0</td>\n",
       "      <td>0</td>\n",
       "    </tr>\n",
       "    <tr>\n",
       "      <th>104</th>\n",
       "      <td>110001</td>\n",
       "      <td>2022-51</td>\n",
       "      <td>0</td>\n",
       "      <td>32</td>\n",
       "      <td>0</td>\n",
       "      <td>0</td>\n",
       "      <td>0</td>\n",
       "    </tr>\n",
       "    <tr>\n",
       "      <th>...</th>\n",
       "      <td>...</td>\n",
       "      <td>...</td>\n",
       "      <td>...</td>\n",
       "      <td>...</td>\n",
       "      <td>...</td>\n",
       "      <td>...</td>\n",
       "      <td>...</td>\n",
       "    </tr>\n",
       "    <tr>\n",
       "      <th>55798</th>\n",
       "      <td>530001</td>\n",
       "      <td>2024-48</td>\n",
       "      <td>0</td>\n",
       "      <td>193</td>\n",
       "      <td>0</td>\n",
       "      <td>0</td>\n",
       "      <td>0</td>\n",
       "    </tr>\n",
       "    <tr>\n",
       "      <th>55801</th>\n",
       "      <td>530001</td>\n",
       "      <td>2024-49</td>\n",
       "      <td>0</td>\n",
       "      <td>192</td>\n",
       "      <td>0</td>\n",
       "      <td>0</td>\n",
       "      <td>0</td>\n",
       "    </tr>\n",
       "    <tr>\n",
       "      <th>55804</th>\n",
       "      <td>530001</td>\n",
       "      <td>2024-50</td>\n",
       "      <td>0</td>\n",
       "      <td>160</td>\n",
       "      <td>0</td>\n",
       "      <td>0</td>\n",
       "      <td>0</td>\n",
       "    </tr>\n",
       "    <tr>\n",
       "      <th>55807</th>\n",
       "      <td>530001</td>\n",
       "      <td>2024-51</td>\n",
       "      <td>0</td>\n",
       "      <td>151</td>\n",
       "      <td>0</td>\n",
       "      <td>0</td>\n",
       "      <td>0</td>\n",
       "    </tr>\n",
       "    <tr>\n",
       "      <th>55810</th>\n",
       "      <td>530001</td>\n",
       "      <td>2024-52</td>\n",
       "      <td>0</td>\n",
       "      <td>83</td>\n",
       "      <td>0</td>\n",
       "      <td>0</td>\n",
       "      <td>0</td>\n",
       "    </tr>\n",
       "  </tbody>\n",
       "</table>\n",
       "<p>55811 rows × 7 columns</p>\n",
       "</div>"
      ],
      "text/plain": [
       "       co_imed year_week  warning_aih    n  warning_aih_without_isolated  \\\n",
       "92      110001   2022-47            0   47                             0   \n",
       "95      110001   2022-48            0   51                             0   \n",
       "98      110001   2022-49            0   51                             0   \n",
       "101     110001   2022-50            0   59                             0   \n",
       "104     110001   2022-51            0   32                             0   \n",
       "...        ...       ...          ...  ...                           ...   \n",
       "55798   530001   2024-48            0  193                             0   \n",
       "55801   530001   2024-49            0  192                             0   \n",
       "55804   530001   2024-50            0  160                             0   \n",
       "55807   530001   2024-51            0  151                             0   \n",
       "55810   530001   2024-52            0   83                             0   \n",
       "\n",
       "       warning_aih_corect_with_consec  warning_final_aih  \n",
       "92                                  0                  0  \n",
       "95                                  0                  0  \n",
       "98                                  0                  0  \n",
       "101                                 0                  0  \n",
       "104                                 0                  0  \n",
       "...                               ...                ...  \n",
       "55798                               0                  0  \n",
       "55801                               0                  0  \n",
       "55804                               0                  0  \n",
       "55807                               0                  0  \n",
       "55810                               0                  0  \n",
       "\n",
       "[55811 rows x 7 columns]"
      ]
     },
     "execution_count": 38,
     "metadata": {},
     "output_type": "execute_result"
    }
   ],
   "source": [
    "dta2"
   ]
  },
  {
   "cell_type": "code",
   "execution_count": 35,
   "metadata": {},
   "outputs": [],
   "source": [
    "dta2.to_parquet('/Users/julianeoliveira/Documents/github/Bivariate_Anomaly_Detection_Primary_Health_Care_Drug_Selling_ILI_surveillance/Results/data_manuscript_warning_aih_imed2.parquet')\n",
    "\n",
    "                #/home/juliane.oliveira/workspace/Data/data_manuscript_warning_aih_imed.parquet')"
   ]
  },
  {
   "cell_type": "code",
   "execution_count": null,
   "metadata": {},
   "outputs": [],
   "source": []
  },
  {
   "cell_type": "code",
   "execution_count": null,
   "metadata": {},
   "outputs": [],
   "source": []
  }
 ],
 "metadata": {
  "kernelspec": {
   "display_name": "Python 3",
   "language": "python",
   "name": "python3"
  },
  "language_info": {
   "codemirror_mode": {
    "name": "ipython",
    "version": 3
   },
   "file_extension": ".py",
   "mimetype": "text/x-python",
   "name": "python",
   "nbconvert_exporter": "python",
   "pygments_lexer": "ipython3",
   "version": "3.8.5"
  }
 },
 "nbformat": 4,
 "nbformat_minor": 5
}
