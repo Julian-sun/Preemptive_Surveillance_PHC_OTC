{
 "cells": [
  {
   "cell_type": "code",
   "execution_count": 88,
   "metadata": {},
   "outputs": [],
   "source": [
    "import pandas as pd\n",
    "import numpy as np\n",
    "import scipy.stats\n",
    "from scipy import stats\n",
    "import early_warning_detection_functions\n",
    "import matplotlib.pyplot as plt\n"
   ]
  },
  {
   "cell_type": "markdown",
   "metadata": {},
   "source": [
    "# Read data"
   ]
  },
  {
   "cell_type": "code",
   "execution_count": 89,
   "metadata": {},
   "outputs": [],
   "source": [
    "df_aps = pd.read_parquet('/Users/julianeoliveira/Documents/github/Bivariate_Anomaly_Detection_Primary_Health_Care_Drug_Selling_ILI_surveillance/Results/data_manuscript_warning_phc_only_imed.parquet')\n",
    "\n",
    "df_otc = pd.read_parquet('/Users/julianeoliveira/Documents/github/Bivariate_Anomaly_Detection_Primary_Health_Care_Drug_Selling_ILI_surveillance/Results/data_manuscript_warning_otc_only_imed.parquet')\n",
    "\n",
    "df_aih = pd.read_parquet('/Users/julianeoliveira/Documents/github/Bivariate_Anomaly_Detection_Primary_Health_Care_Drug_Selling_ILI_surveillance/Results/data_manuscript_warning_aih_imed2.parquet')\n",
    "\n"
   ]
  },
  {
   "cell_type": "markdown",
   "metadata": {},
   "source": [
    "# Count warnings"
   ]
  },
  {
   "cell_type": "code",
   "execution_count": 96,
   "metadata": {},
   "outputs": [
    {
     "data": {
      "text/plain": [
       "co_imed                                                                 17781180169\n",
       "year_week                         2022-472022-482022-492022-502022-512022-522023...\n",
       "warning_aih                                                                    2577\n",
       "n                                                                           1803478\n",
       "warning_aih_without_isolated                                                   1663\n",
       "warning_aih_corect_with_consec                                                 1984\n",
       "warning_final_aih                                                               556\n",
       "dtype: object"
      ]
     },
     "execution_count": 96,
     "metadata": {},
     "output_type": "execute_result"
    }
   ],
   "source": [
    "df_aih.sum()"
   ]
  },
  {
   "cell_type": "code",
   "execution_count": 169,
   "metadata": {},
   "outputs": [
    {
     "data": {
      "text/plain": [
       "13106"
      ]
     },
     "execution_count": 169,
     "metadata": {},
     "output_type": "execute_result"
    }
   ],
   "source": [
    "df_aps.out_of_limits_above_phc_only.sum()"
   ]
  },
  {
   "cell_type": "code",
   "execution_count": 170,
   "metadata": {},
   "outputs": [
    {
     "data": {
      "text/plain": [
       "13066"
      ]
     },
     "execution_count": 170,
     "metadata": {},
     "output_type": "execute_result"
    }
   ],
   "source": [
    "df_otc.out_of_limits_above_otc_only.sum()"
   ]
  },
  {
   "cell_type": "code",
   "execution_count": 180,
   "metadata": {},
   "outputs": [],
   "source": [
    "serie1 = df_aih.groupby(['year_week'])[['warning_aih', 'warning_final_aih']].sum().reset_index()"
   ]
  },
  {
   "cell_type": "code",
   "execution_count": 181,
   "metadata": {},
   "outputs": [],
   "source": [
    "serie2 = df_aps.groupby(['year_week', 'year_week_ts'])['out_of_limits_above_phc_only'].sum().reset_index()"
   ]
  },
  {
   "cell_type": "code",
   "execution_count": 182,
   "metadata": {},
   "outputs": [],
   "source": [
    "serie3 = df_otc.groupby(['year_week'])['out_of_limits_above_otc_only'].sum().reset_index()"
   ]
  },
  {
   "cell_type": "code",
   "execution_count": 183,
   "metadata": {},
   "outputs": [],
   "source": [
    "res1 = serie2.merge(serie1, on='year_week', how='left')\n",
    "\n",
    "res2 = res1.merge(serie3, on='year_week', how='left')"
   ]
  },
  {
   "cell_type": "code",
   "execution_count": 184,
   "metadata": {},
   "outputs": [
    {
     "data": {
      "text/html": [
       "<div>\n",
       "<style scoped>\n",
       "    .dataframe tbody tr th:only-of-type {\n",
       "        vertical-align: middle;\n",
       "    }\n",
       "\n",
       "    .dataframe tbody tr th {\n",
       "        vertical-align: top;\n",
       "    }\n",
       "\n",
       "    .dataframe thead th {\n",
       "        text-align: right;\n",
       "    }\n",
       "</style>\n",
       "<table border=\"1\" class=\"dataframe\">\n",
       "  <thead>\n",
       "    <tr style=\"text-align: right;\">\n",
       "      <th></th>\n",
       "      <th>year_week</th>\n",
       "      <th>year_week_ts</th>\n",
       "      <th>out_of_limits_above_phc_only</th>\n",
       "      <th>warning_aih</th>\n",
       "      <th>warning_final_aih</th>\n",
       "      <th>out_of_limits_above_otc_only</th>\n",
       "    </tr>\n",
       "  </thead>\n",
       "  <tbody>\n",
       "    <tr>\n",
       "      <th>0</th>\n",
       "      <td>2022-47</td>\n",
       "      <td>2022-11-21</td>\n",
       "      <td>0</td>\n",
       "      <td>3</td>\n",
       "      <td>1</td>\n",
       "      <td>0</td>\n",
       "    </tr>\n",
       "    <tr>\n",
       "      <th>1</th>\n",
       "      <td>2022-48</td>\n",
       "      <td>2022-11-28</td>\n",
       "      <td>0</td>\n",
       "      <td>4</td>\n",
       "      <td>0</td>\n",
       "      <td>0</td>\n",
       "    </tr>\n",
       "    <tr>\n",
       "      <th>2</th>\n",
       "      <td>2022-49</td>\n",
       "      <td>2022-12-05</td>\n",
       "      <td>0</td>\n",
       "      <td>3</td>\n",
       "      <td>0</td>\n",
       "      <td>0</td>\n",
       "    </tr>\n",
       "    <tr>\n",
       "      <th>3</th>\n",
       "      <td>2022-50</td>\n",
       "      <td>2022-12-12</td>\n",
       "      <td>0</td>\n",
       "      <td>3</td>\n",
       "      <td>0</td>\n",
       "      <td>0</td>\n",
       "    </tr>\n",
       "    <tr>\n",
       "      <th>4</th>\n",
       "      <td>2022-51</td>\n",
       "      <td>2022-12-19</td>\n",
       "      <td>21</td>\n",
       "      <td>3</td>\n",
       "      <td>0</td>\n",
       "      <td>45</td>\n",
       "    </tr>\n",
       "    <tr>\n",
       "      <th>...</th>\n",
       "      <td>...</td>\n",
       "      <td>...</td>\n",
       "      <td>...</td>\n",
       "      <td>...</td>\n",
       "      <td>...</td>\n",
       "      <td>...</td>\n",
       "    </tr>\n",
       "    <tr>\n",
       "      <th>105</th>\n",
       "      <td>2024-48</td>\n",
       "      <td>2024-11-25</td>\n",
       "      <td>168</td>\n",
       "      <td>0</td>\n",
       "      <td>0</td>\n",
       "      <td>153</td>\n",
       "    </tr>\n",
       "    <tr>\n",
       "      <th>106</th>\n",
       "      <td>2024-49</td>\n",
       "      <td>2024-12-02</td>\n",
       "      <td>282</td>\n",
       "      <td>0</td>\n",
       "      <td>0</td>\n",
       "      <td>107</td>\n",
       "    </tr>\n",
       "    <tr>\n",
       "      <th>107</th>\n",
       "      <td>2024-50</td>\n",
       "      <td>2024-12-09</td>\n",
       "      <td>275</td>\n",
       "      <td>0</td>\n",
       "      <td>0</td>\n",
       "      <td>128</td>\n",
       "    </tr>\n",
       "    <tr>\n",
       "      <th>108</th>\n",
       "      <td>2024-51</td>\n",
       "      <td>2024-12-16</td>\n",
       "      <td>189</td>\n",
       "      <td>0</td>\n",
       "      <td>0</td>\n",
       "      <td>74</td>\n",
       "    </tr>\n",
       "    <tr>\n",
       "      <th>109</th>\n",
       "      <td>2024-52</td>\n",
       "      <td>2024-12-23</td>\n",
       "      <td>1</td>\n",
       "      <td>0</td>\n",
       "      <td>0</td>\n",
       "      <td>18</td>\n",
       "    </tr>\n",
       "  </tbody>\n",
       "</table>\n",
       "<p>110 rows × 6 columns</p>\n",
       "</div>"
      ],
      "text/plain": [
       "    year_week year_week_ts  out_of_limits_above_phc_only  warning_aih  \\\n",
       "0     2022-47   2022-11-21                             0            3   \n",
       "1     2022-48   2022-11-28                             0            4   \n",
       "2     2022-49   2022-12-05                             0            3   \n",
       "3     2022-50   2022-12-12                             0            3   \n",
       "4     2022-51   2022-12-19                            21            3   \n",
       "..        ...          ...                           ...          ...   \n",
       "105   2024-48   2024-11-25                           168            0   \n",
       "106   2024-49   2024-12-02                           282            0   \n",
       "107   2024-50   2024-12-09                           275            0   \n",
       "108   2024-51   2024-12-16                           189            0   \n",
       "109   2024-52   2024-12-23                             1            0   \n",
       "\n",
       "     warning_final_aih  out_of_limits_above_otc_only  \n",
       "0                    1                             0  \n",
       "1                    0                             0  \n",
       "2                    0                             0  \n",
       "3                    0                             0  \n",
       "4                    0                            45  \n",
       "..                 ...                           ...  \n",
       "105                  0                           153  \n",
       "106                  0                           107  \n",
       "107                  0                           128  \n",
       "108                  0                            74  \n",
       "109                  0                            18  \n",
       "\n",
       "[110 rows x 6 columns]"
      ]
     },
     "execution_count": 184,
     "metadata": {},
     "output_type": "execute_result"
    }
   ],
   "source": [
    "res2"
   ]
  },
  {
   "cell_type": "code",
   "execution_count": 197,
   "metadata": {},
   "outputs": [
    {
     "data": {
      "image/png": "[encoded data removed]",
      "text/plain": [
       "<Figure size 1008x504 with 1 Axes>"
      ]
     },
     "metadata": {
      "needs_background": "light"
     },
     "output_type": "display_data"
    }
   ],
   "source": [
    "col_aih = 'warning_final_aih'\n",
    "\n",
    "# Assuming 'res2' already exists and 'year_week_ts' is the date column\n",
    "dates = pd.to_datetime(res2['year_week_ts'])\n",
    "\n",
    "# Identify periods to highlight (replace with your logic to detect peaks)\n",
    "# Example: Highlight weeks where warning_aih exceeds a threshold (adjust as needed)\n",
    "highlight_weeks = res2[res2[col_aih] > res2[col_aih].quantile(0.7)]['year_week_ts']\n",
    "highlight_weeks = pd.to_datetime(highlight_weeks)\n",
    "\n",
    "# Plot setup\n",
    "plt.figure(figsize=(14, 7))\n",
    "\n",
    "# Plot with transparency for PHC and OTC\n",
    "plt.plot(dates, res2['out_of_limits_above_phc_only'], \n",
    "         label='Warning PHC', color='skyblue', alpha=0.5, linewidth=1.5)\n",
    "\n",
    "plt.plot(dates, res2['out_of_limits_above_otc_only'], \n",
    "         label='Warning OTC', color='lightcoral', alpha=0.5, linewidth=1.5)\n",
    "\n",
    "# Bold line for AIH warnings\n",
    "plt.plot(dates, res2[col_aih], \n",
    "         label='Warning Hospitalizations', color='darkred', linewidth=2.5)\n",
    "\n",
    "# Add vertical highlight bands for peak weeks\n",
    "for week in highlight_weeks:\n",
    "    plt.axvspan(week - pd.Timedelta(days=3), week + pd.Timedelta(days=3), \n",
    "                color='lightgray', alpha=0.5)\n",
    "\n",
    "# Format plot\n",
    "plt.xlabel('Epidemiological Week', fontsize=16)\n",
    "plt.ylabel('Frequency of Early Hospitalization Warnings', fontsize=16)\n",
    "plt.xticks(fontsize=14)\n",
    "plt.yticks(fontsize=14)\n",
    "\n",
    "plt.legend()\n",
    "plt.grid(True, linestyle='--', alpha=0.6)\n",
    "\n",
    "# Show plot\n",
    "plt.tight_layout()\n",
    "plt.show()\n"
   ]
  },
  {
   "cell_type": "code",
   "execution_count": 198,
   "metadata": {},
   "outputs": [
    {
     "data": {
      "text/plain": [
       "count    110.000000\n",
       "mean     118.781818\n",
       "std       89.875080\n",
       "min        0.000000\n",
       "25%       44.250000\n",
       "50%      104.000000\n",
       "75%      164.250000\n",
       "max      403.000000\n",
       "Name: out_of_limits_above_otc_only, dtype: float64"
      ]
     },
     "execution_count": 198,
     "metadata": {},
     "output_type": "execute_result"
    }
   ],
   "source": [
    "res2.out_of_limits_above_otc_only.describe()"
   ]
  },
  {
   "cell_type": "code",
   "execution_count": 199,
   "metadata": {},
   "outputs": [
    {
     "data": {
      "text/html": [
       "<div>\n",
       "<style scoped>\n",
       "    .dataframe tbody tr th:only-of-type {\n",
       "        vertical-align: middle;\n",
       "    }\n",
       "\n",
       "    .dataframe tbody tr th {\n",
       "        vertical-align: top;\n",
       "    }\n",
       "\n",
       "    .dataframe thead th {\n",
       "        text-align: right;\n",
       "    }\n",
       "</style>\n",
       "<table border=\"1\" class=\"dataframe\">\n",
       "  <thead>\n",
       "    <tr style=\"text-align: right;\">\n",
       "      <th></th>\n",
       "      <th>year_week</th>\n",
       "      <th>year_week_ts</th>\n",
       "      <th>out_of_limits_above_phc_only</th>\n",
       "      <th>warning_aih</th>\n",
       "      <th>warning_final_aih</th>\n",
       "      <th>out_of_limits_above_otc_only</th>\n",
       "    </tr>\n",
       "  </thead>\n",
       "  <tbody>\n",
       "    <tr>\n",
       "      <th>17</th>\n",
       "      <td>2023-12</td>\n",
       "      <td>2023-03-20</td>\n",
       "      <td>473</td>\n",
       "      <td>41</td>\n",
       "      <td>18</td>\n",
       "      <td>302</td>\n",
       "    </tr>\n",
       "    <tr>\n",
       "      <th>50</th>\n",
       "      <td>2023-45</td>\n",
       "      <td>2023-11-06</td>\n",
       "      <td>447</td>\n",
       "      <td>3</td>\n",
       "      <td>1</td>\n",
       "      <td>234</td>\n",
       "    </tr>\n",
       "    <tr>\n",
       "      <th>68</th>\n",
       "      <td>2024-11</td>\n",
       "      <td>2024-03-11</td>\n",
       "      <td>430</td>\n",
       "      <td>11</td>\n",
       "      <td>2</td>\n",
       "      <td>245</td>\n",
       "    </tr>\n",
       "  </tbody>\n",
       "</table>\n",
       "</div>"
      ],
      "text/plain": [
       "   year_week year_week_ts  out_of_limits_above_phc_only  warning_aih  \\\n",
       "17   2023-12   2023-03-20                           473           41   \n",
       "50   2023-45   2023-11-06                           447            3   \n",
       "68   2024-11   2024-03-11                           430           11   \n",
       "\n",
       "    warning_final_aih  out_of_limits_above_otc_only  \n",
       "17                 18                           302  \n",
       "50                  1                           234  \n",
       "68                  2                           245  "
      ]
     },
     "execution_count": 199,
     "metadata": {},
     "output_type": "execute_result"
    }
   ],
   "source": [
    "res2[res2.out_of_limits_above_phc_only >=  400]"
   ]
  },
  {
   "cell_type": "code",
   "execution_count": 200,
   "metadata": {},
   "outputs": [],
   "source": [
    "#res2[res2.out_of_limits_above_otc_only >=  200]"
   ]
  },
  {
   "cell_type": "code",
   "execution_count": 201,
   "metadata": {
    "scrolled": true
   },
   "outputs": [],
   "source": [
    "#res2[res2['warning_aih'] > res2['warning_aih'].quantile(0.7)]['year_week_ts']"
   ]
  },
  {
   "cell_type": "code",
   "execution_count": 202,
   "metadata": {},
   "outputs": [],
   "source": [
    "#res2[res2['out_of_limits_above_otc_only'] > res2['out_of_limits_above_otc_only'].quantile(0.7)]['year_week_ts']"
   ]
  },
  {
   "cell_type": "markdown",
   "metadata": {},
   "source": [
    "# Counting antecipations"
   ]
  },
  {
   "cell_type": "code",
   "execution_count": 203,
   "metadata": {},
   "outputs": [],
   "source": [
    "def antici_count(data_res, col_warn_s1, col_warn_s2, col_code):\n",
    "    \"\"\"\n",
    "    Function to compute anticipated counts of warnings and missed warnings \n",
    "    across different lead times per unique region.\n",
    "    \n",
    "    Parameters:\n",
    "    data_res (pd.DataFrame): Input DataFrame.\n",
    "    col_warn_s1 (str): Column name for the primary warning signal (e.g., PHC warnings).\n",
    "    col_warn_s2 (str): Column name for the secondary warning signal (e.g., AIH warnings).\n",
    "    col_code (str): Column name identifying the region.\n",
    "\n",
    "    Returns:\n",
    "    pd.DataFrame: Summary DataFrame with counts of early, concurrent, and missed warnings.\n",
    "    \"\"\"\n",
    "    \n",
    "    lst_count = []\n",
    "\n",
    "    for code in data_res[col_code].unique():\n",
    "    \n",
    "        dta = data_res[data_res[col_code] == code].copy()  # Use only data for the current region\n",
    "\n",
    "        # Find sets based on PHC warnings (col_warn_s1) and AIH warnings (col_warn_s2) at different lags\n",
    "        set3 = dta[(dta[col_warn_s1] == 1) & (dta[col_warn_s2].shift(-3) == 1)].index + 3\n",
    "        set2 = dta[(dta[col_warn_s1] == 1) & (dta[col_warn_s2].shift(-3) == 0) & (dta[col_warn_s2].shift(-2) == 1)].index + 2\n",
    "        set1 = dta[(dta[col_warn_s1] == 1) & \n",
    "                   (dta[col_warn_s2].shift(-3) == 0) & \n",
    "                   (dta[col_warn_s2].shift(-2) == 0) & \n",
    "                   (dta[col_warn_s2].shift(-1) == 1)].index + 1\n",
    "        set0 = dta[(dta[col_warn_s1] == 1) & \n",
    "                   (dta[col_warn_s2] == 1) & \n",
    "                   (dta[col_warn_s2].shift(-3) == 0) & \n",
    "                   (dta[col_warn_s2].shift(-2) == 0) & \n",
    "                   (dta[col_warn_s2].shift(-1) == 0)].index\n",
    "\n",
    "        # Warnings in PHC right after an AIH warning (possibly not anticipated but concurrent)\n",
    "        set1_after = dta[(dta[col_warn_s1].shift(-1) == 1) & (dta[col_warn_s2] == 1)].index\n",
    "\n",
    "        # Compute counts of warnings at different lead times\n",
    "        n3 = len(set3)\n",
    "        n2 = len(set(set2) - set(set3))\n",
    "        n1 = len((set(set1) - set(set3)) - set(set2))\n",
    "        n0 = len(((set(set0) - set(set3)) - set(set2)) - set(set1))\n",
    "        n1_after = len((((set(set1_after) - set(set3)) - set(set2)) - set(set1)) - set(set0))\n",
    "\n",
    "        # Drop all anticipated and concurrent warnings to count missed ones\n",
    "        ind_drop = set(set3) | set(set2) | set(set1) | set(set0) | set(set1_after)\n",
    "        missed = dta.drop(index=ind_drop)[col_warn_s2].sum()\n",
    "\n",
    "        # Create the results dictionary for this region\n",
    "        data = {\n",
    "            col_code: [code],\n",
    "            'n3': [n3],\n",
    "            'n2': [n2],\n",
    "            'n1': [n1],\n",
    "            'n0': [n0],\n",
    "            'n1_after': [n1_after],\n",
    "            'missed': [missed],\n",
    "            'total_aih_warning': [dta[col_warn_s2].sum()]\n",
    "        }\n",
    "\n",
    "        # Append to results list\n",
    "        data_output = pd.DataFrame(data)\n",
    "        lst_count.append(data_output)\n",
    "\n",
    "    # Combine all results into a single DataFrame\n",
    "    df_warning_count = pd.concat(lst_count, ignore_index=True)\n",
    "    \n",
    "    return df_warning_count\n"
   ]
  },
  {
   "cell_type": "code",
   "execution_count": 204,
   "metadata": {},
   "outputs": [],
   "source": [
    "def sen_spe(df,warning_local_health, col):\n",
    "    # Calculate True Positives, False Negatives, True Negatives, and False Positives\n",
    "    TP = ((df[warning_local_health] == 1) & (df[col] == 1)).sum()\n",
    "    FN = ((df[warning_local_health] == 1) & (df[col] == 0)).sum()\n",
    "    TN = ((df[warning_local_health] == 0) & (df[col] == 0)).sum()\n",
    "    FP = ((df[warning_local_health] == 0) & (df[col] == 1)).sum()\n",
    "\n",
    "    # Calculate Sensitivity and Specificity\n",
    "    sensitivity = TP / (TP + FN) if (TP + FN) > 0 else 0\n",
    "    specificity = TN / (TN + FP) if (TN + FP) > 0 else 0\n",
    "    \n",
    "    return sensitivity, specificity"
   ]
  },
  {
   "cell_type": "markdown",
   "metadata": {},
   "source": [
    "### APS e AIH"
   ]
  },
  {
   "cell_type": "code",
   "execution_count": 209,
   "metadata": {},
   "outputs": [],
   "source": [
    "dta1 = df_aps[[ 'co_imed', 'Nome_imed', 'year_week', 'year_week_ts', 'out_of_limits_above_phc_only']]\n",
    "dta2 = df_otc[[ 'co_imed', 'year_week', 'out_of_limits_above_otc_only']]\n",
    "dta3 = df_aih[[ 'co_imed', 'year_week', 'warning_final_aih']]\n",
    "\n",
    "\n",
    "result = dta1.merge(dta2, left_on=['co_imed','year_week'], right_on=['co_imed','year_week'])\n",
    "\n",
    "result = result.merge(dta3, left_on=['co_imed','year_week'], right_on=['co_imed','year_week'])"
   ]
  },
  {
   "cell_type": "code",
   "execution_count": 210,
   "metadata": {},
   "outputs": [],
   "source": [
    "df_warning_count = antici_count(result, 'out_of_limits_above_phc_only', 'warning_final_aih', 'co_imed')"
   ]
  },
  {
   "cell_type": "code",
   "execution_count": 211,
   "metadata": {},
   "outputs": [
    {
     "data": {
      "text/plain": [
       "556"
      ]
     },
     "execution_count": 211,
     "metadata": {},
     "output_type": "execute_result"
    }
   ],
   "source": [
    "#Total warning aih\n",
    "df_warning_count.total_aih_warning.sum()"
   ]
  },
  {
   "cell_type": "code",
   "execution_count": 212,
   "metadata": {},
   "outputs": [
    {
     "name": "stdout",
     "output_type": "stream",
     "text": [
      "302 54.3\n"
     ]
    }
   ],
   "source": [
    "# 1 to 3 weeks early\n",
    "\n",
    "print(df_warning_count.n3.sum() + df_warning_count.n2.sum() + df_warning_count.n1.sum(), \n",
    "      round((df_warning_count.n3.sum() + df_warning_count.n2.sum() + df_warning_count.n1.sum())*100/df_warning_count.total_aih_warning.sum(),1))"
   ]
  },
  {
   "cell_type": "code",
   "execution_count": 213,
   "metadata": {},
   "outputs": [
    {
     "name": "stdout",
     "output_type": "stream",
     "text": [
      "81 14.6\n"
     ]
    }
   ],
   "source": [
    "# 0 to 1 week after\n",
    "\n",
    "print(df_warning_count.n0.sum() + df_warning_count.n1_after.sum(), \n",
    "      round((df_warning_count.n0.sum() + df_warning_count.n1_after.sum())*100/df_warning_count.total_aih_warning.sum(),1))"
   ]
  },
  {
   "cell_type": "code",
   "execution_count": 214,
   "metadata": {},
   "outputs": [
    {
     "name": "stdout",
     "output_type": "stream",
     "text": [
      "173 31.1\n"
     ]
    }
   ],
   "source": [
    "# Missed\n",
    "\n",
    "print(df_warning_count.missed.sum(), \n",
    "      round(df_warning_count.missed.sum()*100/df_warning_count.total_aih_warning.sum(),1))"
   ]
  },
  {
   "cell_type": "code",
   "execution_count": 215,
   "metadata": {},
   "outputs": [],
   "source": [
    "TP = df_warning_count.n3.sum() + df_warning_count.n2.sum() + df_warning_count.n1.sum() + df_warning_count.n0.sum()\n",
    "\n",
    "Se = TP*100/df_warning_count.total_aih_warning.sum()\n",
    "\n",
    "Se_3_1 = (df_warning_count.n3.sum() + df_warning_count.n2.sum() + df_warning_count.n1.sum())*100/df_warning_count.total_aih_warning.sum() \n"
   ]
  },
  {
   "cell_type": "code",
   "execution_count": 216,
   "metadata": {},
   "outputs": [
    {
     "data": {
      "text/plain": [
       "62.76978417266187"
      ]
     },
     "execution_count": 216,
     "metadata": {},
     "output_type": "execute_result"
    }
   ],
   "source": [
    "Se"
   ]
  },
  {
   "cell_type": "code",
   "execution_count": 217,
   "metadata": {},
   "outputs": [
    {
     "data": {
      "text/plain": [
       "(0.2949640287769784, 0.7667722378065334)"
      ]
     },
     "execution_count": 217,
     "metadata": {},
     "output_type": "execute_result"
    }
   ],
   "source": [
    "sen_spe(result,'warning_final_aih', 'out_of_limits_above_phc_only')"
   ]
  },
  {
   "cell_type": "markdown",
   "metadata": {},
   "source": [
    "### OTC and AIH"
   ]
  },
  {
   "cell_type": "code",
   "execution_count": 140,
   "metadata": {},
   "outputs": [],
   "source": [
    "dta1 = df_aps[[ 'co_imed', 'Nome_imed', 'year_week', 'year_week_ts', 'out_of_limits_above_phc_only']]\n",
    "dta2 = df_otc[[ 'co_imed', 'year_week', 'out_of_limits_above_otc_only']]\n",
    "dta3 = df_aih[[ 'co_imed', 'year_week', 'warning_aih']]\n",
    "\n",
    "\n",
    "result = dta1.merge(dta2, left_on=['co_imed','year_week'], right_on=['co_imed','year_week'])\n",
    "\n",
    "result = result.merge(dta3, left_on=['co_imed','year_week'], right_on=['co_imed','year_week'])"
   ]
  },
  {
   "cell_type": "code",
   "execution_count": 141,
   "metadata": {},
   "outputs": [],
   "source": [
    "df_warning_count = antici_count(result, 'out_of_limits_above_otc_only', 'warning_aih', 'co_imed')"
   ]
  },
  {
   "cell_type": "code",
   "execution_count": 142,
   "metadata": {},
   "outputs": [],
   "source": [
    "df_warning_count.to_parquet('/Users/julianeoliveira/Documents/github/Bivariate_Anomaly_Detection_Primary_Health_Care_Drug_Selling_ILI_surveillance/Results/timing_otc_aih.parquet')"
   ]
  },
  {
   "cell_type": "code",
   "execution_count": 143,
   "metadata": {},
   "outputs": [
    {
     "data": {
      "text/plain": [
       "2577"
      ]
     },
     "execution_count": 143,
     "metadata": {},
     "output_type": "execute_result"
    }
   ],
   "source": [
    "#Total warning aih\n",
    "df_warning_count.total_aih_warning.sum()"
   ]
  },
  {
   "cell_type": "code",
   "execution_count": 144,
   "metadata": {},
   "outputs": [
    {
     "name": "stdout",
     "output_type": "stream",
     "text": [
      "1238 48.0\n"
     ]
    }
   ],
   "source": [
    "# 1 to 3 weeks early\n",
    "\n",
    "print(df_warning_count.n3.sum() + df_warning_count.n2.sum() + df_warning_count.n1.sum(), \n",
    "      round((df_warning_count.n3.sum() + df_warning_count.n2.sum() + df_warning_count.n1.sum())*100/df_warning_count.total_aih_warning.sum(),1))"
   ]
  },
  {
   "cell_type": "code",
   "execution_count": 145,
   "metadata": {},
   "outputs": [
    {
     "name": "stdout",
     "output_type": "stream",
     "text": [
      "401 15.6\n"
     ]
    }
   ],
   "source": [
    "# 0 to 1 week after\n",
    "\n",
    "print(df_warning_count.n0.sum() + df_warning_count.n1_after.sum(), \n",
    "      round((df_warning_count.n0.sum() + df_warning_count.n1_after.sum())*100/df_warning_count.total_aih_warning.sum(),1))"
   ]
  },
  {
   "cell_type": "code",
   "execution_count": 146,
   "metadata": {},
   "outputs": [
    {
     "name": "stdout",
     "output_type": "stream",
     "text": [
      "938 36.4\n"
     ]
    }
   ],
   "source": [
    "# Missed\n",
    "\n",
    "print(df_warning_count.missed.sum(), \n",
    "      round(df_warning_count.missed.sum()*100/df_warning_count.total_aih_warning.sum(),1))"
   ]
  },
  {
   "cell_type": "code",
   "execution_count": 147,
   "metadata": {},
   "outputs": [],
   "source": [
    "TP = df_warning_count.n3.sum() + df_warning_count.n2.sum() + df_warning_count.n1.sum() + df_warning_count.n0.sum()\n",
    "\n",
    "Se = TP*100/df_warning_count.total_aih_warning.sum()\n",
    "\n",
    "Se_3_1 = (df_warning_count.n3.sum() + df_warning_count.n2.sum() + df_warning_count.n1.sum())*100/df_warning_count.total_aih_warning.sum() \n"
   ]
  },
  {
   "cell_type": "code",
   "execution_count": 148,
   "metadata": {},
   "outputs": [
    {
     "data": {
      "text/plain": [
       "51.726814124951495"
      ]
     },
     "execution_count": 148,
     "metadata": {},
     "output_type": "execute_result"
    }
   ],
   "source": [
    "Se"
   ]
  },
  {
   "cell_type": "code",
   "execution_count": 149,
   "metadata": {},
   "outputs": [
    {
     "data": {
      "text/plain": [
       "(0.2801707411719053, 0.7692264342337604)"
      ]
     },
     "execution_count": 149,
     "metadata": {},
     "output_type": "execute_result"
    }
   ],
   "source": [
    "sen_spe(result,'warning_aih', 'out_of_limits_above_otc_only')"
   ]
  },
  {
   "cell_type": "code",
   "execution_count": 150,
   "metadata": {},
   "outputs": [],
   "source": [
    "dta1 = df_aps[[ 'co_imed', 'Nome_imed', 'year_week', 'year_week_ts', 'out_of_limits_above_phc_only']]\n",
    "dta2 = df_otc[[ 'co_imed', 'year_week', 'out_of_limits_above_otc_only']]\n",
    "dta3 = df_aih[[ 'co_imed', 'year_week', 'warning_aih_corect_with_consec']]\n",
    "\n",
    "\n",
    "result = dta1.merge(dta2, left_on=['co_imed','year_week'], right_on=['co_imed','year_week'])\n",
    "\n",
    "result = result.merge(dta3, left_on=['co_imed','year_week'], right_on=['co_imed','year_week'])"
   ]
  },
  {
   "cell_type": "code",
   "execution_count": 151,
   "metadata": {},
   "outputs": [],
   "source": [
    "df_warning_count = antici_count(result, 'out_of_limits_above_otc_only', 'warning_aih_corect_with_consec', 'co_imed')"
   ]
  },
  {
   "cell_type": "code",
   "execution_count": 152,
   "metadata": {},
   "outputs": [
    {
     "data": {
      "text/plain": [
       "1984"
      ]
     },
     "execution_count": 152,
     "metadata": {},
     "output_type": "execute_result"
    }
   ],
   "source": [
    "#Total warning aih\n",
    "df_warning_count.total_aih_warning.sum()"
   ]
  },
  {
   "cell_type": "code",
   "execution_count": 153,
   "metadata": {},
   "outputs": [
    {
     "name": "stdout",
     "output_type": "stream",
     "text": [
      "813 41.0\n"
     ]
    }
   ],
   "source": [
    "# 1 to 3 weeks early\n",
    "\n",
    "print(df_warning_count.n3.sum() + df_warning_count.n2.sum() + df_warning_count.n1.sum(), \n",
    "      round((df_warning_count.n3.sum() + df_warning_count.n2.sum() + df_warning_count.n1.sum())*100/df_warning_count.total_aih_warning.sum(),1))"
   ]
  },
  {
   "cell_type": "code",
   "execution_count": 154,
   "metadata": {},
   "outputs": [
    {
     "name": "stdout",
     "output_type": "stream",
     "text": [
      "352 17.7\n"
     ]
    }
   ],
   "source": [
    "# 0 to 1 week after\n",
    "\n",
    "print(df_warning_count.n0.sum() + df_warning_count.n1_after.sum(), \n",
    "      round((df_warning_count.n0.sum() + df_warning_count.n1_after.sum())*100/df_warning_count.total_aih_warning.sum(),1))"
   ]
  },
  {
   "cell_type": "code",
   "execution_count": 155,
   "metadata": {
    "scrolled": true
   },
   "outputs": [
    {
     "name": "stdout",
     "output_type": "stream",
     "text": [
      "819 41.3\n"
     ]
    }
   ],
   "source": [
    "# Missed\n",
    "\n",
    "print(df_warning_count.missed.sum(), \n",
    "      round(df_warning_count.missed.sum()*100/df_warning_count.total_aih_warning.sum(),1))"
   ]
  },
  {
   "cell_type": "code",
   "execution_count": 156,
   "metadata": {},
   "outputs": [],
   "source": [
    "TP = df_warning_count.n3.sum() + df_warning_count.n2.sum() + df_warning_count.n1.sum() + df_warning_count.n0.sum()\n",
    "\n",
    "Se = TP*100/df_warning_count.total_aih_warning.sum()\n",
    "\n",
    "Se_3_1 = (df_warning_count.n3.sum() + df_warning_count.n2.sum() + df_warning_count.n1.sum())*100/df_warning_count.total_aih_warning.sum() \n"
   ]
  },
  {
   "cell_type": "code",
   "execution_count": 157,
   "metadata": {},
   "outputs": [
    {
     "data": {
      "text/plain": [
       "42.69153225806452"
      ]
     },
     "execution_count": 157,
     "metadata": {},
     "output_type": "execute_result"
    }
   ],
   "source": [
    "Se"
   ]
  },
  {
   "cell_type": "code",
   "execution_count": 158,
   "metadata": {},
   "outputs": [
    {
     "data": {
      "text/plain": [
       "(0.2762096774193548, 0.7685362364612555)"
      ]
     },
     "execution_count": 158,
     "metadata": {},
     "output_type": "execute_result"
    }
   ],
   "source": [
    "sen_spe(result,'warning_aih_corect_with_consec', 'out_of_limits_above_otc_only')"
   ]
  },
  {
   "cell_type": "code",
   "execution_count": 159,
   "metadata": {},
   "outputs": [],
   "source": [
    "dta1 = df_aps[[ 'co_imed', 'Nome_imed', 'year_week', 'year_week_ts', 'out_of_limits_above_phc_only']]\n",
    "dta2 = df_otc[[ 'co_imed', 'year_week', 'out_of_limits_above_otc_only']]\n",
    "dta3 = df_aih[[ 'co_imed', 'year_week', 'warning_final_aih']]\n",
    "\n",
    "\n",
    "result = dta1.merge(dta2, left_on=['co_imed','year_week'], right_on=['co_imed','year_week'])\n",
    "\n",
    "result = result.merge(dta3, left_on=['co_imed','year_week'], right_on=['co_imed','year_week'])"
   ]
  },
  {
   "cell_type": "code",
   "execution_count": 160,
   "metadata": {},
   "outputs": [],
   "source": [
    "df_warning_count = antici_count(result, 'out_of_limits_above_otc_only', 'warning_final_aih', 'co_imed')"
   ]
  },
  {
   "cell_type": "code",
   "execution_count": 161,
   "metadata": {},
   "outputs": [
    {
     "data": {
      "text/plain": [
       "556"
      ]
     },
     "execution_count": 161,
     "metadata": {},
     "output_type": "execute_result"
    }
   ],
   "source": [
    "#Total warning aih\n",
    "df_warning_count.total_aih_warning.sum()"
   ]
  },
  {
   "cell_type": "code",
   "execution_count": 162,
   "metadata": {},
   "outputs": [
    {
     "name": "stdout",
     "output_type": "stream",
     "text": [
      "355 63.8\n"
     ]
    }
   ],
   "source": [
    "# 1 to 3 weeks early\n",
    "\n",
    "print(df_warning_count.n3.sum() + df_warning_count.n2.sum() + df_warning_count.n1.sum(), \n",
    "      round((df_warning_count.n3.sum() + df_warning_count.n2.sum() + df_warning_count.n1.sum())*100/df_warning_count.total_aih_warning.sum(),1))"
   ]
  },
  {
   "cell_type": "code",
   "execution_count": 163,
   "metadata": {},
   "outputs": [
    {
     "name": "stdout",
     "output_type": "stream",
     "text": [
      "75 13.5\n"
     ]
    }
   ],
   "source": [
    "# 0 to 1 week after\n",
    "\n",
    "print(df_warning_count.n0.sum() + df_warning_count.n1_after.sum(), \n",
    "      round((df_warning_count.n0.sum() + df_warning_count.n1_after.sum())*100/df_warning_count.total_aih_warning.sum(),1))"
   ]
  },
  {
   "cell_type": "code",
   "execution_count": 164,
   "metadata": {},
   "outputs": [
    {
     "name": "stdout",
     "output_type": "stream",
     "text": [
      "126 22.7\n"
     ]
    }
   ],
   "source": [
    "# Missed\n",
    "\n",
    "print(df_warning_count.missed.sum(), \n",
    "      round(df_warning_count.missed.sum()*100/df_warning_count.total_aih_warning.sum(),1))"
   ]
  },
  {
   "cell_type": "code",
   "execution_count": 165,
   "metadata": {},
   "outputs": [],
   "source": [
    "TP = df_warning_count.n3.sum() + df_warning_count.n2.sum() + df_warning_count.n1.sum() + df_warning_count.n0.sum()\n",
    "\n",
    "Se = TP*100/df_warning_count.total_aih_warning.sum()\n",
    "\n",
    "Se_3_1 = (df_warning_count.n3.sum() + df_warning_count.n2.sum() + df_warning_count.n1.sum())*100/df_warning_count.total_aih_warning.sum() \n"
   ]
  },
  {
   "cell_type": "code",
   "execution_count": 166,
   "metadata": {},
   "outputs": [
    {
     "data": {
      "text/plain": [
       "70.32374100719424"
      ]
     },
     "execution_count": 166,
     "metadata": {},
     "output_type": "execute_result"
    }
   ],
   "source": [
    "Se"
   ]
  },
  {
   "cell_type": "code",
   "execution_count": 167,
   "metadata": {},
   "outputs": [
    {
     "data": {
      "text/plain": [
       "(0.30035971223021585, 0.7676228395620306)"
      ]
     },
     "execution_count": 167,
     "metadata": {},
     "output_type": "execute_result"
    }
   ],
   "source": [
    "sen_spe(result,'warning_final_aih', 'out_of_limits_above_otc_only')"
   ]
  },
  {
   "cell_type": "markdown",
   "metadata": {},
   "source": [
    "## OTC and APS"
   ]
  },
  {
   "cell_type": "code",
   "execution_count": 213,
   "metadata": {},
   "outputs": [],
   "source": [
    "dta1 = df_aps[[ 'co_imed', 'Nome_imed', 'year_week', 'year_week_ts', 'out_of_limits_above_phc_only']]\n",
    "dta2 = df_otc[[ 'co_imed', 'year_week', 'out_of_limits_above_otc_only']]\n",
    "dta3 = df_aih[[ 'co_imed', 'year_week', 'warning_aih']]\n",
    "\n",
    "\n",
    "result = dta1.merge(dta2, left_on=['co_imed','year_week'], right_on=['co_imed','year_week'])\n",
    "\n",
    "result = result.merge(dta3, left_on=['co_imed','year_week'], right_on=['co_imed','year_week'])"
   ]
  },
  {
   "cell_type": "code",
   "execution_count": 216,
   "metadata": {},
   "outputs": [],
   "source": [
    "df_warning_count = antici_count(result, 'out_of_limits_above_otc_only', 'out_of_limits_above_phc_only', 'co_imed')"
   ]
  },
  {
   "cell_type": "code",
   "execution_count": 218,
   "metadata": {},
   "outputs": [
    {
     "data": {
      "text/html": [
       "<div>\n",
       "<style scoped>\n",
       "    .dataframe tbody tr th:only-of-type {\n",
       "        vertical-align: middle;\n",
       "    }\n",
       "\n",
       "    .dataframe tbody tr th {\n",
       "        vertical-align: top;\n",
       "    }\n",
       "\n",
       "    .dataframe thead th {\n",
       "        text-align: right;\n",
       "    }\n",
       "</style>\n",
       "<table border=\"1\" class=\"dataframe\">\n",
       "  <thead>\n",
       "    <tr style=\"text-align: right;\">\n",
       "      <th></th>\n",
       "      <th>co_imed</th>\n",
       "      <th>n3</th>\n",
       "      <th>n2</th>\n",
       "      <th>n1</th>\n",
       "      <th>n0</th>\n",
       "      <th>n1_after</th>\n",
       "      <th>missed</th>\n",
       "      <th>total_aih_warning</th>\n",
       "    </tr>\n",
       "  </thead>\n",
       "  <tbody>\n",
       "    <tr>\n",
       "      <th>0</th>\n",
       "      <td>120003</td>\n",
       "      <td>5</td>\n",
       "      <td>3</td>\n",
       "      <td>0</td>\n",
       "      <td>1</td>\n",
       "      <td>6</td>\n",
       "      <td>5</td>\n",
       "      <td>20</td>\n",
       "    </tr>\n",
       "    <tr>\n",
       "      <th>1</th>\n",
       "      <td>120004</td>\n",
       "      <td>4</td>\n",
       "      <td>4</td>\n",
       "      <td>0</td>\n",
       "      <td>0</td>\n",
       "      <td>8</td>\n",
       "      <td>2</td>\n",
       "      <td>18</td>\n",
       "    </tr>\n",
       "    <tr>\n",
       "      <th>2</th>\n",
       "      <td>270002</td>\n",
       "      <td>2</td>\n",
       "      <td>0</td>\n",
       "      <td>0</td>\n",
       "      <td>2</td>\n",
       "      <td>6</td>\n",
       "      <td>9</td>\n",
       "      <td>19</td>\n",
       "    </tr>\n",
       "    <tr>\n",
       "      <th>3</th>\n",
       "      <td>130007</td>\n",
       "      <td>4</td>\n",
       "      <td>1</td>\n",
       "      <td>0</td>\n",
       "      <td>2</td>\n",
       "      <td>6</td>\n",
       "      <td>8</td>\n",
       "      <td>21</td>\n",
       "    </tr>\n",
       "    <tr>\n",
       "      <th>4</th>\n",
       "      <td>160002</td>\n",
       "      <td>5</td>\n",
       "      <td>1</td>\n",
       "      <td>0</td>\n",
       "      <td>2</td>\n",
       "      <td>9</td>\n",
       "      <td>7</td>\n",
       "      <td>24</td>\n",
       "    </tr>\n",
       "    <tr>\n",
       "      <th>...</th>\n",
       "      <td>...</td>\n",
       "      <td>...</td>\n",
       "      <td>...</td>\n",
       "      <td>...</td>\n",
       "      <td>...</td>\n",
       "      <td>...</td>\n",
       "      <td>...</td>\n",
       "      <td>...</td>\n",
       "    </tr>\n",
       "    <tr>\n",
       "      <th>505</th>\n",
       "      <td>420023</td>\n",
       "      <td>3</td>\n",
       "      <td>2</td>\n",
       "      <td>0</td>\n",
       "      <td>1</td>\n",
       "      <td>5</td>\n",
       "      <td>8</td>\n",
       "      <td>19</td>\n",
       "    </tr>\n",
       "    <tr>\n",
       "      <th>506</th>\n",
       "      <td>350005</td>\n",
       "      <td>4</td>\n",
       "      <td>4</td>\n",
       "      <td>1</td>\n",
       "      <td>0</td>\n",
       "      <td>4</td>\n",
       "      <td>8</td>\n",
       "      <td>21</td>\n",
       "    </tr>\n",
       "    <tr>\n",
       "      <th>507</th>\n",
       "      <td>350039</td>\n",
       "      <td>6</td>\n",
       "      <td>1</td>\n",
       "      <td>2</td>\n",
       "      <td>1</td>\n",
       "      <td>8</td>\n",
       "      <td>2</td>\n",
       "      <td>20</td>\n",
       "    </tr>\n",
       "    <tr>\n",
       "      <th>508</th>\n",
       "      <td>350042</td>\n",
       "      <td>11</td>\n",
       "      <td>0</td>\n",
       "      <td>1</td>\n",
       "      <td>1</td>\n",
       "      <td>5</td>\n",
       "      <td>14</td>\n",
       "      <td>32</td>\n",
       "    </tr>\n",
       "    <tr>\n",
       "      <th>509</th>\n",
       "      <td>350049</td>\n",
       "      <td>12</td>\n",
       "      <td>0</td>\n",
       "      <td>0</td>\n",
       "      <td>0</td>\n",
       "      <td>4</td>\n",
       "      <td>5</td>\n",
       "      <td>21</td>\n",
       "    </tr>\n",
       "  </tbody>\n",
       "</table>\n",
       "<p>510 rows × 8 columns</p>\n",
       "</div>"
      ],
      "text/plain": [
       "     co_imed  n3  n2  n1  n0  n1_after  missed  total_aih_warning\n",
       "0     120003   5   3   0   1         6       5                 20\n",
       "1     120004   4   4   0   0         8       2                 18\n",
       "2     270002   2   0   0   2         6       9                 19\n",
       "3     130007   4   1   0   2         6       8                 21\n",
       "4     160002   5   1   0   2         9       7                 24\n",
       "..       ...  ..  ..  ..  ..       ...     ...                ...\n",
       "505   420023   3   2   0   1         5       8                 19\n",
       "506   350005   4   4   1   0         4       8                 21\n",
       "507   350039   6   1   2   1         8       2                 20\n",
       "508   350042  11   0   1   1         5      14                 32\n",
       "509   350049  12   0   0   0         4       5                 21\n",
       "\n",
       "[510 rows x 8 columns]"
      ]
     },
     "execution_count": 218,
     "metadata": {},
     "output_type": "execute_result"
    }
   ],
   "source": [
    "df_warning_count"
   ]
  },
  {
   "cell_type": "code",
   "execution_count": 219,
   "metadata": {},
   "outputs": [
    {
     "name": "stdout",
     "output_type": "stream",
     "text": [
      "3849 37.1\n"
     ]
    }
   ],
   "source": [
    "# 1 to 3 weeks early\n",
    "\n",
    "print(df_warning_count.n3.sum() + df_warning_count.n2.sum() + df_warning_count.n1.sum(), \n",
    "      round((df_warning_count.n3.sum() + df_warning_count.n2.sum() + df_warning_count.n1.sum())*100/df_warning_count.total_aih_warning.sum(),1))"
   ]
  },
  {
   "cell_type": "code",
   "execution_count": 220,
   "metadata": {},
   "outputs": [
    {
     "name": "stdout",
     "output_type": "stream",
     "text": [
      "2767 26.7\n"
     ]
    }
   ],
   "source": [
    "# 0 to 1 week after\n",
    "\n",
    "print(df_warning_count.n0.sum() + df_warning_count.n1_after.sum(), \n",
    "      round((df_warning_count.n0.sum() + df_warning_count.n1_after.sum())*100/df_warning_count.total_aih_warning.sum(),1))"
   ]
  },
  {
   "cell_type": "code",
   "execution_count": 221,
   "metadata": {},
   "outputs": [
    {
     "name": "stdout",
     "output_type": "stream",
     "text": [
      "3760 36.2\n"
     ]
    }
   ],
   "source": [
    "# Missed\n",
    "\n",
    "print(df_warning_count.missed.sum(), \n",
    "      round(df_warning_count.missed.sum()*100/df_warning_count.total_aih_warning.sum(),1))"
   ]
  },
  {
   "cell_type": "code",
   "execution_count": 222,
   "metadata": {},
   "outputs": [],
   "source": [
    "dta1 = df_aps[[ 'co_imed', 'Nome_imed', 'year_week', 'year_week_ts', 'out_of_limits_above_phc_only']]\n",
    "dta2 = df_otc[[ 'co_imed', 'year_week', 'out_of_limits_above_otc_only']]\n",
    "dta3 = df_aih[[ 'co_imed', 'year_week', 'warning_aih']]\n",
    "\n",
    "\n",
    "result = dta1.merge(dta2, left_on=['co_imed','year_week'], right_on=['co_imed','year_week'])\n",
    "\n",
    "result = result.merge(dta3, left_on=['co_imed','year_week'], right_on=['co_imed','year_week'])"
   ]
  },
  {
   "cell_type": "code",
   "execution_count": 223,
   "metadata": {},
   "outputs": [],
   "source": [
    "df_warning_count = antici_count(result, 'out_of_limits_above_phc_only', 'out_of_limits_above_otc_only', 'co_imed')"
   ]
  },
  {
   "cell_type": "code",
   "execution_count": 224,
   "metadata": {},
   "outputs": [
    {
     "data": {
      "text/html": [
       "<div>\n",
       "<style scoped>\n",
       "    .dataframe tbody tr th:only-of-type {\n",
       "        vertical-align: middle;\n",
       "    }\n",
       "\n",
       "    .dataframe tbody tr th {\n",
       "        vertical-align: top;\n",
       "    }\n",
       "\n",
       "    .dataframe thead th {\n",
       "        text-align: right;\n",
       "    }\n",
       "</style>\n",
       "<table border=\"1\" class=\"dataframe\">\n",
       "  <thead>\n",
       "    <tr style=\"text-align: right;\">\n",
       "      <th></th>\n",
       "      <th>co_imed</th>\n",
       "      <th>n3</th>\n",
       "      <th>n2</th>\n",
       "      <th>n1</th>\n",
       "      <th>n0</th>\n",
       "      <th>n1_after</th>\n",
       "      <th>missed</th>\n",
       "      <th>total_aih_warning</th>\n",
       "    </tr>\n",
       "  </thead>\n",
       "  <tbody>\n",
       "    <tr>\n",
       "      <th>0</th>\n",
       "      <td>120003</td>\n",
       "      <td>7</td>\n",
       "      <td>1</td>\n",
       "      <td>1</td>\n",
       "      <td>1</td>\n",
       "      <td>4</td>\n",
       "      <td>8</td>\n",
       "      <td>22</td>\n",
       "    </tr>\n",
       "    <tr>\n",
       "      <th>1</th>\n",
       "      <td>120004</td>\n",
       "      <td>8</td>\n",
       "      <td>2</td>\n",
       "      <td>0</td>\n",
       "      <td>1</td>\n",
       "      <td>7</td>\n",
       "      <td>2</td>\n",
       "      <td>20</td>\n",
       "    </tr>\n",
       "    <tr>\n",
       "      <th>2</th>\n",
       "      <td>270002</td>\n",
       "      <td>8</td>\n",
       "      <td>2</td>\n",
       "      <td>1</td>\n",
       "      <td>0</td>\n",
       "      <td>2</td>\n",
       "      <td>7</td>\n",
       "      <td>20</td>\n",
       "    </tr>\n",
       "    <tr>\n",
       "      <th>3</th>\n",
       "      <td>130007</td>\n",
       "      <td>8</td>\n",
       "      <td>3</td>\n",
       "      <td>0</td>\n",
       "      <td>0</td>\n",
       "      <td>3</td>\n",
       "      <td>10</td>\n",
       "      <td>24</td>\n",
       "    </tr>\n",
       "    <tr>\n",
       "      <th>4</th>\n",
       "      <td>160002</td>\n",
       "      <td>9</td>\n",
       "      <td>2</td>\n",
       "      <td>0</td>\n",
       "      <td>0</td>\n",
       "      <td>7</td>\n",
       "      <td>3</td>\n",
       "      <td>21</td>\n",
       "    </tr>\n",
       "    <tr>\n",
       "      <th>...</th>\n",
       "      <td>...</td>\n",
       "      <td>...</td>\n",
       "      <td>...</td>\n",
       "      <td>...</td>\n",
       "      <td>...</td>\n",
       "      <td>...</td>\n",
       "      <td>...</td>\n",
       "      <td>...</td>\n",
       "    </tr>\n",
       "    <tr>\n",
       "      <th>505</th>\n",
       "      <td>420023</td>\n",
       "      <td>3</td>\n",
       "      <td>0</td>\n",
       "      <td>2</td>\n",
       "      <td>0</td>\n",
       "      <td>4</td>\n",
       "      <td>12</td>\n",
       "      <td>21</td>\n",
       "    </tr>\n",
       "    <tr>\n",
       "      <th>506</th>\n",
       "      <td>350005</td>\n",
       "      <td>7</td>\n",
       "      <td>1</td>\n",
       "      <td>2</td>\n",
       "      <td>0</td>\n",
       "      <td>3</td>\n",
       "      <td>8</td>\n",
       "      <td>21</td>\n",
       "    </tr>\n",
       "    <tr>\n",
       "      <th>507</th>\n",
       "      <td>350039</td>\n",
       "      <td>12</td>\n",
       "      <td>1</td>\n",
       "      <td>0</td>\n",
       "      <td>0</td>\n",
       "      <td>5</td>\n",
       "      <td>6</td>\n",
       "      <td>24</td>\n",
       "    </tr>\n",
       "    <tr>\n",
       "      <th>508</th>\n",
       "      <td>350042</td>\n",
       "      <td>10</td>\n",
       "      <td>1</td>\n",
       "      <td>0</td>\n",
       "      <td>0</td>\n",
       "      <td>6</td>\n",
       "      <td>5</td>\n",
       "      <td>22</td>\n",
       "    </tr>\n",
       "    <tr>\n",
       "      <th>509</th>\n",
       "      <td>350049</td>\n",
       "      <td>10</td>\n",
       "      <td>2</td>\n",
       "      <td>0</td>\n",
       "      <td>2</td>\n",
       "      <td>6</td>\n",
       "      <td>6</td>\n",
       "      <td>26</td>\n",
       "    </tr>\n",
       "  </tbody>\n",
       "</table>\n",
       "<p>510 rows × 8 columns</p>\n",
       "</div>"
      ],
      "text/plain": [
       "     co_imed  n3  n2  n1  n0  n1_after  missed  total_aih_warning\n",
       "0     120003   7   1   1   1         4       8                 22\n",
       "1     120004   8   2   0   1         7       2                 20\n",
       "2     270002   8   2   1   0         2       7                 20\n",
       "3     130007   8   3   0   0         3      10                 24\n",
       "4     160002   9   2   0   0         7       3                 21\n",
       "..       ...  ..  ..  ..  ..       ...     ...                ...\n",
       "505   420023   3   0   2   0         4      12                 21\n",
       "506   350005   7   1   2   0         3       8                 21\n",
       "507   350039  12   1   0   0         5       6                 24\n",
       "508   350042  10   1   0   0         6       5                 22\n",
       "509   350049  10   2   0   2         6       6                 26\n",
       "\n",
       "[510 rows x 8 columns]"
      ]
     },
     "execution_count": 224,
     "metadata": {},
     "output_type": "execute_result"
    }
   ],
   "source": [
    "df_warning_count"
   ]
  },
  {
   "cell_type": "code",
   "execution_count": 225,
   "metadata": {},
   "outputs": [
    {
     "name": "stdout",
     "output_type": "stream",
     "text": [
      "4357 39.8\n"
     ]
    }
   ],
   "source": [
    "# 1 to 3 weeks early\n",
    "\n",
    "print(df_warning_count.n3.sum() + df_warning_count.n2.sum() + df_warning_count.n1.sum(), \n",
    "      round((df_warning_count.n3.sum() + df_warning_count.n2.sum() + df_warning_count.n1.sum())*100/df_warning_count.total_aih_warning.sum(),1))"
   ]
  },
  {
   "cell_type": "code",
   "execution_count": 226,
   "metadata": {},
   "outputs": [
    {
     "name": "stdout",
     "output_type": "stream",
     "text": [
      "2527 23.1\n"
     ]
    }
   ],
   "source": [
    "# 0 to 1 week after\n",
    "\n",
    "print(df_warning_count.n0.sum() + df_warning_count.n1_after.sum(), \n",
    "      round((df_warning_count.n0.sum() + df_warning_count.n1_after.sum())*100/df_warning_count.total_aih_warning.sum(),1))"
   ]
  },
  {
   "cell_type": "code",
   "execution_count": 227,
   "metadata": {},
   "outputs": [
    {
     "name": "stdout",
     "output_type": "stream",
     "text": [
      "4053 37.1\n"
     ]
    }
   ],
   "source": [
    "# Missed\n",
    "\n",
    "print(df_warning_count.missed.sum(), \n",
    "      round(df_warning_count.missed.sum()*100/df_warning_count.total_aih_warning.sum(),1))"
   ]
  },
  {
   "cell_type": "markdown",
   "metadata": {},
   "source": [
    "# Metrics of peformance"
   ]
  },
  {
   "cell_type": "code",
   "execution_count": 249,
   "metadata": {},
   "outputs": [],
   "source": [
    "def sen_spe(df,warning_local_health, col):\n",
    "    # Calculate True Positives, False Negatives, True Negatives, and False Positives\n",
    "    TP = ((df[warning_local_health] == 1) & (df[col] == 1)).sum()\n",
    "    FN = ((df[warning_local_health] == 1) & (df[col] == 0)).sum()\n",
    "    TN = ((df[warning_local_health] == 0) & (df[col] == 0)).sum()\n",
    "    FP = ((df[warning_local_health] == 0) & (df[col] == 1)).sum()\n",
    "\n",
    "    # Calculate Sensitivity and Specificity\n",
    "    sensitivity = TP / (TP + FN) if (TP + FN) > 0 else 0\n",
    "    specificity = TN / (TN + FP) if (TN + FP) > 0 else 0\n",
    "    \n",
    "    return sensitivity, specificity, round(TP*100/df[warning_local_health].sum(),1)"
   ]
  },
  {
   "cell_type": "code",
   "execution_count": 287,
   "metadata": {},
   "outputs": [],
   "source": [
    "dta1 = df_aps[[ 'co_imed', 'Nome_imed', 'year_week', 'year_week_ts', 'out_of_limits_above_phc_only']]\n",
    "dta2 = df_otc[[ 'co_imed', 'year_week', 'out_of_limits_above_otc_only']]\n",
    "dta3 = df_aih[[ 'co_imed', 'year_week', 'warning_aih']]\n",
    "\n",
    "\n",
    "result = dta1.merge(dta2, left_on=['co_imed','year_week'], right_on=['co_imed','year_week'])\n",
    "\n",
    "result = result.merge(dta3, left_on=['co_imed','year_week'], right_on=['co_imed','year_week'])"
   ]
  },
  {
   "cell_type": "code",
   "execution_count": 288,
   "metadata": {},
   "outputs": [],
   "source": [
    "#teste1 = result.groupby(['co_imed'])['warning_aih'].sum().reset_index()\n",
    "#lst = teste1[teste1.warning_aih == 0].co_imed.to_list()\n",
    "#result = result[~result.co_imed.isin(lst)]"
   ]
  },
  {
   "cell_type": "code",
   "execution_count": 289,
   "metadata": {
    "scrolled": true
   },
   "outputs": [
    {
     "data": {
      "text/plain": [
       "(0.21872909698996656, 0.7702928200790912, 21.9)"
      ]
     },
     "execution_count": 289,
     "metadata": {},
     "output_type": "execute_result"
    }
   ],
   "source": [
    "sen_spe(result,'warning_aih', 'out_of_limits_above_phc_only')"
   ]
  },
  {
   "cell_type": "code",
   "execution_count": null,
   "metadata": {},
   "outputs": [],
   "source": []
  },
  {
   "cell_type": "code",
   "execution_count": 290,
   "metadata": {},
   "outputs": [
    {
     "data": {
      "text/plain": [
       "(0.2909698996655518, 0.7599378243079525, 29.1)"
      ]
     },
     "execution_count": 290,
     "metadata": {},
     "output_type": "execute_result"
    }
   ],
   "source": [
    "sen_spe(result,'warning_aih', 'out_of_limits_above_otc_only')"
   ]
  },
  {
   "cell_type": "code",
   "execution_count": 291,
   "metadata": {},
   "outputs": [],
   "source": [
    "dta1 = df_aps[[ 'co_imed', 'Nome_imed', 'year_week', 'year_week_ts', 'out_of_limits_above_phc_only']]\n",
    "dta2 = df_otc[[ 'co_imed', 'year_week', 'out_of_limits_above_otc_only']]\n",
    "dta3 = df_aih[[ 'co_imed', 'year_week', 'warning_aih_corect_with_consec']]\n",
    "\n",
    "\n",
    "result = dta1.merge(dta2, left_on=['co_imed','year_week'], right_on=['co_imed','year_week'])\n",
    "\n",
    "result = result.merge(dta3, left_on=['co_imed','year_week'], right_on=['co_imed','year_week'])"
   ]
  },
  {
   "cell_type": "code",
   "execution_count": 292,
   "metadata": {},
   "outputs": [],
   "source": [
    "#teste2 = result.groupby(['co_imed'])['warning_aih_corect_with_consec'].sum().reset_index()\n",
    "#lst = teste1[teste1.warning_aih == 0].co_imed.to_list()\n",
    "#result = result[~result.co_imed.isin(lst)]"
   ]
  },
  {
   "cell_type": "code",
   "execution_count": 293,
   "metadata": {},
   "outputs": [
    {
     "data": {
      "text/plain": [
       "(0.21739130434782608, 0.7703693644758284, 21.7)"
      ]
     },
     "execution_count": 293,
     "metadata": {},
     "output_type": "execute_result"
    }
   ],
   "source": [
    "sen_spe(result,'warning_aih_corect_with_consec', 'out_of_limits_above_phc_only')"
   ]
  },
  {
   "cell_type": "code",
   "execution_count": 294,
   "metadata": {},
   "outputs": [
    {
     "data": {
      "text/plain": [
       "(0.2882797731568998, 0.759369907658881, 28.8)"
      ]
     },
     "execution_count": 294,
     "metadata": {},
     "output_type": "execute_result"
    }
   ],
   "source": [
    "sen_spe(result,'warning_aih_corect_with_consec', 'out_of_limits_above_otc_only')"
   ]
  },
  {
   "cell_type": "code",
   "execution_count": 295,
   "metadata": {},
   "outputs": [],
   "source": [
    "dta1 = df_aps[[ 'co_imed', 'Nome_imed', 'year_week', 'year_week_ts', 'out_of_limits_above_phc_only']]\n",
    "dta2 = df_otc[[ 'co_imed', 'year_week', 'out_of_limits_above_otc_only']]\n",
    "dta3 = df_aih[[ 'co_imed', 'year_week', 'warning_final_aih']]\n",
    "\n",
    "\n",
    "result = dta1.merge(dta2, left_on=['co_imed','year_week'], right_on=['co_imed','year_week'])\n",
    "\n",
    "result = result.merge(dta3, left_on=['co_imed','year_week'], right_on=['co_imed','year_week'])"
   ]
  },
  {
   "cell_type": "code",
   "execution_count": 282,
   "metadata": {},
   "outputs": [],
   "source": [
    "#teste2 = result.groupby(['co_imed'])['warning_final_aih'].sum().reset_index()\n",
    "#lst = teste1[teste1.warning_aih == 0].co_imed.to_list()\n",
    "#result = result[~result.co_imed.isin(lst)]"
   ]
  },
  {
   "cell_type": "code",
   "execution_count": 296,
   "metadata": {},
   "outputs": [
    {
     "data": {
      "text/plain": [
       "(0.3148148148148148, 0.7712720958190481, 31.5)"
      ]
     },
     "execution_count": 296,
     "metadata": {},
     "output_type": "execute_result"
    }
   ],
   "source": [
    "sen_spe(result,'warning_final_aih', 'out_of_limits_above_phc_only')"
   ]
  },
  {
   "cell_type": "code",
   "execution_count": 297,
   "metadata": {},
   "outputs": [
    {
     "data": {
      "text/plain": [
       "(0.30246913580246915, 0.7586936194843937, 30.2)"
      ]
     },
     "execution_count": 297,
     "metadata": {},
     "output_type": "execute_result"
    }
   ],
   "source": [
    "sen_spe(result,'warning_final_aih', 'out_of_limits_above_otc_only')"
   ]
  },
  {
   "cell_type": "markdown",
   "metadata": {},
   "source": [
    "# Metrics of peformance "
   ]
  },
  {
   "cell_type": "code",
   "execution_count": 299,
   "metadata": {},
   "outputs": [],
   "source": [
    "dta1 = df_aps[[ 'co_imed', 'Nome_imed', 'year_week', 'year_week_ts', 'out_of_limits_above_phc_only']]\n",
    "dta2 = df_otc[[ 'co_imed', 'year_week', 'out_of_limits_above_otc_only']]\n",
    "dta3 = df_aih[[ 'co_imed', 'year_week', 'warning_final_aih']]\n",
    "\n",
    "\n",
    "result = dta1.merge(dta2, left_on=['co_imed','year_week'], right_on=['co_imed','year_week'])\n",
    "\n",
    "result = result.merge(dta3, left_on=['co_imed','year_week'], right_on=['co_imed','year_week'])"
   ]
  },
  {
   "cell_type": "code",
   "execution_count": null,
   "metadata": {},
   "outputs": [],
   "source": [
    "# General\n",
    "\n",
    "TP = n0\n",
    "\n",
    "FN = "
   ]
  },
  {
   "cell_type": "code",
   "execution_count": null,
   "metadata": {},
   "outputs": [],
   "source": [
    "#1 to 3 weeks early \n",
    "\n",
    "TP = n3 + n2 + n1\n",
    "\n",
    "FN = n0 + n1_after + missed\n",
    "\n",
    "sensitivity = TP / (TP + FN)"
   ]
  },
  {
   "cell_type": "code",
   "execution_count": null,
   "metadata": {},
   "outputs": [],
   "source": []
  },
  {
   "cell_type": "code",
   "execution_count": null,
   "metadata": {},
   "outputs": [],
   "source": [
    "def sen_spe(df,warning_local_health, col):\n",
    "    # Calculate True Positives, False Negatives, True Negatives, and False Positives\n",
    "    TP = ((df[warning_local_health] == 1) & (df[col] == 1)).sum()\n",
    "    FN = ((df[warning_local_health] == 1) & (df[col] == 0)).sum()\n",
    "    TN = ((df[warning_local_health] == 0) & (df[col] == 0)).sum()\n",
    "    FP = ((df[warning_local_health] == 0) & (df[col] == 1)).sum()\n",
    "\n",
    "    # Calculate Sensitivity and Specificity\n",
    "    sensitivity = TP / (TP + FN) if (TP + FN) > 0 else 0\n",
    "    specificity = TN / (TN + FP) if (TN + FP) > 0 else 0\n",
    "    \n",
    "    return sensitivity, specificity, round(TP*100/df[warning_local_health].sum(),1)"
   ]
  }
 ],
 "metadata": {
  "kernelspec": {
   "display_name": "Python 3",
   "language": "python",
   "name": "python3"
  },
  "language_info": {
   "codemirror_mode": {
    "name": "ipython",
    "version": 3
   },
   "file_extension": ".py",
   "mimetype": "text/x-python",
   "name": "python",
   "nbconvert_exporter": "python",
   "pygments_lexer": "ipython3",
   "version": "3.8.5"
  }
 },
 "nbformat": 4,
 "nbformat_minor": 4
}
