{
 "cells": [
  {
   "cell_type": "code",
   "execution_count": 2,
   "metadata": {},
   "outputs": [],
   "source": [
    "# Read packedges\n",
    "\n",
    "import pandas as pd\n",
    "import pandas.testing as tm\n",
    "import numpy as np\n",
    "import seaborn as sns\n",
    "import matplotlib.pyplot as plt\n",
    "\n",
    "import statsmodels.api as sm\n",
    "import statsmodels.discrete.discrete_model as dm\n",
    "\n",
    "from patsy import dmatrices\n",
    "import statsmodels.graphics.tsaplots as tsa\n",
    "\n",
    "\n",
    "from scipy.fft import fft, ifft, fftfreq\n",
    "\n",
    "import statsmodels.formula.api as smf\n",
    "from statsmodels.tsa.stattools import acf\n",
    "\n",
    "import itertools\n",
    "from itertools import combinations, chain\n",
    "\n",
    "from scipy.stats import pearsonr\n",
    "\n",
    "import re\n",
    "\n",
    "import functions\n",
    "\n",
    "import early_warning_detection_functions\n",
    "\n",
    "from datetime import datetime\n",
    "\n",
    "import pymannkendall as mk\n",
    "\n",
    "import math\n",
    "\n",
    "import trend_timeseries\n",
    "\n",
    "from scipy.stats import friedmanchisquare\n",
    "\n",
    "from sklearn.metrics import r2_score\n",
    "\n",
    "from pmdarima.preprocessing import FourierFeaturizer\n",
    "from pmdarima.datasets import load_wineind\n",
    "from sklearn.linear_model import LinearRegression\n"
   ]
  },
  {
   "cell_type": "markdown",
   "metadata": {},
   "source": [
    "# Read processed data"
   ]
  },
  {
   "cell_type": "code",
   "execution_count": 3,
   "metadata": {},
   "outputs": [],
   "source": [
    "df = pd.read_parquet('//home/juliane.oliveira/workspace/Bivariate_Anomaly_Detection_Primary_Health_Care_Drug_Selling_ILI_surveillance/Results/data_manuscript_otc_phc_imed.parquet')\n",
    "\n"
   ]
  },
  {
   "cell_type": "code",
   "execution_count": 4,
   "metadata": {},
   "outputs": [
    {
     "data": {
      "text/plain": [
       "Index(['sigla_uf', 'co_uf', 'nm_uf', 'co_imed', 'Nome_imed', 'year_week',\n",
       "       'year_week_ts', 'epidemi_cal_start', 'epidemi_cal_end', 'atend_ivas',\n",
       "       'num_otc_ivas', 'atend_ivas_4', 'num_otc_ivas_4', 'dtrend_ivas_negbi',\n",
       "       'dtrend_otc_negbi', 'p_values_negbi_atend_ivas_4',\n",
       "       'p_values_negbi_num_otc_ivas_4', 'p_value_ivas_negbi_friedman',\n",
       "       'p_value_otc_negbi_friedman', 'phc_4_lag_1', 'phc_4_lag_2',\n",
       "       'phc_4_lag_3', 'otc_4_lag_1', 'otc_4_lag_2', 'otc_4_lag_3'],\n",
       "      dtype='object')"
      ]
     },
     "execution_count": 4,
     "metadata": {},
     "output_type": "execute_result"
    }
   ],
   "source": [
    "df.columns"
   ]
  },
  {
   "cell_type": "code",
   "execution_count": 5,
   "metadata": {},
   "outputs": [
    {
     "data": {
      "text/plain": [
       "510"
      ]
     },
     "execution_count": 5,
     "metadata": {},
     "output_type": "execute_result"
    }
   ],
   "source": [
    "df.co_imed.nunique()"
   ]
  },
  {
   "cell_type": "markdown",
   "metadata": {},
   "source": [
    "# Run regressions"
   ]
  },
  {
   "cell_type": "markdown",
   "metadata": {},
   "source": [
    "## Early warning on PHC series alone"
   ]
  },
  {
   "cell_type": "markdown",
   "metadata": {},
   "source": [
    "### Cities without trend and sezonality"
   ]
  },
  {
   "cell_type": "code",
   "execution_count": 6,
   "metadata": {},
   "outputs": [
    {
     "name": "stdout",
     "output_type": "stream",
     "text": [
      "number of imed without trend and sezonality 102 percentage 20.0\n"
     ]
    }
   ],
   "source": [
    "# select cities without trend and sezonality in PHC\n",
    "\n",
    "df1 = df[(df.p_value_ivas_negbi_friedman >= 0.05) & (df.p_values_negbi_atend_ivas_4 >= 0.05)]\n",
    "\n",
    "print('number of imed without trend and sezonality', df1.co_imed.nunique(), 'percentage', round(df1.co_imed.nunique()*100/510,1) )"
   ]
  },
  {
   "cell_type": "code",
   "execution_count": 7,
   "metadata": {},
   "outputs": [],
   "source": [
    "lags_y = range(1, 4)  # Example: Using lags 1 to 4 for y_t\n",
    "dependent_variable = 'atend_ivas_4'  # dependent variable\n",
    "\n",
    "def lags_comb(variable, lags_variable):\n",
    "    \"\"\"Create cumulative lag combinations for a given variable.\"\"\"\n",
    "    lags_variable_comb = [f'{variable}_{lag}' for lag in lags_variable]\n",
    "    cumulative_sums_var = [' + '.join(lags_variable_comb[:i]) for i in range(1, len(lags_variable_comb) + 1)]\n",
    "    return cumulative_sums_var\n",
    "\n",
    "# Generate lagged combinations\n",
    "lags_y_comb = lags_comb('phc_4_lag', lags_y)\n",
    "#lags_x_comb = lags_comb('otc_4_lag', lags_x)\n",
    "\n",
    "\n",
    "formulas = []\n",
    "\n",
    "# Iterate over all combinations and create formula strings\n",
    "for terms in lags_y_comb:\n",
    "    components = [terms]\n",
    "    # Remove empty strings and join components\n",
    "    formula_components = ' + '.join(filter(None, components))\n",
    "    formula = f'{dependent_variable} ~ {formula_components}'\n",
    "    formulas.append(formula)\n",
    "\n",
    "\n",
    "## Keep the best model formulas and AIC\n",
    "\n",
    "lst = []\n",
    "\n",
    "for code in df1.co_imed.unique():\n",
    "\n",
    "    #print(code)\n",
    "\n",
    "    data = df1[df1.co_imed == code]\n",
    "\n",
    "    # Placeholder for the best model\n",
    "    best_model = None\n",
    "    best_aic = float('inf')\n",
    "    best_formula = None\n",
    "\n",
    "    # Loop through all formulas to find the best model based on AIC\n",
    "    for formula in formulas:\n",
    "        \n",
    "        # Fit the model\n",
    "        alpha = 1\n",
    "        model = smf.glm(formula=formula, data=data, family=sm.families.NegativeBinomial(alpha=alpha)).fit()\n",
    "        \n",
    "        # Check the AIC of the current model\n",
    "        current_aic = model.aic\n",
    "        \n",
    "        # Update the best model if the current model has a lower AIC\n",
    "        if current_aic < best_aic:\n",
    "            best_aic = current_aic\n",
    "            best_model = model\n",
    "            best_formula = formula\n",
    "\n",
    "    data = data.assign(best_formula = best_formula)\n",
    "    data = data.assign(best_aic = best_aic)\n",
    "    \n",
    "    lst.append(data)\n",
    "\n",
    "lst_dfs_cities1 = lst\n",
    "\n",
    "#### save predicted values, upperbound and warning columns\n",
    "\n",
    "# we know the best model that adjust to the data of each municipality. Thus:\n",
    "\n",
    "lst = []\n",
    "\n",
    "for data in lst_dfs_cities1:\n",
    "    # Fit the model\n",
    "    alpha = 0.1\n",
    "    model = smf.glm(formula=data.best_formula.iloc[0], data=data, family=sm.families.NegativeBinomial(alpha=alpha)).fit()\n",
    "\n",
    "    # Extract fitted values and residuals\n",
    "    fitted_values = model.fittedvalues\n",
    "    residuals = model.resid_deviance\n",
    "    \n",
    "    sigma = np.std(residuals)\n",
    "    sigma_ = np.std(fitted_values)\n",
    "    sigma_t = fitted_values.rolling(window=5).std()\n",
    "    \n",
    "    data = data.assign(fitted_values_phc_only = fitted_values,\n",
    "                      residuals_phc_only = residuals,\n",
    "                      sigma_phc_only = sigma,\n",
    "                      sigma__phc_only = sigma_,\n",
    "                      sigma_t_phc_only = sigma_t)\n",
    "    \n",
    "    lst.append(data)\n",
    "    \n",
    "lst_dfs_cities1 = lst\n",
    "\n",
    "\n",
    "lst = []\n",
    "for i in range(len(lst_dfs_cities1)):\n",
    "    \n",
    "    data = lst_dfs_cities1[i]\n",
    "    \n",
    "    # Calculate control limits for the original series\n",
    "    w = 1 #data.w_best.iloc[0]\n",
    "    \n",
    "    data = data.assign(UCL_phc_only = data.fitted_values_phc_only + w * data.sigma_t_phc_only,\n",
    "                      LCL_phc_only = data.fitted_values_phc_only - w * data.sigma_t_phc_only)\n",
    "\n",
    "    data = data.assign(out_of_limits_above_phc_only = (data['atend_ivas_4'] >= data.UCL_phc_only).astype(int),\n",
    "                       out_of_limits_below_phc_only = (data['atend_ivas_4'] < data.LCL_phc_only).astype(int)\n",
    "                       )\n",
    "    \n",
    "    lst.append(data)\n",
    "    \n",
    "lst_dfs_cities1 = lst   "
   ]
  },
  {
   "cell_type": "code",
   "execution_count": 8,
   "metadata": {},
   "outputs": [
    {
     "data": {
      "image/png": "[encoded data removed]",
      "text/plain": [
       "<Figure size 1000x600 with 1 Axes>"
      ]
     },
     "metadata": {},
     "output_type": "display_data"
    }
   ],
   "source": [
    "dta = lst_dfs_cities1[10]\n",
    "\n",
    "# Create the plot\n",
    "plt.figure(figsize=(10, 6))\n",
    "\n",
    "# Plot the original data\n",
    "plt.plot(dta.year_week, dta['atend_ivas_4'], label='Original Data', color='black')\n",
    "# Plot the original data\n",
    "plt.plot(dta.year_week, dta['fitted_values_phc_only'], label='Original Data', color='green')\n",
    "\n",
    "# Create boolean masks for points outside limits\n",
    "out_of_limits_above = dta['atend_ivas_4'] >= dta['UCL_phc_only']\n",
    "out_of_limits_below = dta['atend_ivas_4'] < dta['LCL_phc_only']\n",
    "\n",
    "# Scatter plot for points above UCL\n",
    "plt.scatter(\n",
    "    dta['year_week'][out_of_limits_above],  # Ensure the index aligns\n",
    "    dta['atend_ivas_4'][out_of_limits_above],  # Use the same DataFrame\n",
    "    color='red',\n",
    "    label='Above UCL'\n",
    ")\n",
    "\n",
    "# Optional: Scatter plot for points below LCL\n",
    "#plt.scatter(\n",
    "#    dta['year_week'][out_of_limits_below],\n",
    "#    dta['atend_ivas_4'][out_of_limits_below],\n",
    "#   color='blue',\n",
    "#    label='Below LCL'\n",
    "#)\n",
    "\n",
    "# Add labels and legend\n",
    "plt.xlabel('Year Week')\n",
    "plt.ylabel('Atend IVAS 4')\n",
    "plt.legend()\n",
    "plt.show()\n"
   ]
  },
  {
   "cell_type": "markdown",
   "metadata": {},
   "source": [
    "### Cities with trend and without sezonality"
   ]
  },
  {
   "cell_type": "code",
   "execution_count": 10,
   "metadata": {},
   "outputs": [
    {
     "name": "stdout",
     "output_type": "stream",
     "text": [
      "number of imediate with trend and without sezonality 9 percentage 1.8\n"
     ]
    }
   ],
   "source": [
    "# select cities without trend and sezonality in PHC\n",
    "\n",
    "df2 = df[(df.p_value_ivas_negbi_friedman >= 0.05) & (df.p_values_negbi_atend_ivas_4 < 0.05)]\n",
    "\n",
    "print('number of imediate with trend and without sezonality', df2.co_imed.nunique(), 'percentage', round(df2.co_imed.nunique()*100/510,1) )"
   ]
  },
  {
   "cell_type": "code",
   "execution_count": 12,
   "metadata": {},
   "outputs": [],
   "source": [
    "lags_y = range(1, 4)  # Example: Using lags 1 to 4 for y_t\n",
    "dependent_variable = 'atend_ivas_4'  # dependent variable\n",
    "\n",
    "def lags_comb(variable, lags_variable):\n",
    "    \"\"\"Create cumulative lag combinations for a given variable.\"\"\"\n",
    "    lags_variable_comb = [f'{variable}_{lag}' for lag in lags_variable]\n",
    "    cumulative_sums_var = [' + '.join(lags_variable_comb[:i]) for i in range(1, len(lags_variable_comb) + 1)]\n",
    "    return cumulative_sums_var\n",
    "\n",
    "# Generate lagged combinations\n",
    "lags_y_comb = lags_comb('phc_4_lag', lags_y)\n",
    "#lags_x_comb = lags_comb('otc_4_lag', lags_x)\n",
    "\n",
    "\n",
    "formulas = []\n",
    "\n",
    "# Iterate over all combinations and create formula strings\n",
    "for terms in lags_y_comb:\n",
    "    components = [terms]\n",
    "    # Remove empty strings and join components\n",
    "    formula_components = 'time_trend + ' + ' + '.join(filter(None, components))\n",
    "    formula = f'{dependent_variable} ~ {formula_components}'\n",
    "    formulas.append(formula)\n",
    "\n",
    "\n",
    "## Keep the best model formulas and AIC\n",
    "\n",
    "lst = []\n",
    "\n",
    "for code in df2.co_imed.unique():\n",
    "\n",
    "    #print(code)\n",
    "\n",
    "    data = df2[df2.co_imed == code]\n",
    "\n",
    "    data = data.assign(time_trend = np.arange(len(data)))\n",
    "\n",
    "    # Placeholder for the best model\n",
    "    best_model = None\n",
    "    best_aic = float('inf')\n",
    "    best_formula = None\n",
    "\n",
    "    # Loop through all formulas to find the best model based on AIC\n",
    "    for formula in formulas:\n",
    "        \n",
    "        # Fit the model\n",
    "        alpha = 1\n",
    "        model = smf.glm(formula=formula, data=data, family=sm.families.NegativeBinomial(alpha=alpha)).fit()\n",
    "        \n",
    "        # Check the AIC of the current model\n",
    "        current_aic = model.aic\n",
    "        \n",
    "        # Update the best model if the current model has a lower AIC\n",
    "        if current_aic < best_aic:\n",
    "            best_aic = current_aic\n",
    "            best_model = model\n",
    "            best_formula = formula\n",
    "\n",
    "    data = data.assign(best_formula = best_formula)\n",
    "    data = data.assign(best_aic = best_aic)\n",
    "    \n",
    "    lst.append(data)\n",
    "\n",
    "lst_dfs_cities2 = lst\n",
    "\n",
    "#### save predicted values, upperbound and warning columns\n",
    "\n",
    "# we know the best model that adjust to the data of each municipality. Thus:\n",
    "\n",
    "lst = []\n",
    "\n",
    "for data in lst_dfs_cities2:\n",
    "    # Fit the model\n",
    "    alpha = 0.1\n",
    "    model = smf.glm(formula=data.best_formula.iloc[0], data=data, family=sm.families.NegativeBinomial(alpha=alpha)).fit()\n",
    "\n",
    "    # Extract fitted values and residuals\n",
    "    fitted_values = model.fittedvalues\n",
    "    residuals = model.resid_deviance\n",
    "    \n",
    "    sigma = np.std(residuals)\n",
    "    sigma_ = np.std(fitted_values)\n",
    "    sigma_t = fitted_values.rolling(window=5).std()\n",
    "    \n",
    "    data = data.assign(fitted_values_phc_only = fitted_values,\n",
    "                      residuals_phc_only = residuals,\n",
    "                      sigma_phc_only = sigma,\n",
    "                      sigma__phc_only = sigma_,\n",
    "                      sigma_t_phc_only = sigma_t)\n",
    "    \n",
    "    lst.append(data)\n",
    "    \n",
    "lst_dfs_cities2 = lst\n",
    "\n",
    "\n",
    "lst = []\n",
    "for i in range(len(lst_dfs_cities2)):\n",
    "    \n",
    "    data = lst_dfs_cities2[i]\n",
    "    \n",
    "    # Calculate control limits for the original series\n",
    "    w = 1 #data.w_best.iloc[0]\n",
    "    \n",
    "    data = data.assign(UCL_phc_only = data.fitted_values_phc_only + w * data.sigma_t_phc_only,\n",
    "                      LCL_phc_only = data.fitted_values_phc_only - w * data.sigma_t_phc_only)\n",
    "\n",
    "    data = data.assign(out_of_limits_above_phc_only = (data['atend_ivas_4'] >= data.UCL_phc_only).astype(int),\n",
    "                       out_of_limits_below_phc_only = (data['atend_ivas_4'] < data.LCL_phc_only).astype(int)\n",
    "                       )\n",
    "    \n",
    "    lst.append(data)\n",
    "    \n",
    "lst_dfs_cities2 = lst   "
   ]
  },
  {
   "cell_type": "markdown",
   "metadata": {},
   "source": [
    "### Cities without trend and with sezonality"
   ]
  },
  {
   "cell_type": "code",
   "execution_count": 13,
   "metadata": {},
   "outputs": [
    {
     "name": "stdout",
     "output_type": "stream",
     "text": [
      "number of imediate without trend and with sezonality 370 percentage 72.5\n"
     ]
    }
   ],
   "source": [
    "# select cities without trend and sezonality in PHC\n",
    "\n",
    "df3 = df[(df.p_value_ivas_negbi_friedman < 0.05) & (df.p_values_negbi_atend_ivas_4 >= 0.05)]\n",
    "\n",
    "print('number of imediate without trend and with sezonality', df3.co_imed.nunique(), 'percentage', round(df3.co_imed.nunique()*100/510,1) )"
   ]
  },
  {
   "cell_type": "code",
   "execution_count": 14,
   "metadata": {},
   "outputs": [],
   "source": [
    "lst_dfs_cities3 = []\n",
    "\n",
    "for code in df3.co_imed.unique():\n",
    "    \n",
    "    set_muni = df3[df3.co_imed == code]\n",
    "\n",
    "    lst_dfs_cities3.append(set_muni)\n",
    "\n",
    "lst_dfs_cities3 = early_warning_detection_functions.harmonic(lst_dfs_cities3, 'atend_ivas_4')"
   ]
  },
  {
   "cell_type": "code",
   "execution_count": 15,
   "metadata": {},
   "outputs": [],
   "source": [
    "lags_y = range(1, 4)  # Example: Using lags 1 to 4 for y_t\n",
    "dependent_variable = 'atend_ivas_4'  # dependent variable\n",
    "\n",
    "def lags_comb(variable, lags_variable):\n",
    "    \"\"\"Create cumulative lag combinations for a given variable.\"\"\"\n",
    "    lags_variable_comb = [f'{variable}_{lag}' for lag in lags_variable]\n",
    "    cumulative_sums_var = [' + '.join(lags_variable_comb[:i]) for i in range(1, len(lags_variable_comb) + 1)]\n",
    "    return cumulative_sums_var\n",
    "\n",
    "# Generate lagged combinations\n",
    "lags_y_comb = lags_comb('phc_4_lag', lags_y)\n",
    "#lags_x_comb = lags_comb('otc_4_lag', lags_x)\n",
    "\n",
    "\n",
    "formulas = []\n",
    "\n",
    "# Iterate over all combinations and create formula strings\n",
    "for terms in lags_y_comb:\n",
    "    components = [terms]\n",
    "    # Remove empty strings and join components\n",
    "    formula_components = 'Reconstructed + ' + ' + '.join(filter(None, components))\n",
    "    formula = f'{dependent_variable} ~ {formula_components}'\n",
    "    formulas.append(formula)\n",
    "\n",
    "\n",
    "## Keep the best model formulas and AIC\n",
    "\n",
    "lst = []\n",
    "\n",
    "for data in lst_dfs_cities3:\n",
    "\n",
    "    # Placeholder for the best model\n",
    "    best_model = None\n",
    "    best_aic = float('inf')\n",
    "    best_formula = None\n",
    "\n",
    "    # Loop through all formulas to find the best model based on AIC\n",
    "    for formula in formulas:\n",
    "        \n",
    "        # Fit the model\n",
    "        alpha = 1\n",
    "        model = smf.glm(formula=formula, data=data, family=sm.families.NegativeBinomial(alpha=alpha)).fit()\n",
    "        \n",
    "        # Check the AIC of the current model\n",
    "        current_aic = model.aic\n",
    "        \n",
    "        # Update the best model if the current model has a lower AIC\n",
    "        if current_aic < best_aic:\n",
    "            best_aic = current_aic\n",
    "            best_model = model\n",
    "            best_formula = formula\n",
    "\n",
    "    data = data.assign(best_formula = best_formula)\n",
    "    data = data.assign(best_aic = best_aic)\n",
    "    \n",
    "    lst.append(data)\n",
    "\n",
    "lst_dfs_cities3 = lst\n",
    "\n",
    "#### save predicted values, upperbound and warning columns\n",
    "\n",
    "# we know the best model that adjust to the data of each municipality. Thus:\n",
    "\n",
    "lst = []\n",
    "\n",
    "for data in lst_dfs_cities3:\n",
    "    # Fit the model\n",
    "    alpha = 0.1\n",
    "    model = smf.glm(formula=data.best_formula.iloc[0], data=data, family=sm.families.NegativeBinomial(alpha=alpha)).fit()\n",
    "\n",
    "    # Extract fitted values and residuals\n",
    "    fitted_values = model.fittedvalues\n",
    "    residuals = model.resid_deviance\n",
    "    \n",
    "    sigma = np.std(residuals)\n",
    "    sigma_ = np.std(fitted_values)\n",
    "    sigma_t = fitted_values.rolling(window=5).std()\n",
    "    \n",
    "    data = data.assign(fitted_values_phc_only = fitted_values,\n",
    "                      residuals_phc_only = residuals,\n",
    "                      sigma_phc_only = sigma,\n",
    "                      sigma__phc_only = sigma_,\n",
    "                      sigma_t_phc_only = sigma_t)\n",
    "    \n",
    "    lst.append(data)\n",
    "    \n",
    "lst_dfs_cities3 = lst\n",
    "\n",
    "\n",
    "lst = []\n",
    "for i in range(len(lst_dfs_cities3)):\n",
    "    \n",
    "    data = lst_dfs_cities3[i]\n",
    "    \n",
    "    # Calculate control limits for the original series\n",
    "    w = 1 #data.w_best.iloc[0]\n",
    "    \n",
    "    data = data.assign(UCL_phc_only = data.fitted_values_phc_only + w * data.sigma_t_phc_only,\n",
    "                      LCL_phc_only = data.fitted_values_phc_only - w * data.sigma_t_phc_only)\n",
    "\n",
    "    data = data.assign(out_of_limits_above_phc_only = (data['atend_ivas_4'] >= data.UCL_phc_only).astype(int),\n",
    "                       out_of_limits_below_phc_only = (data['atend_ivas_4'] < data.LCL_phc_only).astype(int)\n",
    "                       )\n",
    "    \n",
    "    lst.append(data)\n",
    "    \n",
    "lst_dfs_cities3 = lst   "
   ]
  },
  {
   "cell_type": "markdown",
   "metadata": {},
   "source": [
    "### Cities with trend and with sezonality"
   ]
  },
  {
   "cell_type": "code",
   "execution_count": 16,
   "metadata": {},
   "outputs": [
    {
     "name": "stdout",
     "output_type": "stream",
     "text": [
      "number of imed with trend and sezonality 29 percentage 5.7\n"
     ]
    }
   ],
   "source": [
    "# select cities without trend and sezonality in PHC\n",
    "\n",
    "df4 = df[(df.p_value_ivas_negbi_friedman < 0.05) & (df.p_values_negbi_atend_ivas_4 < 0.05)]\n",
    "\n",
    "print('number of imed with trend and sezonality', df4.co_imed.nunique(), 'percentage', round(df4.co_imed.nunique()*100/510,1) )"
   ]
  },
  {
   "cell_type": "code",
   "execution_count": 17,
   "metadata": {
    "scrolled": true
   },
   "outputs": [
    {
     "name": "stderr",
     "output_type": "stream",
     "text": [
      "/usr/local/lib/python3.10/site-packages/pandas/core/arraylike.py:396: RuntimeWarning: invalid value encountered in log\n",
      "  result = getattr(ufunc, method)(*inputs, **kwargs)\n"
     ]
    }
   ],
   "source": [
    "lst_dfs_cities4 = []\n",
    "\n",
    "for code in df4.co_imed.unique():\n",
    "    \n",
    "    set_muni = df4[df4.co_imed == code]\n",
    "\n",
    "    lst_dfs_cities4.append(set_muni)\n",
    "\n",
    "lst_dfs_cities4 = early_warning_detection_functions.harmonic(lst_dfs_cities4, 'atend_ivas_4')"
   ]
  },
  {
   "cell_type": "code",
   "execution_count": 18,
   "metadata": {},
   "outputs": [],
   "source": [
    "lags_y = range(1, 4)  # Example: Using lags 1 to 4 for y_t\n",
    "dependent_variable = 'atend_ivas_4'  # dependent variable\n",
    "\n",
    "def lags_comb(variable, lags_variable):\n",
    "    \"\"\"Create cumulative lag combinations for a given variable.\"\"\"\n",
    "    lags_variable_comb = [f'{variable}_{lag}' for lag in lags_variable]\n",
    "    cumulative_sums_var = [' + '.join(lags_variable_comb[:i]) for i in range(1, len(lags_variable_comb) + 1)]\n",
    "    return cumulative_sums_var\n",
    "\n",
    "# Generate lagged combinations\n",
    "lags_y_comb = lags_comb('phc_4_lag', lags_y)\n",
    "#lags_x_comb = lags_comb('otc_4_lag', lags_x)\n",
    "\n",
    "\n",
    "formulas = []\n",
    "\n",
    "# Iterate over all combinations and create formula strings\n",
    "for terms in lags_y_comb:\n",
    "    components = [terms]\n",
    "    # Remove empty strings and join components\n",
    "    formula_components = 'time_trend + Reconstructed + ' + ' + '.join(filter(None, components))\n",
    "    formula = f'{dependent_variable} ~ {formula_components}'\n",
    "    formulas.append(formula)\n",
    "\n",
    "\n",
    "## Keep the best model formulas and AIC\n",
    "\n",
    "lst = []\n",
    "\n",
    "for data in lst_dfs_cities4:\n",
    "\n",
    "    data = data.assign(time_trend = np.arange(len(data)))\n",
    "\n",
    "    # Placeholder for the best model\n",
    "    best_model = None\n",
    "    best_aic = float('inf')\n",
    "    best_formula = None\n",
    "\n",
    "    # Loop through all formulas to find the best model based on AIC\n",
    "    for formula in formulas:\n",
    "        \n",
    "        # Fit the model\n",
    "        alpha = 1\n",
    "        model = smf.glm(formula=formula, data=data, family=sm.families.NegativeBinomial(alpha=alpha)).fit()\n",
    "        \n",
    "        # Check the AIC of the current model\n",
    "        current_aic = model.aic\n",
    "        \n",
    "        # Update the best model if the current model has a lower AIC\n",
    "        if current_aic < best_aic:\n",
    "            best_aic = current_aic\n",
    "            best_model = model\n",
    "            best_formula = formula\n",
    "\n",
    "    data = data.assign(best_formula = best_formula)\n",
    "    data = data.assign(best_aic = best_aic)\n",
    "    \n",
    "    lst.append(data)\n",
    "\n",
    "lst_dfs_cities4 = lst\n",
    "\n",
    "#### save predicted values, upperbound and warning columns\n",
    "\n",
    "# we know the best model that adjust to the data of each municipality. Thus:\n",
    "\n",
    "lst = []\n",
    "\n",
    "for data in lst_dfs_cities4:\n",
    "    # Fit the model\n",
    "    alpha = 0.1\n",
    "    model = smf.glm(formula=data.best_formula.iloc[0], data=data, family=sm.families.NegativeBinomial(alpha=alpha)).fit()\n",
    "\n",
    "    # Extract fitted values and residuals\n",
    "    fitted_values = model.fittedvalues\n",
    "    residuals = model.resid_deviance\n",
    "    \n",
    "    sigma = np.std(residuals)\n",
    "    sigma_ = np.std(fitted_values)\n",
    "    sigma_t = fitted_values.rolling(window=5).std()\n",
    "    \n",
    "    data = data.assign(fitted_values_phc_only = fitted_values,\n",
    "                      residuals_phc_only = residuals,\n",
    "                      sigma_phc_only = sigma,\n",
    "                      sigma__phc_only = sigma_,\n",
    "                      sigma_t_phc_only = sigma_t)\n",
    "    \n",
    "    lst.append(data)\n",
    "    \n",
    "lst_dfs_cities4 = lst\n",
    "\n",
    "\n",
    "lst = []\n",
    "for i in range(len(lst_dfs_cities4)):\n",
    "    \n",
    "    data = lst_dfs_cities4[i]\n",
    "    \n",
    "    # Calculate control limits for the original series\n",
    "    w = 1 #data.w_best.iloc[0]\n",
    "    \n",
    "    data = data.assign(UCL_phc_only = data.fitted_values_phc_only + w * data.sigma_t_phc_only,\n",
    "                      LCL_phc_only = data.fitted_values_phc_only - w * data.sigma_t_phc_only)\n",
    "\n",
    "    data = data.assign(out_of_limits_above_phc_only = (data['atend_ivas_4'] >= data.UCL_phc_only).astype(int),\n",
    "                       out_of_limits_below_phc_only = (data['atend_ivas_4'] < data.LCL_phc_only).astype(int)\n",
    "                       )\n",
    "    \n",
    "    lst.append(data)\n",
    "    \n",
    "lst_dfs_cities4 = lst   "
   ]
  },
  {
   "cell_type": "code",
   "execution_count": 19,
   "metadata": {},
   "outputs": [
    {
     "data": {
      "image/png": "[encoded data removed]",
      "text/plain": [
       "<Figure size 1000x600 with 1 Axes>"
      ]
     },
     "metadata": {},
     "output_type": "display_data"
    }
   ],
   "source": [
    "dta = lst_dfs_cities4[10]\n",
    "\n",
    "# Create the plot\n",
    "plt.figure(figsize=(10, 6))\n",
    "\n",
    "# Plot the original data\n",
    "plt.plot(dta.year_week, dta['atend_ivas_4'], label='Original Data', color='black')\n",
    "\n",
    "# Create boolean masks for points outside limits\n",
    "out_of_limits_above = dta['atend_ivas_4'] >= dta['UCL_phc_only']\n",
    "out_of_limits_below = dta['atend_ivas_4'] < dta['LCL_phc_only']\n",
    "\n",
    "# Scatter plot for points above UCL\n",
    "plt.scatter(\n",
    "    dta['year_week'][out_of_limits_above],  # Ensure the index aligns\n",
    "    dta['atend_ivas_4'][out_of_limits_above],  # Use the same DataFrame\n",
    "    color='red',\n",
    "    label='Above UCL'\n",
    ")\n",
    "\n",
    "# Optional: Scatter plot for points below LCL\n",
    "#plt.scatter(\n",
    "#    dta['year_week'][out_of_limits_below],\n",
    "#    dta['atend_ivas_4'][out_of_limits_below],\n",
    "#   color='blue',\n",
    "#    label='Below LCL'\n",
    "#)\n",
    "\n",
    "# Add labels and legend\n",
    "plt.xlabel('Year Week')\n",
    "plt.ylabel('Atend IVAS 4')\n",
    "plt.legend()\n",
    "plt.show()\n"
   ]
  },
  {
   "cell_type": "markdown",
   "metadata": {},
   "source": [
    "# Process and save data"
   ]
  },
  {
   "cell_type": "code",
   "execution_count": 20,
   "metadata": {},
   "outputs": [
    {
     "data": {
      "text/plain": [
       "Index(['sigla_uf', 'co_uf', 'nm_uf', 'co_imed', 'Nome_imed', 'year_week',\n",
       "       'year_week_ts', 'epidemi_cal_start', 'epidemi_cal_end', 'atend_ivas',\n",
       "       'num_otc_ivas', 'atend_ivas_4', 'num_otc_ivas_4', 'dtrend_ivas_negbi',\n",
       "       'dtrend_otc_negbi', 'p_values_negbi_atend_ivas_4',\n",
       "       'p_values_negbi_num_otc_ivas_4', 'p_value_ivas_negbi_friedman',\n",
       "       'p_value_otc_negbi_friedman', 'phc_4_lag_1', 'phc_4_lag_2',\n",
       "       'phc_4_lag_3', 'otc_4_lag_1', 'otc_4_lag_2', 'otc_4_lag_3',\n",
       "       'best_formula', 'best_aic', 'fitted_values_phc_only',\n",
       "       'residuals_phc_only', 'sigma_phc_only', 'sigma__phc_only',\n",
       "       'sigma_t_phc_only', 'UCL_phc_only', 'LCL_phc_only',\n",
       "       'out_of_limits_above_phc_only', 'out_of_limits_below_phc_only'],\n",
       "      dtype='object')"
      ]
     },
     "execution_count": 20,
     "metadata": {},
     "output_type": "execute_result"
    }
   ],
   "source": [
    "lst_dfs_cities1[0].columns"
   ]
  },
  {
   "cell_type": "code",
   "execution_count": 21,
   "metadata": {},
   "outputs": [],
   "source": [
    "lst1 = []\n",
    "\n",
    "for data in lst_dfs_cities1:\n",
    "\n",
    "    data = data[['nm_uf', 'co_imed', 'Nome_imed',\n",
    "                 'year_week', 'year_week_ts', 'epidemi_cal_start', 'epidemi_cal_end',\n",
    "                 'atend_ivas', 'num_otc_ivas', 'atend_ivas_4', 'num_otc_ivas_4',\n",
    "                 'best_formula', 'best_aic', 'fitted_values_phc_only',\n",
    "                 'residuals_phc_only', 'UCL_phc_only', 'LCL_phc_only',\n",
    "                 'out_of_limits_above_phc_only', 'out_of_limits_below_phc_only']]\n",
    "\n",
    "    lst1.append(data)\n",
    "\n",
    "\n",
    "for data in lst_dfs_cities2:\n",
    "\n",
    "    data = data[['nm_uf', 'co_imed', 'Nome_imed',\n",
    "                 'year_week', 'year_week_ts', 'epidemi_cal_start', 'epidemi_cal_end',\n",
    "                 'atend_ivas', 'num_otc_ivas', 'atend_ivas_4', 'num_otc_ivas_4',\n",
    "                 'best_formula', 'best_aic', 'fitted_values_phc_only',\n",
    "                 'residuals_phc_only', 'UCL_phc_only', 'LCL_phc_only',\n",
    "                 'out_of_limits_above_phc_only', 'out_of_limits_below_phc_only']]\n",
    "\n",
    "    lst1.append(data)\n",
    "\n",
    "for data in lst_dfs_cities3:\n",
    "\n",
    "    data = data[['nm_uf', 'co_imed', 'Nome_imed',\n",
    "                 'year_week', 'year_week_ts', 'epidemi_cal_start', 'epidemi_cal_end',\n",
    "                 'atend_ivas', 'num_otc_ivas', 'atend_ivas_4', 'num_otc_ivas_4',\n",
    "                 'best_formula', 'best_aic', 'fitted_values_phc_only',\n",
    "                 'residuals_phc_only', 'UCL_phc_only', 'LCL_phc_only',\n",
    "                 'out_of_limits_above_phc_only', 'out_of_limits_below_phc_only']]\n",
    "\n",
    "    lst1.append(data)\n",
    "\n",
    "for data in lst_dfs_cities4:\n",
    "\n",
    "    data = data[['nm_uf', 'co_imed', 'Nome_imed',\n",
    "                 'year_week', 'year_week_ts', 'epidemi_cal_start', 'epidemi_cal_end',\n",
    "                 'atend_ivas', 'num_otc_ivas', 'atend_ivas_4', 'num_otc_ivas_4',\n",
    "                 'best_formula', 'best_aic', 'fitted_values_phc_only',\n",
    "                 'residuals_phc_only', 'UCL_phc_only', 'LCL_phc_only',\n",
    "                 'out_of_limits_above_phc_only', 'out_of_limits_below_phc_only']]\n",
    "\n",
    "    lst1.append(data)"
   ]
  },
  {
   "cell_type": "code",
   "execution_count": 22,
   "metadata": {},
   "outputs": [
    {
     "data": {
      "text/plain": [
       "510"
      ]
     },
     "execution_count": 22,
     "metadata": {},
     "output_type": "execute_result"
    }
   ],
   "source": [
    "len(lst1)"
   ]
  },
  {
   "cell_type": "code",
   "execution_count": 23,
   "metadata": {},
   "outputs": [],
   "source": [
    "final = pd.concat(lst1)"
   ]
  },
  {
   "cell_type": "code",
   "execution_count": 24,
   "metadata": {},
   "outputs": [],
   "source": [
    "final.to_parquet('/home/juliane.oliveira/workspace/Bivariate_Anomaly_Detection_Primary_Health_Care_Drug_Selling_ILI_surveillance/Results/data_manuscript_warning_phc_only_imed.parquet')\n",
    "\n"
   ]
  },
  {
   "cell_type": "code",
   "execution_count": null,
   "metadata": {},
   "outputs": [],
   "source": []
  }
 ],
 "metadata": {
  "kernelspec": {
   "display_name": "Python 3",
   "language": "python",
   "name": "python3"
  },
  "language_info": {
   "codemirror_mode": {
    "name": "ipython",
    "version": 3
   },
   "file_extension": ".py",
   "mimetype": "text/x-python",
   "name": "python",
   "nbconvert_exporter": "python",
   "pygments_lexer": "ipython3",
   "version": "3.8.5"
  }
 },
 "nbformat": 4,
 "nbformat_minor": 5
}
