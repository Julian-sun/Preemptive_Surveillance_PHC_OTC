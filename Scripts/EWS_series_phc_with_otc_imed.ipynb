{
 "cells": [
  {
   "cell_type": "code",
   "execution_count": 1,
   "id": "951eabd5-d7f0-45f3-b201-ea055a295484",
   "metadata": {},
   "outputs": [],
   "source": [
    "# Read packedges\n",
    "\n",
    "import pandas as pd\n",
    "import pandas.testing as tm\n",
    "import numpy as np\n",
    "import seaborn as sns\n",
    "import matplotlib.pyplot as plt\n",
    "\n",
    "import statsmodels.api as sm\n",
    "import statsmodels.discrete.discrete_model as dm\n",
    "\n",
    "from patsy import dmatrices\n",
    "import statsmodels.graphics.tsaplots as tsa\n",
    "\n",
    "\n",
    "from scipy.fft import fft, ifft, fftfreq\n",
    "\n",
    "import statsmodels.formula.api as smf\n",
    "from statsmodels.tsa.stattools import acf\n",
    "\n",
    "import itertools\n",
    "from itertools import combinations, chain\n",
    "\n",
    "from scipy.stats import pearsonr\n",
    "\n",
    "import re\n",
    "\n",
    "import functions\n",
    "\n",
    "import early_warning_detection_functions\n",
    "\n",
    "from datetime import datetime\n",
    "\n",
    "import pymannkendall as mk\n",
    "\n",
    "import math\n",
    "\n",
    "import trend_timeseries\n",
    "\n",
    "from scipy.stats import friedmanchisquare\n",
    "\n",
    "from sklearn.metrics import r2_score\n",
    "\n",
    "from pmdarima.preprocessing import FourierFeaturizer\n",
    "from pmdarima.datasets import load_wineind\n",
    "from sklearn.linear_model import LinearRegression\n"
   ]
  },
  {
   "cell_type": "markdown",
   "id": "6f4a0963-6427-44b3-9b2c-c9fbf728c454",
   "metadata": {},
   "source": [
    "# Read processed data"
   ]
  },
  {
   "cell_type": "code",
   "execution_count": 6,
   "id": "e2c62692-d54e-4f07-8c25-6e2294e5d86c",
   "metadata": {},
   "outputs": [],
   "source": [
    "df = pd.read_parquet('//home/juliane.oliveira/workspace/Bivariate_Anomaly_Detection_Primary_Health_Care_Drug_Selling_ILI_surveillance/Results/data_manuscript_otc_phc_imed.parquet')\n",
    "\n"
   ]
  },
  {
   "cell_type": "code",
   "execution_count": 7,
   "id": "0d4ab0e5-a9b9-4e7d-91d8-b86a58c47e74",
   "metadata": {
    "scrolled": true
   },
   "outputs": [],
   "source": [
    "df = df.assign(phc_4_lag_0 = df.atend_ivas_4,\n",
    "               otc_4_lag_0 = df.num_otc_ivas_4)"
   ]
  },
  {
   "cell_type": "code",
   "execution_count": 4,
   "id": "473a9863-5cbe-49f4-8a0f-75e756e16292",
   "metadata": {},
   "outputs": [
    {
     "data": {
      "text/plain": [
       "510"
      ]
     },
     "execution_count": 4,
     "metadata": {},
     "output_type": "execute_result"
    }
   ],
   "source": [
    "df.co_imed.nunique()"
   ]
  },
  {
   "cell_type": "markdown",
   "id": "13b60f34-5c12-4598-955d-c3d13dd3e5c6",
   "metadata": {},
   "source": [
    "# Run regressions"
   ]
  },
  {
   "cell_type": "markdown",
   "id": "704dfea8-47be-4884-939f-dbc31b5eea21",
   "metadata": {},
   "source": [
    "## Early warning on PHC series with OTC"
   ]
  },
  {
   "cell_type": "markdown",
   "id": "50122356-5585-4eea-b9ad-97ccd1cf02ad",
   "metadata": {},
   "source": [
    "### Cities without trend and sezonality"
   ]
  },
  {
   "cell_type": "code",
   "execution_count": 8,
   "id": "16437ce4-1d69-424f-a7e2-7c3520b16dd0",
   "metadata": {},
   "outputs": [
    {
     "name": "stdout",
     "output_type": "stream",
     "text": [
      "number of imed without trend and sezonality 102 percentage 20.0\n"
     ]
    }
   ],
   "source": [
    "# select cities without trend and sezonality in PHC\n",
    "\n",
    "df1 = df[(df.p_value_ivas_negbi_friedman >= 0.05) & (df.p_values_negbi_atend_ivas_4 >= 0.05)]\n",
    "\n",
    "print('number of imed without trend and sezonality', df1.co_imed.nunique(), 'percentage', round(df1.co_imed.nunique()*100/510,1) )"
   ]
  },
  {
   "cell_type": "code",
   "execution_count": 9,
   "id": "e1f932c2-6acc-494a-b4bf-ca563af75723",
   "metadata": {},
   "outputs": [],
   "source": [
    "lags_y = range(1, 4)  # Example: Using lags 1 to 4 for y_t\n",
    "lags_x = range(0, 4)  # Example: Using lags 0 to 4 for x_t\n",
    "dependent_variable = 'atend_ivas_4'  # Example dependent variable\n",
    "\n",
    "def lags_comb(variable, lags_variable):\n",
    "    \"\"\"Create cumulative lag combinations for a given variable.\"\"\"\n",
    "    lags_variable_comb = [f'{variable}_{lag}' for lag in lags_variable]\n",
    "    cumulative_sums_var = [' + '.join(lags_variable_comb[:i]) for i in range(1, len(lags_variable_comb) + 1)]\n",
    "    return cumulative_sums_var\n",
    "\n",
    "# Generate lagged combinations\n",
    "lags_y_comb = lags_comb('phc_4_lag', lags_y)\n",
    "lags_x_comb = lags_comb('otc_4_lag', lags_x)\n",
    "\n",
    "formulas = []\n",
    "\n",
    "# Iterate over all combinations and create formula strings\n",
    "for value in lags_x_comb:\n",
    "    for terms in lags_y_comb:\n",
    "        components = [terms, value]\n",
    "        # Remove empty strings and join components\n",
    "        formula_components = ' + '.join(filter(None, components))\n",
    "        formula = f'{dependent_variable} ~ {formula_components}'\n",
    "        formulas.append(formula)"
   ]
  },
  {
   "cell_type": "code",
   "execution_count": 11,
   "id": "9da5c651-fb5b-4881-a52e-41d993ddca3e",
   "metadata": {},
   "outputs": [],
   "source": [
    "## Keep the best model formulas and AIC\n",
    "\n",
    "lst = []\n",
    "\n",
    "for code in df1.co_imed.unique():\n",
    "\n",
    "    #print(code)\n",
    "\n",
    "    data = df1[df1.co_imed == code]\n",
    "\n",
    "    # Placeholder for the best model\n",
    "    best_model = None\n",
    "    best_aic = float('inf')\n",
    "    best_formula = None\n",
    "\n",
    "    # Loop through all formulas to find the best model based on AIC\n",
    "    for formula in formulas:\n",
    "        \n",
    "        # Fit the model\n",
    "        alpha = 1\n",
    "        model = smf.glm(formula=formula, data=data, family=sm.families.NegativeBinomial(alpha=alpha)).fit()\n",
    "        \n",
    "        # Check the AIC of the current model\n",
    "        current_aic = model.aic\n",
    "        \n",
    "        # Update the best model if the current model has a lower AIC\n",
    "        if current_aic < best_aic:\n",
    "            best_aic = current_aic\n",
    "            best_model = model\n",
    "            best_formula = formula\n",
    "\n",
    "    data = data.assign(best_formula = best_formula)\n",
    "    data = data.assign(best_aic = best_aic)\n",
    "    \n",
    "    lst.append(data)\n",
    "\n",
    "lst_dfs_cities1 = lst\n",
    "\n",
    "#### save predicted values, upperbound and warning columns\n",
    "\n",
    "# we know the best model that adjust to the data of each municipality. Thus:\n",
    "\n",
    "lst = []\n",
    "\n",
    "for data in lst_dfs_cities1:\n",
    "    # Fit the model\n",
    "    alpha = 0.1\n",
    "    model = smf.glm(formula=data.best_formula.iloc[0], data=data, family=sm.families.NegativeBinomial(alpha=alpha)).fit()\n",
    "\n",
    "    # Extract fitted values and residuals\n",
    "    fitted_values = model.fittedvalues\n",
    "    residuals = model.resid_deviance\n",
    "    \n",
    "    sigma = np.std(residuals)\n",
    "    sigma_ = np.std(fitted_values)\n",
    "    sigma_t = fitted_values.rolling(window=5).std()\n",
    "    \n",
    "    data = data.assign(fitted_values_phc_only = fitted_values,\n",
    "                      residuals_phc_only = residuals,\n",
    "                      sigma_phc_only = sigma,\n",
    "                      sigma__phc_only = sigma_,\n",
    "                      sigma_t_phc_only = sigma_t)\n",
    "    \n",
    "    lst.append(data)\n",
    "    \n",
    "lst_dfs_cities1 = lst\n",
    "\n",
    "\n",
    "lst = []\n",
    "for i in range(len(lst_dfs_cities1)):\n",
    "    \n",
    "    data = lst_dfs_cities1[i]\n",
    "    \n",
    "    # Calculate control limits for the original series\n",
    "    w = 1 #data.w_best.iloc[0]\n",
    "    \n",
    "    data = data.assign(UCL_phc_only = data.fitted_values_phc_only + w * data.sigma_t_phc_only,\n",
    "                      LCL_phc_only = data.fitted_values_phc_only - w * data.sigma_t_phc_only)\n",
    "\n",
    "    data = data.assign(out_of_limits_above_phc_only = (data['atend_ivas_4'] >= data.UCL_phc_only).astype(int),\n",
    "                       out_of_limits_below_phc_only = (data['atend_ivas_4'] < data.LCL_phc_only).astype(int)\n",
    "                       )\n",
    "    \n",
    "    lst.append(data)\n",
    "    \n",
    "lst_dfs_cities1 = lst   "
   ]
  },
  {
   "cell_type": "code",
   "execution_count": 12,
   "id": "d4148783-a66d-436f-9901-8e24384113f5",
   "metadata": {},
   "outputs": [
    {
     "data": {
      "image/png": "[encoded data removed]",
      "text/plain": [
       "<Figure size 1000x600 with 1 Axes>"
      ]
     },
     "metadata": {},
     "output_type": "display_data"
    }
   ],
   "source": [
    "dta = lst_dfs_cities1[10]\n",
    "\n",
    "# Create the plot\n",
    "plt.figure(figsize=(10, 6))\n",
    "\n",
    "# Plot the original data\n",
    "plt.plot(dta.year_week, dta['atend_ivas_4'], label='Original Data', color='black')\n",
    "# Plot the original data\n",
    "plt.plot(dta.year_week, dta['fitted_values_phc_only'], label='Original Data', color='green')\n",
    "\n",
    "# Create boolean masks for points outside limits\n",
    "out_of_limits_above = dta['atend_ivas_4'] >= dta['UCL_phc_only']\n",
    "out_of_limits_below = dta['atend_ivas_4'] < dta['LCL_phc_only']\n",
    "\n",
    "# Scatter plot for points above UCL\n",
    "plt.scatter(\n",
    "    dta['year_week'][out_of_limits_above],  # Ensure the index aligns\n",
    "    dta['atend_ivas_4'][out_of_limits_above],  # Use the same DataFrame\n",
    "    color='red',\n",
    "    label='Above UCL'\n",
    ")\n",
    "\n",
    "# Optional: Scatter plot for points below LCL\n",
    "#plt.scatter(\n",
    "#    dta['year_week'][out_of_limits_below],\n",
    "#    dta['atend_ivas_4'][out_of_limits_below],\n",
    "#   color='blue',\n",
    "#    label='Below LCL'\n",
    "#)\n",
    "\n",
    "# Add labels and legend\n",
    "plt.xlabel('Year Week')\n",
    "plt.ylabel('Atend IVAS 4')\n",
    "plt.legend()\n",
    "plt.show()\n"
   ]
  },
  {
   "cell_type": "markdown",
   "id": "cdd176e0-03fd-4871-bc9e-402ca88892c8",
   "metadata": {},
   "source": [
    "### Cities with trend and without sezonality"
   ]
  },
  {
   "cell_type": "code",
   "execution_count": 13,
   "id": "ca82d4b8-528a-4fde-9cbd-39e974b77589",
   "metadata": {},
   "outputs": [
    {
     "name": "stdout",
     "output_type": "stream",
     "text": [
      "number of imediate with trend and without sezonality 9 percentage 1.8\n"
     ]
    }
   ],
   "source": [
    "# select cities without trend and sezonality in PHC\n",
    "\n",
    "df2 = df[(df.p_value_ivas_negbi_friedman >= 0.05) & (df.p_values_negbi_atend_ivas_4 < 0.05)]\n",
    "\n",
    "print('number of imediate with trend and without sezonality', df2.co_imed.nunique(), 'percentage', round(df2.co_imed.nunique()*100/510,1) )"
   ]
  },
  {
   "cell_type": "code",
   "execution_count": 18,
   "id": "46fe0cf5-1c57-4b37-81ba-e76c60181da7",
   "metadata": {},
   "outputs": [],
   "source": [
    "lags_y = range(1, 4)  # Example: Using lags 1 to 4 for y_t\n",
    "lags_x = range(0, 4)  # Example: Using lags 0 to 4 for x_t\n",
    "dependent_variable = 'atend_ivas_4'  # Example dependent variable\n",
    "\n",
    "def lags_comb(variable, lags_variable):\n",
    "    \"\"\"Create cumulative lag combinations for a given variable.\"\"\"\n",
    "    lags_variable_comb = [f'{variable}_{lag}' for lag in lags_variable]\n",
    "    cumulative_sums_var = [' + '.join(lags_variable_comb[:i]) for i in range(1, len(lags_variable_comb) + 1)]\n",
    "    return cumulative_sums_var\n",
    "\n",
    "# Generate lagged combinations\n",
    "lags_y_comb = lags_comb('phc_4_lag', lags_y)\n",
    "lags_x_comb = lags_comb('otc_4_lag', lags_x)\n",
    "\n",
    "formulas = []\n",
    "\n",
    "# Iterate over all combinations and create formula strings\n",
    "for value in lags_x_comb:\n",
    "    for terms in lags_y_comb:\n",
    "        components = [terms, value]\n",
    "        # Remove empty strings and join components\n",
    "        formula_components = 'time_trend + ' + ' + '.join(filter(None, components))\n",
    "        formula = f'{dependent_variable} ~ {formula_components}'\n",
    "        formulas.append(formula)"
   ]
  },
  {
   "cell_type": "code",
   "execution_count": 21,
   "id": "488133fc-2888-44bc-bdef-f32309acfbf2",
   "metadata": {},
   "outputs": [],
   "source": [
    "## Keep the best model formulas and AIC\n",
    "\n",
    "lst = []\n",
    "\n",
    "for code in df2.co_imed.unique():\n",
    "\n",
    "    #print(code)\n",
    "\n",
    "    data = df2[df2.co_imed == code]\n",
    "\n",
    "    data = data.assign(time_trend = np.arange(len(data)))\n",
    "\n",
    "    # Placeholder for the best model\n",
    "    best_model = None\n",
    "    best_aic = float('inf')\n",
    "    best_formula = None\n",
    "\n",
    "    # Loop through all formulas to find the best model based on AIC\n",
    "    for formula in formulas:\n",
    "        \n",
    "        # Fit the model\n",
    "        alpha = 1\n",
    "        model = smf.glm(formula=formula, data=data, family=sm.families.NegativeBinomial(alpha=alpha)).fit()\n",
    "        \n",
    "        # Check the AIC of the current model\n",
    "        current_aic = model.aic\n",
    "        \n",
    "        # Update the best model if the current model has a lower AIC\n",
    "        if current_aic < best_aic:\n",
    "            best_aic = current_aic\n",
    "            best_model = model\n",
    "            best_formula = formula\n",
    "\n",
    "    data = data.assign(best_formula = best_formula)\n",
    "    data = data.assign(best_aic = best_aic)\n",
    "    \n",
    "    lst.append(data)\n",
    "\n",
    "lst_dfs_cities2 = lst\n",
    "\n",
    "#### save predicted values, upperbound and warning columns\n",
    "\n",
    "# we know the best model that adjust to the data of each municipality. Thus:\n",
    "\n",
    "lst = []\n",
    "\n",
    "for data in lst_dfs_cities2:\n",
    "    # Fit the model\n",
    "    alpha = 0.1\n",
    "    model = smf.glm(formula=data.best_formula.iloc[0], data=data, family=sm.families.NegativeBinomial(alpha=alpha)).fit()\n",
    "\n",
    "    # Extract fitted values and residuals\n",
    "    fitted_values = model.fittedvalues\n",
    "    residuals = model.resid_deviance\n",
    "    \n",
    "    sigma = np.std(residuals)\n",
    "    sigma_ = np.std(fitted_values)\n",
    "    sigma_t = fitted_values.rolling(window=5).std()\n",
    "    \n",
    "    data = data.assign(fitted_values_phc_only = fitted_values,\n",
    "                      residuals_phc_only = residuals,\n",
    "                      sigma_phc_only = sigma,\n",
    "                      sigma__phc_only = sigma_,\n",
    "                      sigma_t_phc_only = sigma_t)\n",
    "    \n",
    "    lst.append(data)\n",
    "    \n",
    "lst_dfs_cities2 = lst\n",
    "\n",
    "\n",
    "lst = []\n",
    "for i in range(len(lst_dfs_cities2)):\n",
    "    \n",
    "    data = lst_dfs_cities2[i]\n",
    "    \n",
    "    # Calculate control limits for the original series\n",
    "    w = 1 #data.w_best.iloc[0]\n",
    "    \n",
    "    data = data.assign(UCL_phc_only = data.fitted_values_phc_only + w * data.sigma_t_phc_only,\n",
    "                      LCL_phc_only = data.fitted_values_phc_only - w * data.sigma_t_phc_only)\n",
    "\n",
    "    data = data.assign(out_of_limits_above_phc_only = (data['atend_ivas_4'] >= data.UCL_phc_only).astype(int),\n",
    "                       out_of_limits_below_phc_only = (data['atend_ivas_4'] < data.LCL_phc_only).astype(int)\n",
    "                       )\n",
    "    \n",
    "    lst.append(data)\n",
    "    \n",
    "lst_dfs_cities2 = lst   "
   ]
  },
  {
   "cell_type": "markdown",
   "id": "03345913-8644-4714-a250-cede716a764e",
   "metadata": {},
   "source": [
    "### Cities without trend and with sezonality"
   ]
  },
  {
   "cell_type": "code",
   "execution_count": 22,
   "id": "bf443927-95d7-4d7f-b7b8-dd8fe7fc3dd1",
   "metadata": {},
   "outputs": [
    {
     "name": "stdout",
     "output_type": "stream",
     "text": [
      "number of imediate without trend and with sezonality 370 percentage 72.5\n"
     ]
    }
   ],
   "source": [
    "# select cities without trend and sezonality in PHC\n",
    "\n",
    "df3 = df[(df.p_value_ivas_negbi_friedman < 0.05) & (df.p_values_negbi_atend_ivas_4 >= 0.05)]\n",
    "\n",
    "print('number of imediate without trend and with sezonality', df3.co_imed.nunique(), 'percentage', round(df3.co_imed.nunique()*100/510,1) )"
   ]
  },
  {
   "cell_type": "code",
   "execution_count": 23,
   "id": "603b27d5-972d-4b3b-9e0e-f69351592ae4",
   "metadata": {},
   "outputs": [],
   "source": [
    "lst_dfs_cities3 = []\n",
    "\n",
    "for code in df3.co_imed.unique():\n",
    "    \n",
    "    set_muni = df3[df3.co_imed == code]\n",
    "\n",
    "    lst_dfs_cities3.append(set_muni)\n",
    "\n",
    "lst_dfs_cities3 = early_warning_detection_functions.harmonic(lst_dfs_cities3, 'atend_ivas_4')"
   ]
  },
  {
   "cell_type": "code",
   "execution_count": 24,
   "id": "e3fce419-8e69-4fb5-99c4-773d287c179e",
   "metadata": {},
   "outputs": [],
   "source": [
    "lags_y = range(1, 4)  # Example: Using lags 1 to 4 for y_t\n",
    "lags_x = range(0, 4)  # Example: Using lags 0 to 4 for x_t\n",
    "dependent_variable = 'atend_ivas_4'  # Example dependent variable\n",
    "\n",
    "def lags_comb(variable, lags_variable):\n",
    "    \"\"\"Create cumulative lag combinations for a given variable.\"\"\"\n",
    "    lags_variable_comb = [f'{variable}_{lag}' for lag in lags_variable]\n",
    "    cumulative_sums_var = [' + '.join(lags_variable_comb[:i]) for i in range(1, len(lags_variable_comb) + 1)]\n",
    "    return cumulative_sums_var\n",
    "\n",
    "# Generate lagged combinations\n",
    "lags_y_comb = lags_comb('phc_4_lag', lags_y)\n",
    "lags_x_comb = lags_comb('otc_4_lag', lags_x)\n",
    "\n",
    "formulas = []\n",
    "\n",
    "# Iterate over all combinations and create formula strings\n",
    "for value in lags_x_comb:\n",
    "    for terms in lags_y_comb:\n",
    "        components = [terms, value]\n",
    "        # Remove empty strings and join components\n",
    "        formula_components = 'Reconstructed + ' + ' + '.join(filter(None, components))\n",
    "        formula = f'{dependent_variable} ~ {formula_components}'\n",
    "        formulas.append(formula)"
   ]
  },
  {
   "cell_type": "code",
   "execution_count": 26,
   "id": "a5000963-c230-4d32-a611-de0dac33ebca",
   "metadata": {},
   "outputs": [],
   "source": [
    "## Keep the best model formulas and AIC\n",
    "\n",
    "lst = []\n",
    "\n",
    "for data in lst_dfs_cities3:\n",
    "\n",
    "    # Placeholder for the best model\n",
    "    best_model = None\n",
    "    best_aic = float('inf')\n",
    "    best_formula = None\n",
    "\n",
    "    # Loop through all formulas to find the best model based on AIC\n",
    "    for formula in formulas:\n",
    "        \n",
    "        # Fit the model\n",
    "        alpha = 1\n",
    "        model = smf.glm(formula=formula, data=data, family=sm.families.NegativeBinomial(alpha=alpha)).fit()\n",
    "        \n",
    "        # Check the AIC of the current model\n",
    "        current_aic = model.aic\n",
    "        \n",
    "        # Update the best model if the current model has a lower AIC\n",
    "        if current_aic < best_aic:\n",
    "            best_aic = current_aic\n",
    "            best_model = model\n",
    "            best_formula = formula\n",
    "\n",
    "    data = data.assign(best_formula = best_formula)\n",
    "    data = data.assign(best_aic = best_aic)\n",
    "    \n",
    "    lst.append(data)\n",
    "\n",
    "lst_dfs_cities3 = lst\n",
    "\n",
    "#### save predicted values, upperbound and warning columns\n",
    "\n",
    "# we know the best model that adjust to the data of each municipality. Thus:\n",
    "\n",
    "lst = []\n",
    "\n",
    "for data in lst_dfs_cities3:\n",
    "    # Fit the model\n",
    "    alpha = 0.1\n",
    "    model = smf.glm(formula=data.best_formula.iloc[0], data=data, family=sm.families.NegativeBinomial(alpha=alpha)).fit()\n",
    "\n",
    "    # Extract fitted values and residuals\n",
    "    fitted_values = model.fittedvalues\n",
    "    residuals = model.resid_deviance\n",
    "    \n",
    "    sigma = np.std(residuals)\n",
    "    sigma_ = np.std(fitted_values)\n",
    "    sigma_t = fitted_values.rolling(window=5).std()\n",
    "    \n",
    "    data = data.assign(fitted_values_phc_only = fitted_values,\n",
    "                      residuals_phc_only = residuals,\n",
    "                      sigma_phc_only = sigma,\n",
    "                      sigma__phc_only = sigma_,\n",
    "                      sigma_t_phc_only = sigma_t)\n",
    "    \n",
    "    lst.append(data)\n",
    "    \n",
    "lst_dfs_cities3 = lst\n",
    "\n",
    "\n",
    "lst = []\n",
    "for i in range(len(lst_dfs_cities3)):\n",
    "    \n",
    "    data = lst_dfs_cities3[i]\n",
    "    \n",
    "    # Calculate control limits for the original series\n",
    "    w = 1 #data.w_best.iloc[0]\n",
    "    \n",
    "    data = data.assign(UCL_phc_only = data.fitted_values_phc_only + w * data.sigma_t_phc_only,\n",
    "                      LCL_phc_only = data.fitted_values_phc_only - w * data.sigma_t_phc_only)\n",
    "\n",
    "    data = data.assign(out_of_limits_above_phc_only = (data['atend_ivas_4'] >= data.UCL_phc_only).astype(int),\n",
    "                       out_of_limits_below_phc_only = (data['atend_ivas_4'] < data.LCL_phc_only).astype(int)\n",
    "                       )\n",
    "    \n",
    "    lst.append(data)\n",
    "    \n",
    "lst_dfs_cities3 = lst   "
   ]
  },
  {
   "cell_type": "markdown",
   "id": "a466fd81-b3b2-4f40-8fb2-90870f6c437d",
   "metadata": {},
   "source": [
    "### Cities with trend and with sezonality"
   ]
  },
  {
   "cell_type": "code",
   "execution_count": 27,
   "id": "497a8c98-4df3-44de-bfb9-deb7aa887e71",
   "metadata": {},
   "outputs": [
    {
     "name": "stdout",
     "output_type": "stream",
     "text": [
      "number of imed with trend and sezonality 29 percentage 5.7\n"
     ]
    }
   ],
   "source": [
    "# select cities without trend and sezonality in PHC\n",
    "\n",
    "df4 = df[(df.p_value_ivas_negbi_friedman < 0.05) & (df.p_values_negbi_atend_ivas_4 < 0.05)]\n",
    "\n",
    "print('number of imed with trend and sezonality', df4.co_imed.nunique(), 'percentage', round(df4.co_imed.nunique()*100/510,1) )"
   ]
  },
  {
   "cell_type": "code",
   "execution_count": 28,
   "id": "c0a3c065-f780-4f5e-a909-aed452327987",
   "metadata": {
    "scrolled": true
   },
   "outputs": [
    {
     "name": "stderr",
     "output_type": "stream",
     "text": [
      "/usr/local/lib/python3.10/site-packages/pandas/core/arraylike.py:396: RuntimeWarning: invalid value encountered in log\n",
      "  result = getattr(ufunc, method)(*inputs, **kwargs)\n"
     ]
    }
   ],
   "source": [
    "lst_dfs_cities4 = []\n",
    "\n",
    "for code in df4.co_imed.unique():\n",
    "    \n",
    "    set_muni = df4[df4.co_imed == code]\n",
    "\n",
    "    lst_dfs_cities4.append(set_muni)\n",
    "\n",
    "lst_dfs_cities4 = early_warning_detection_functions.harmonic(lst_dfs_cities4, 'atend_ivas_4')"
   ]
  },
  {
   "cell_type": "code",
   "execution_count": 29,
   "id": "ee969b4a-e6be-4f49-aa46-1a4d6858067c",
   "metadata": {},
   "outputs": [],
   "source": [
    "lags_y = range(1, 4)  # Example: Using lags 1 to 4 for y_t\n",
    "lags_x = range(0, 4)  # Example: Using lags 0 to 4 for x_t\n",
    "dependent_variable = 'atend_ivas_4'  # Example dependent variable\n",
    "\n",
    "def lags_comb(variable, lags_variable):\n",
    "    \"\"\"Create cumulative lag combinations for a given variable.\"\"\"\n",
    "    lags_variable_comb = [f'{variable}_{lag}' for lag in lags_variable]\n",
    "    cumulative_sums_var = [' + '.join(lags_variable_comb[:i]) for i in range(1, len(lags_variable_comb) + 1)]\n",
    "    return cumulative_sums_var\n",
    "\n",
    "# Generate lagged combinations\n",
    "lags_y_comb = lags_comb('phc_4_lag', lags_y)\n",
    "lags_x_comb = lags_comb('otc_4_lag', lags_x)\n",
    "\n",
    "formulas = []\n",
    "\n",
    "# Iterate over all combinations and create formula strings\n",
    "for value in lags_x_comb:\n",
    "    for terms in lags_y_comb:\n",
    "        components = [terms, value]\n",
    "        # Remove empty strings and join components\n",
    "        formula_components = 'time_trend + Reconstructed + ' + ' + '.join(filter(None, components))\n",
    "        formula = f'{dependent_variable} ~ {formula_components}'\n",
    "        formulas.append(formula)"
   ]
  },
  {
   "cell_type": "code",
   "execution_count": 34,
   "id": "72f64c19-e149-475b-bbb0-7ddde2cef2dd",
   "metadata": {},
   "outputs": [
    {
     "name": "stdout",
     "output_type": "stream",
     "text": [
      "Processing 130006...\n",
      "Processing 290028...\n",
      "Processing 520008...\n",
      "Processing 520022...\n",
      "Processing 310010...\n",
      "Processing 310033...\n",
      "Processing 310053...\n",
      "Processing 310054...\n",
      "Processing 310058...\n",
      "Processing 150011...\n",
      "Processing 260001...\n",
      "Processing 260005...\n",
      "Processing 220001...\n",
      "Skipping formula atend_ivas_4 ~ time_trend + Reconstructed + phc_4_lag_1 + otc_4_lag_0 + otc_4_lag_1 for 350049: NaN, inf or invalid value detected in weights, estimation infeasible.\n",
      "Skipping formula atend_ivas_4 ~ time_trend + Reconstructed + phc_4_lag_1 + phc_4_lag_2 + otc_4_lag_0 + otc_4_lag_1 for 350049: NaN, inf or invalid value detected in weights, estimation infeasible.\n",
      "Skipping formula atend_ivas_4 ~ time_trend + Reconstructed + phc_4_lag_1 + phc_4_lag_2 + phc_4_lag_3 + otc_4_lag_0 + otc_4_lag_1 for 350049: NaN, inf or invalid value detected in weights, estimation infeasible.\n",
      "Skipping formula atend_ivas_4 ~ time_trend + Reconstructed + phc_4_lag_1 + otc_4_lag_0 + otc_4_lag_1 + otc_4_lag_2 for 350049: NaN, inf or invalid value detected in weights, estimation infeasible.\n"
     ]
    },
    {
     "name": "stderr",
     "output_type": "stream",
     "text": [
      "/home/juliane.oliveira/.local/lib/python3.10/site-packages/statsmodels/genmod/families/links.py:527: RuntimeWarning: overflow encountered in exp\n",
      "  return np.exp(z)\n",
      "/home/juliane.oliveira/.local/lib/python3.10/site-packages/statsmodels/genmod/families/family.py:1402: RuntimeWarning: divide by zero encountered in divide\n",
      "  endog_mu = self._clean(endog / mu)\n",
      "/home/juliane.oliveira/.local/lib/python3.10/site-packages/statsmodels/genmod/families/family.py:1406: RuntimeWarning: divide by zero encountered in log\n",
      "  resid_dev -= endog_alpha * np.log(endog_alpha / mu_alpha)\n",
      "/home/juliane.oliveira/.local/lib/python3.10/site-packages/statsmodels/genmod/families/varfuncs.py:265: RuntimeWarning: overflow encountered in square\n",
      "  return p + self.alpha*p**2\n",
      "/home/juliane.oliveira/.local/lib/python3.10/site-packages/statsmodels/genmod/families/family.py:143: RuntimeWarning: invalid value encountered in multiply\n",
      "  return 1. / (self.link.deriv(mu)**2 * self.variance(mu))\n",
      "/home/juliane.oliveira/.local/lib/python3.10/site-packages/statsmodels/genmod/generalized_linear_model.py:1328: RuntimeWarning: invalid value encountered in multiply\n",
      "  wlsendog = (lin_pred + self.family.link.deriv(mu) * (self.endog-mu)\n",
      "/home/juliane.oliveira/.local/lib/python3.10/site-packages/statsmodels/genmod/families/links.py:527: RuntimeWarning: overflow encountered in exp\n",
      "  return np.exp(z)\n",
      "/home/juliane.oliveira/.local/lib/python3.10/site-packages/statsmodels/genmod/families/family.py:1402: RuntimeWarning: divide by zero encountered in divide\n",
      "  endog_mu = self._clean(endog / mu)\n",
      "/home/juliane.oliveira/.local/lib/python3.10/site-packages/statsmodels/genmod/families/family.py:1406: RuntimeWarning: divide by zero encountered in log\n",
      "  resid_dev -= endog_alpha * np.log(endog_alpha / mu_alpha)\n",
      "/home/juliane.oliveira/.local/lib/python3.10/site-packages/statsmodels/genmod/families/varfuncs.py:265: RuntimeWarning: overflow encountered in square\n",
      "  return p + self.alpha*p**2\n",
      "/home/juliane.oliveira/.local/lib/python3.10/site-packages/statsmodels/genmod/families/family.py:143: RuntimeWarning: invalid value encountered in multiply\n",
      "  return 1. / (self.link.deriv(mu)**2 * self.variance(mu))\n",
      "/home/juliane.oliveira/.local/lib/python3.10/site-packages/statsmodels/genmod/generalized_linear_model.py:1328: RuntimeWarning: invalid value encountered in multiply\n",
      "  wlsendog = (lin_pred + self.family.link.deriv(mu) * (self.endog-mu)\n",
      "/home/juliane.oliveira/.local/lib/python3.10/site-packages/statsmodels/genmod/families/links.py:527: RuntimeWarning: overflow encountered in exp\n",
      "  return np.exp(z)\n",
      "/home/juliane.oliveira/.local/lib/python3.10/site-packages/statsmodels/genmod/families/family.py:1402: RuntimeWarning: divide by zero encountered in divide\n",
      "  endog_mu = self._clean(endog / mu)\n",
      "/home/juliane.oliveira/.local/lib/python3.10/site-packages/statsmodels/genmod/families/family.py:1402: RuntimeWarning: overflow encountered in divide\n",
      "  endog_mu = self._clean(endog / mu)\n",
      "/home/juliane.oliveira/.local/lib/python3.10/site-packages/statsmodels/genmod/families/family.py:1406: RuntimeWarning: divide by zero encountered in log\n",
      "  resid_dev -= endog_alpha * np.log(endog_alpha / mu_alpha)\n",
      "/home/juliane.oliveira/.local/lib/python3.10/site-packages/statsmodels/genmod/families/varfuncs.py:265: RuntimeWarning: overflow encountered in square\n",
      "  return p + self.alpha*p**2\n",
      "/home/juliane.oliveira/.local/lib/python3.10/site-packages/statsmodels/genmod/families/family.py:143: RuntimeWarning: invalid value encountered in multiply\n",
      "  return 1. / (self.link.deriv(mu)**2 * self.variance(mu))\n",
      "/home/juliane.oliveira/.local/lib/python3.10/site-packages/statsmodels/genmod/generalized_linear_model.py:1328: RuntimeWarning: invalid value encountered in multiply\n",
      "  wlsendog = (lin_pred + self.family.link.deriv(mu) * (self.endog-mu)\n",
      "/home/juliane.oliveira/.local/lib/python3.10/site-packages/statsmodels/genmod/families/links.py:527: RuntimeWarning: overflow encountered in exp\n",
      "  return np.exp(z)\n",
      "/home/juliane.oliveira/.local/lib/python3.10/site-packages/statsmodels/genmod/families/family.py:1402: RuntimeWarning: divide by zero encountered in divide\n",
      "  endog_mu = self._clean(endog / mu)\n",
      "/home/juliane.oliveira/.local/lib/python3.10/site-packages/statsmodels/genmod/families/family.py:1406: RuntimeWarning: divide by zero encountered in log\n",
      "  resid_dev -= endog_alpha * np.log(endog_alpha / mu_alpha)\n",
      "/home/juliane.oliveira/.local/lib/python3.10/site-packages/statsmodels/genmod/families/varfuncs.py:265: RuntimeWarning: overflow encountered in square\n",
      "  return p + self.alpha*p**2\n",
      "/home/juliane.oliveira/.local/lib/python3.10/site-packages/statsmodels/genmod/families/family.py:143: RuntimeWarning: invalid value encountered in multiply\n",
      "  return 1. / (self.link.deriv(mu)**2 * self.variance(mu))\n",
      "/home/juliane.oliveira/.local/lib/python3.10/site-packages/statsmodels/genmod/generalized_linear_model.py:1328: RuntimeWarning: invalid value encountered in multiply\n",
      "  wlsendog = (lin_pred + self.family.link.deriv(mu) * (self.endog-mu)\n"
     ]
    },
    {
     "name": "stdout",
     "output_type": "stream",
     "text": [
      "Processing 220012...\n",
      "Processing 410004...\n",
      "Processing 410018...\n",
      "Processing 410019...\n",
      "Processing 330005...\n",
      "Processing 140001...\n",
      "Processing 140002...\n",
      "Processing 430014...\n",
      "Processing 430034...\n",
      "Processing 430035...\n",
      "Processing 420014...\n",
      "Processing 420023...\n",
      "Processing 350005...\n",
      "Processing 350039...\n",
      "Processing 350042...\n",
      "Processing 350049...\n"
     ]
    }
   ],
   "source": [
    "## Keep the best model formulas and AIC\n",
    "lst = []\n",
    "\n",
    "for data in lst_dfs_cities4:\n",
    "    print(f\"Processing {data.co_imed.iloc[0]}...\")\n",
    "\n",
    "    #data = df3[df3.co_ibge == code].copy()\n",
    "    data = data.assign(time_trend=np.arange(len(data)))\n",
    "\n",
    "    # Initialize placeholders\n",
    "    best_model = None\n",
    "    best_aic = float('inf')\n",
    "    best_formula = np.nan  # Set default as NaN\n",
    "\n",
    "    # Try fitting models\n",
    "    for formula in formulas:\n",
    "        try:\n",
    "            model = smf.glm(formula=formula, data=data, family=sm.families.NegativeBinomial(alpha=1)).fit()\n",
    "            current_aic = model.aic\n",
    "\n",
    "            if current_aic < best_aic:\n",
    "                best_aic = current_aic\n",
    "                best_model = model\n",
    "                best_formula = formula\n",
    "\n",
    "        except Exception as e:\n",
    "            print(f\"Skipping formula {formula} for {code}: {e}\")\n",
    "            continue  # Skip to the next formula\n",
    "\n",
    "    # Assign best formula and AIC (or NaN if model failed)\n",
    "    data = data.assign(best_formula=best_formula, best_aic=best_aic if best_aic != float('inf') else np.nan)\n",
    "    lst.append(data)\n",
    "\n",
    "lst_dfs_cities4 = lst  # Store results\n"
   ]
  },
  {
   "cell_type": "code",
   "execution_count": 35,
   "id": "fa52a1c7-3ed8-4b9b-bd64-595414f8b921",
   "metadata": {},
   "outputs": [],
   "source": [
    "#### Save predicted values, upper bound, and warning columns\n",
    "\n",
    "lst = []\n",
    "\n",
    "for data in lst_dfs_cities4:\n",
    "    \n",
    "    if pd.isna(data.best_formula.iloc[0]):\n",
    "        # If no valid model, create NaN columns\n",
    "        data = data.assign(\n",
    "                fitted_values_phc_only=np.nan,\n",
    "                residuals_phc_only=np.nan,\n",
    "                sigma_phc_only=np.nan,\n",
    "                sigma__phc_only=np.nan,\n",
    "                sigma_t_phc_only=np.nan\n",
    "            )\n",
    "    else:\n",
    "        # Fit the model and calculate residuals\n",
    "        model = smf.glm(formula=data.best_formula.iloc[0], data=data, family=sm.families.NegativeBinomial(alpha=1)).fit()\n",
    "        fitted_values = model.fittedvalues\n",
    "        residuals = model.resid_deviance\n",
    "\n",
    "        # Calculate sigmas\n",
    "        sigma = np.std(residuals)\n",
    "        sigma_ = np.std(fitted_values)\n",
    "        sigma_t = fitted_values.rolling(window=5).std()\n",
    "\n",
    "        # Assign values\n",
    "        data = data.assign(fitted_values_phc_only = fitted_values,\n",
    "                           residuals_phc_only = residuals,\n",
    "                           sigma_phc_only = sigma,\n",
    "                           sigma__phc_only = sigma_,\n",
    "                           sigma_t_phc_only = sigma_t\n",
    "                          )\n",
    "\n",
    "    lst.append(data)\n",
    "\n",
    "lst_dfs_cities4 = lst  # Store results\n"
   ]
  },
  {
   "cell_type": "code",
   "execution_count": 36,
   "id": "e161238e-6385-4f96-9349-7bec4b07df97",
   "metadata": {},
   "outputs": [],
   "source": [
    "### Control limits and out-of-limits detection\n",
    "\n",
    "lst = []\n",
    "\n",
    "for data in lst_dfs_cities4:\n",
    "    \n",
    "    if data['fitted_values_phc_only'].isna().all():\n",
    "        # If no valid fitted values, assign NaNs\n",
    "        data = data.assign(\n",
    "                    UCL_phc_only=np.nan,\n",
    "                    LCL_phc_only=np.nan,\n",
    "                    out_of_limits_above_phc_only=np.nan,\n",
    "                    out_of_limits_below_phc_only=np.nan\n",
    "            )\n",
    "    else:\n",
    "        w = 1  # Default weight\n",
    "        \n",
    "        UCL_phc_only = data.fitted_values_phc_only + w * data.sigma_t_phc_only\n",
    "        LCL_phc_only = data.fitted_values_phc_only - w * data.sigma_t_phc_only\n",
    "        \n",
    "        data = data.assign(\n",
    "                UCL_phc_only =  UCL_phc_only,\n",
    "                LCL_phc_only =  LCL_phc_only,\n",
    "                out_of_limits_above_phc_only = (data['atend_ivas_4'] >= UCL_phc_only).astype(int),\n",
    "                out_of_limits_below_phc_only=(data['atend_ivas_4'] < LCL_phc_only).astype(int)\n",
    "            )\n",
    "\n",
    "    lst.append(data)\n",
    "\n",
    "lst_dfs_cities4 = lst  # Store final results\n"
   ]
  },
  {
   "cell_type": "code",
   "execution_count": 37,
   "id": "fd78e1f4-466c-44e3-825d-59ba8e23ba12",
   "metadata": {},
   "outputs": [
    {
     "data": {
      "image/png": "[encoded data removed]",
      "text/plain": [
       "<Figure size 1000x600 with 1 Axes>"
      ]
     },
     "metadata": {},
     "output_type": "display_data"
    }
   ],
   "source": [
    "dta = lst_dfs_cities4[10]\n",
    "\n",
    "# Create the plot\n",
    "plt.figure(figsize=(10, 6))\n",
    "\n",
    "# Plot the original data\n",
    "plt.plot(dta.year_week, dta['atend_ivas_4'], label='Original Data', color='black')\n",
    "\n",
    "# Create boolean masks for points outside limits\n",
    "out_of_limits_above = dta['atend_ivas_4'] >= dta['UCL_phc_only']\n",
    "out_of_limits_below = dta['atend_ivas_4'] < dta['LCL_phc_only']\n",
    "\n",
    "# Scatter plot for points above UCL\n",
    "plt.scatter(\n",
    "    dta['year_week'][out_of_limits_above],  # Ensure the index aligns\n",
    "    dta['atend_ivas_4'][out_of_limits_above],  # Use the same DataFrame\n",
    "    color='red',\n",
    "    label='Above UCL'\n",
    ")\n",
    "\n",
    "# Optional: Scatter plot for points below LCL\n",
    "#plt.scatter(\n",
    "#    dta['year_week'][out_of_limits_below],\n",
    "#    dta['atend_ivas_4'][out_of_limits_below],\n",
    "#   color='blue',\n",
    "#    label='Below LCL'\n",
    "#)\n",
    "\n",
    "# Add labels and legend\n",
    "plt.xlabel('Year Week')\n",
    "plt.ylabel('Atend IVAS 4')\n",
    "plt.legend()\n",
    "plt.show()\n"
   ]
  },
  {
   "cell_type": "markdown",
   "id": "df940125-bf12-49d4-a551-bd5e69987df4",
   "metadata": {},
   "source": [
    "# Process and save data"
   ]
  },
  {
   "cell_type": "code",
   "execution_count": 38,
   "id": "d2cba174-12f6-47d3-b7cd-32c1dac194ec",
   "metadata": {},
   "outputs": [
    {
     "data": {
      "text/plain": [
       "Index(['sigla_uf', 'co_uf', 'nm_uf', 'co_imed', 'Nome_imed', 'year_week',\n",
       "       'year_week_ts', 'epidemi_cal_start', 'epidemi_cal_end', 'atend_ivas',\n",
       "       'num_otc_ivas', 'atend_ivas_4', 'num_otc_ivas_4', 'dtrend_ivas_negbi',\n",
       "       'dtrend_otc_negbi', 'p_values_negbi_atend_ivas_4',\n",
       "       'p_values_negbi_num_otc_ivas_4', 'p_value_ivas_negbi_friedman',\n",
       "       'p_value_otc_negbi_friedman', 'phc_4_lag_1', 'phc_4_lag_2',\n",
       "       'phc_4_lag_3', 'otc_4_lag_1', 'otc_4_lag_2', 'otc_4_lag_3',\n",
       "       'phc_4_lag_0', 'otc_4_lag_0', 'best_formula', 'best_aic',\n",
       "       'fitted_values_phc_only', 'residuals_phc_only', 'sigma_phc_only',\n",
       "       'sigma__phc_only', 'sigma_t_phc_only', 'UCL_phc_only', 'LCL_phc_only',\n",
       "       'out_of_limits_above_phc_only', 'out_of_limits_below_phc_only'],\n",
       "      dtype='object')"
      ]
     },
     "execution_count": 38,
     "metadata": {},
     "output_type": "execute_result"
    }
   ],
   "source": [
    "lst_dfs_cities1[0].columns"
   ]
  },
  {
   "cell_type": "code",
   "execution_count": 39,
   "id": "fde02358-1b2c-4755-93d7-2c22dec58eee",
   "metadata": {},
   "outputs": [],
   "source": [
    "lst1 = []\n",
    "\n",
    "for data in lst_dfs_cities1:\n",
    "\n",
    "    data = data[['nm_uf', 'co_imed', 'Nome_imed',\n",
    "                 'year_week', 'year_week_ts', 'epidemi_cal_start', 'epidemi_cal_end',\n",
    "                 'atend_ivas', 'num_otc_ivas', 'atend_ivas_4', 'num_otc_ivas_4',\n",
    "                 'best_formula', 'best_aic', 'fitted_values_phc_only',\n",
    "                 'residuals_phc_only', 'UCL_phc_only', 'LCL_phc_only',\n",
    "                 'out_of_limits_above_phc_only', 'out_of_limits_below_phc_only']]\n",
    "\n",
    "    lst1.append(data)\n",
    "\n",
    "\n",
    "for data in lst_dfs_cities2:\n",
    "\n",
    "    data = data[['nm_uf', 'co_imed', 'Nome_imed',\n",
    "                 'year_week', 'year_week_ts', 'epidemi_cal_start', 'epidemi_cal_end',\n",
    "                 'atend_ivas', 'num_otc_ivas', 'atend_ivas_4', 'num_otc_ivas_4',\n",
    "                 'best_formula', 'best_aic', 'fitted_values_phc_only',\n",
    "                 'residuals_phc_only', 'UCL_phc_only', 'LCL_phc_only',\n",
    "                 'out_of_limits_above_phc_only', 'out_of_limits_below_phc_only']]\n",
    "\n",
    "    lst1.append(data)\n",
    "\n",
    "for data in lst_dfs_cities3:\n",
    "\n",
    "    data = data[['nm_uf', 'co_imed', 'Nome_imed',\n",
    "                 'year_week', 'year_week_ts', 'epidemi_cal_start', 'epidemi_cal_end',\n",
    "                 'atend_ivas', 'num_otc_ivas', 'atend_ivas_4', 'num_otc_ivas_4',\n",
    "                 'best_formula', 'best_aic', 'fitted_values_phc_only',\n",
    "                 'residuals_phc_only', 'UCL_phc_only', 'LCL_phc_only',\n",
    "                 'out_of_limits_above_phc_only', 'out_of_limits_below_phc_only']]\n",
    "\n",
    "    lst1.append(data)\n",
    "\n",
    "for data in lst_dfs_cities4:\n",
    "\n",
    "    data = data[['nm_uf', 'co_imed', 'Nome_imed',\n",
    "                 'year_week', 'year_week_ts', 'epidemi_cal_start', 'epidemi_cal_end',\n",
    "                 'atend_ivas', 'num_otc_ivas', 'atend_ivas_4', 'num_otc_ivas_4',\n",
    "                 'best_formula', 'best_aic', 'fitted_values_phc_only',\n",
    "                 'residuals_phc_only', 'UCL_phc_only', 'LCL_phc_only',\n",
    "                 'out_of_limits_above_phc_only', 'out_of_limits_below_phc_only']]\n",
    "\n",
    "    lst1.append(data)"
   ]
  },
  {
   "cell_type": "code",
   "execution_count": 40,
   "id": "35ba644d-b5bc-4121-8101-7da7cca6c7db",
   "metadata": {},
   "outputs": [
    {
     "data": {
      "text/plain": [
       "510"
      ]
     },
     "execution_count": 40,
     "metadata": {},
     "output_type": "execute_result"
    }
   ],
   "source": [
    "len(lst1)"
   ]
  },
  {
   "cell_type": "code",
   "execution_count": 41,
   "id": "dba3178b-a3ba-40f3-8597-3167f8b84af6",
   "metadata": {},
   "outputs": [],
   "source": [
    "final = pd.concat(lst1)"
   ]
  },
  {
   "cell_type": "code",
   "execution_count": 42,
   "id": "0b6cc466-25b1-48cb-b198-19025fa2d65d",
   "metadata": {},
   "outputs": [],
   "source": [
    "final = final.rename(columns = { 'fitted_values_phc_only': 'fitted_values_aps_with_otc', \n",
    "                                 'residuals_phc_only': 'residuals_aps_with_otc',\n",
    "                                 'UCL_phc_only': 'UCL_aps_with_otc',\n",
    "                                 'LCL_phc_only': 'LCL_aps_with_otc', \n",
    "                                 'out_of_limits_above_phc_only': 'out_of_limits_above_aps_with_otc',\n",
    "                                 'out_of_limits_below_phc_only': 'out_of_limits_below_aps_with_otc'})"
   ]
  },
  {
   "cell_type": "code",
   "execution_count": 44,
   "id": "32f221fc-c98c-4ca6-8864-8774e545128f",
   "metadata": {},
   "outputs": [],
   "source": [
    "#final"
   ]
  },
  {
   "cell_type": "code",
   "execution_count": 45,
   "id": "cdd9296d-3047-4c7e-b819-2af6e68688ef",
   "metadata": {},
   "outputs": [],
   "source": [
    "final.to_parquet('/home/juliane.oliveira/workspace/Bivariate_Anomaly_Detection_Primary_Health_Care_Drug_Selling_ILI_surveillance/Results/data_manuscript_warning_phc_with_otc_imed.parquet')\n",
    "\n"
   ]
  },
  {
   "cell_type": "code",
   "execution_count": null,
   "id": "b21bba8c-eaa3-4536-acc0-f03eed255439",
   "metadata": {},
   "outputs": [],
   "source": []
  }
 ],
 "metadata": {
  "kernelspec": {
   "display_name": "Python 3 (ipykernel)",
   "language": "python",
   "name": "python3"
  },
  "language_info": {
   "codemirror_mode": {
    "name": "ipython",
    "version": 3
   },
   "file_extension": ".py",
   "mimetype": "text/x-python",
   "name": "python",
   "nbconvert_exporter": "python",
   "pygments_lexer": "ipython3",
   "version": "3.10.10"
  }
 },
 "nbformat": 4,
 "nbformat_minor": 5
}
