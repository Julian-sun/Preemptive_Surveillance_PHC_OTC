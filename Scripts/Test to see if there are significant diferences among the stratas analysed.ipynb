{
 "cells": [
  {
   "cell_type": "code",
   "execution_count": 84,
   "metadata": {},
   "outputs": [],
   "source": [
    "import pandas as pd\n",
    "import numpy as np\n",
    "import scipy.stats\n",
    "from scipy import stats\n",
    "import early_warning_detection_functions\n",
    "import matplotlib.pyplot as plt\n",
    "from statsmodels.stats.contingency_tables import mcnemar\n"
   ]
  },
  {
   "cell_type": "markdown",
   "metadata": {},
   "source": [
    "# Read data"
   ]
  },
  {
   "cell_type": "code",
   "execution_count": 2,
   "metadata": {},
   "outputs": [],
   "source": [
    "df_aps = pd.read_parquet('/Users/julianeoliveira/Documents/github/Bivariate_Anomaly_Detection_Primary_Health_Care_Drug_Selling_ILI_surveillance/Results/data_manuscript_warning_phc_only_imed.parquet')\n",
    "\n",
    "df_otc = pd.read_parquet('/Users/julianeoliveira/Documents/github/Bivariate_Anomaly_Detection_Primary_Health_Care_Drug_Selling_ILI_surveillance/Results/data_manuscript_warning_otc_only_imed.parquet')\n",
    "\n",
    "df_aih = pd.read_parquet('/Users/julianeoliveira/Documents/github/Bivariate_Anomaly_Detection_Primary_Health_Care_Drug_Selling_ILI_surveillance/Results/data_manuscript_warning_aih_imed2.parquet')\n",
    "\n"
   ]
  },
  {
   "cell_type": "code",
   "execution_count": 3,
   "metadata": {},
   "outputs": [],
   "source": [
    "dta1 = df_aps[[ 'co_imed', 'Nome_imed', 'year_week', 'year_week_ts', 'out_of_limits_above_phc_only']]\n",
    "dta2 = df_otc[[ 'co_imed', 'year_week', 'out_of_limits_above_otc_only']]\n",
    "dta3 = df_aih[[ 'co_imed', 'year_week', 'warning_final_aih']]\n",
    "\n",
    "\n",
    "result = dta1.merge(dta2, left_on=['co_imed','year_week'], right_on=['co_imed','year_week'])\n",
    "\n",
    "result = result.merge(dta3, left_on=['co_imed','year_week'], right_on=['co_imed','year_week'])"
   ]
  },
  {
   "cell_type": "code",
   "execution_count": 4,
   "metadata": {},
   "outputs": [
    {
     "data": {
      "text/html": [
       "<div>\n",
       "<style scoped>\n",
       "    .dataframe tbody tr th:only-of-type {\n",
       "        vertical-align: middle;\n",
       "    }\n",
       "\n",
       "    .dataframe tbody tr th {\n",
       "        vertical-align: top;\n",
       "    }\n",
       "\n",
       "    .dataframe thead th {\n",
       "        text-align: right;\n",
       "    }\n",
       "</style>\n",
       "<table border=\"1\" class=\"dataframe\">\n",
       "  <thead>\n",
       "    <tr style=\"text-align: right;\">\n",
       "      <th></th>\n",
       "      <th>co_imed</th>\n",
       "      <th>Nome_imed</th>\n",
       "      <th>year_week</th>\n",
       "      <th>year_week_ts</th>\n",
       "      <th>out_of_limits_above_phc_only</th>\n",
       "      <th>out_of_limits_above_otc_only</th>\n",
       "      <th>warning_final_aih</th>\n",
       "    </tr>\n",
       "  </thead>\n",
       "  <tbody>\n",
       "    <tr>\n",
       "      <th>0</th>\n",
       "      <td>120003</td>\n",
       "      <td>Sena Madureira</td>\n",
       "      <td>2022-47</td>\n",
       "      <td>2022-11-21</td>\n",
       "      <td>0</td>\n",
       "      <td>0</td>\n",
       "      <td>0</td>\n",
       "    </tr>\n",
       "    <tr>\n",
       "      <th>1</th>\n",
       "      <td>120003</td>\n",
       "      <td>Sena Madureira</td>\n",
       "      <td>2022-48</td>\n",
       "      <td>2022-11-28</td>\n",
       "      <td>0</td>\n",
       "      <td>0</td>\n",
       "      <td>0</td>\n",
       "    </tr>\n",
       "    <tr>\n",
       "      <th>2</th>\n",
       "      <td>120003</td>\n",
       "      <td>Sena Madureira</td>\n",
       "      <td>2022-49</td>\n",
       "      <td>2022-12-05</td>\n",
       "      <td>0</td>\n",
       "      <td>0</td>\n",
       "      <td>0</td>\n",
       "    </tr>\n",
       "    <tr>\n",
       "      <th>3</th>\n",
       "      <td>120003</td>\n",
       "      <td>Sena Madureira</td>\n",
       "      <td>2022-50</td>\n",
       "      <td>2022-12-12</td>\n",
       "      <td>0</td>\n",
       "      <td>0</td>\n",
       "      <td>0</td>\n",
       "    </tr>\n",
       "    <tr>\n",
       "      <th>4</th>\n",
       "      <td>120003</td>\n",
       "      <td>Sena Madureira</td>\n",
       "      <td>2022-51</td>\n",
       "      <td>2022-12-19</td>\n",
       "      <td>0</td>\n",
       "      <td>0</td>\n",
       "      <td>0</td>\n",
       "    </tr>\n",
       "    <tr>\n",
       "      <th>...</th>\n",
       "      <td>...</td>\n",
       "      <td>...</td>\n",
       "      <td>...</td>\n",
       "      <td>...</td>\n",
       "      <td>...</td>\n",
       "      <td>...</td>\n",
       "      <td>...</td>\n",
       "    </tr>\n",
       "    <tr>\n",
       "      <th>55806</th>\n",
       "      <td>350049</td>\n",
       "      <td>São José dos Campos</td>\n",
       "      <td>2024-48</td>\n",
       "      <td>2024-11-25</td>\n",
       "      <td>1</td>\n",
       "      <td>0</td>\n",
       "      <td>0</td>\n",
       "    </tr>\n",
       "    <tr>\n",
       "      <th>55807</th>\n",
       "      <td>350049</td>\n",
       "      <td>São José dos Campos</td>\n",
       "      <td>2024-49</td>\n",
       "      <td>2024-12-02</td>\n",
       "      <td>1</td>\n",
       "      <td>0</td>\n",
       "      <td>0</td>\n",
       "    </tr>\n",
       "    <tr>\n",
       "      <th>55808</th>\n",
       "      <td>350049</td>\n",
       "      <td>São José dos Campos</td>\n",
       "      <td>2024-50</td>\n",
       "      <td>2024-12-09</td>\n",
       "      <td>1</td>\n",
       "      <td>0</td>\n",
       "      <td>0</td>\n",
       "    </tr>\n",
       "    <tr>\n",
       "      <th>55809</th>\n",
       "      <td>350049</td>\n",
       "      <td>São José dos Campos</td>\n",
       "      <td>2024-51</td>\n",
       "      <td>2024-12-16</td>\n",
       "      <td>1</td>\n",
       "      <td>0</td>\n",
       "      <td>0</td>\n",
       "    </tr>\n",
       "    <tr>\n",
       "      <th>55810</th>\n",
       "      <td>350049</td>\n",
       "      <td>São José dos Campos</td>\n",
       "      <td>2024-52</td>\n",
       "      <td>2024-12-23</td>\n",
       "      <td>0</td>\n",
       "      <td>0</td>\n",
       "      <td>0</td>\n",
       "    </tr>\n",
       "  </tbody>\n",
       "</table>\n",
       "<p>55811 rows × 7 columns</p>\n",
       "</div>"
      ],
      "text/plain": [
       "       co_imed            Nome_imed year_week year_week_ts  \\\n",
       "0       120003       Sena Madureira   2022-47   2022-11-21   \n",
       "1       120003       Sena Madureira   2022-48   2022-11-28   \n",
       "2       120003       Sena Madureira   2022-49   2022-12-05   \n",
       "3       120003       Sena Madureira   2022-50   2022-12-12   \n",
       "4       120003       Sena Madureira   2022-51   2022-12-19   \n",
       "...        ...                  ...       ...          ...   \n",
       "55806   350049  São José dos Campos   2024-48   2024-11-25   \n",
       "55807   350049  São José dos Campos   2024-49   2024-12-02   \n",
       "55808   350049  São José dos Campos   2024-50   2024-12-09   \n",
       "55809   350049  São José dos Campos   2024-51   2024-12-16   \n",
       "55810   350049  São José dos Campos   2024-52   2024-12-23   \n",
       "\n",
       "       out_of_limits_above_phc_only  out_of_limits_above_otc_only  \\\n",
       "0                                 0                             0   \n",
       "1                                 0                             0   \n",
       "2                                 0                             0   \n",
       "3                                 0                             0   \n",
       "4                                 0                             0   \n",
       "...                             ...                           ...   \n",
       "55806                             1                             0   \n",
       "55807                             1                             0   \n",
       "55808                             1                             0   \n",
       "55809                             1                             0   \n",
       "55810                             0                             0   \n",
       "\n",
       "       warning_final_aih  \n",
       "0                      0  \n",
       "1                      0  \n",
       "2                      0  \n",
       "3                      0  \n",
       "4                      0  \n",
       "...                  ...  \n",
       "55806                  0  \n",
       "55807                  0  \n",
       "55808                  0  \n",
       "55809                  0  \n",
       "55810                  0  \n",
       "\n",
       "[55811 rows x 7 columns]"
      ]
     },
     "execution_count": 4,
     "metadata": {},
     "output_type": "execute_result"
    }
   ],
   "source": [
    "result"
   ]
  },
  {
   "cell_type": "markdown",
   "metadata": {},
   "source": [
    "# Construct contigency table per strata"
   ]
  },
  {
   "cell_type": "code",
   "execution_count": 72,
   "metadata": {},
   "outputs": [],
   "source": [
    "def antici_sets(data_res, col_warn_s1, col_warn_s2, col_code):\n",
    "    \n",
    "    lst_count = []\n",
    "\n",
    "    for code in data_res[col_code].unique():\n",
    "    \n",
    "        dta = data_res[data_res[col_code] == code].copy()\n",
    "        \n",
    "        set3 = dta[(dta[col_warn_s1] == 1) & (dta[col_warn_s2].shift(-3) == 1)].index + 3\n",
    "        set2 = dta[(dta[col_warn_s1] == 1) & (dta[col_warn_s2].shift(-3) == 0) & (dta[col_warn_s2].shift(-2) == 1)].index + 2\n",
    "        set1 = dta[(dta[col_warn_s1] == 1) & \n",
    "                   (dta[col_warn_s2].shift(-3) == 0) & \n",
    "                   (dta[col_warn_s2].shift(-2) == 0) & \n",
    "                   (dta[col_warn_s2].shift(-1) == 1)].index + 1\n",
    "        set0 = dta[(dta[col_warn_s1] == 1) & \n",
    "                   (dta[col_warn_s2] == 1) & \n",
    "                   (dta[col_warn_s2].shift(-3) == 0) & \n",
    "                   (dta[col_warn_s2].shift(-2) == 0) & \n",
    "                   (dta[col_warn_s2].shift(-1) == 0)].index\n",
    "        \n",
    "        set_3_0 = set3.union(set2).union(set1).union(set0)\n",
    "        \n",
    "        lst_count.append([code, set_3_0, dta.warning_final_aih.sum()])\n",
    "    \n",
    "    return lst_count"
   ]
  },
  {
   "cell_type": "code",
   "execution_count": 73,
   "metadata": {},
   "outputs": [],
   "source": [
    "lst_aps = antici_sets(result, 'out_of_limits_above_phc_only', 'warning_final_aih', 'co_imed')"
   ]
  },
  {
   "cell_type": "code",
   "execution_count": 75,
   "metadata": {},
   "outputs": [],
   "source": [
    "lst_otc = antici_sets(result, 'out_of_limits_above_otc_only', 'warning_final_aih', 'co_imed')"
   ]
  },
  {
   "cell_type": "code",
   "execution_count": 106,
   "metadata": {},
   "outputs": [],
   "source": [
    "lst = []\n",
    "\n",
    "for i in range(0,len(lst_aps)):\n",
    "\n",
    "    n_phc_yes_otc_yes = len(lst_aps[i][1].intersection(lst_otc[i][1]))\n",
    "\n",
    "    n_phc_yes_otc_no = len(set(lst_aps[i][1]) - set(lst_otc[i][1]))\n",
    "\n",
    "    n_phc_no_otc_yes = len(set(lst_otc[i][1]) - set(lst_aps[i][1]))\n",
    "\n",
    "    n_phc_no_otc_no = lst_aps[i][2] - (n_phc_yes_otc_yes + n_phc_yes_otc_no + n_phc_no_otc_yes)\n",
    "    \n",
    "    lst.append([lst_aps[i][0], n_phc_yes_otc_yes, n_phc_yes_otc_no, n_phc_no_otc_yes, n_phc_no_otc_no])"
   ]
  },
  {
   "cell_type": "code",
   "execution_count": 107,
   "metadata": {},
   "outputs": [],
   "source": [
    "df_counts = pd.DataFrame(lst,\n",
    "       columns=['co_imed', 'n_phc_yes_otc_yes', 'n_phc_yes_otc_no','n_phc_no_otc_yes','n_phc_no_otc_no'])\n"
   ]
  },
  {
   "cell_type": "markdown",
   "metadata": {},
   "source": [
    "## Format data to apply the test"
   ]
  },
  {
   "cell_type": "code",
   "execution_count": 108,
   "metadata": {},
   "outputs": [],
   "source": [
    "# Read dictionary with municipalities\n",
    "df_imed_key = pd.read_csv('/Users/julianeoliveira/Documents/github/Bivariate_Anomaly_Detection_Primary_Health_Care_Drug_Selling_ILI_surveillance/Data/RELATORIO_DTB_BRASIL_MUNICIPIO.csv',sep = ';')\n",
    "df_pop = pd.read_csv('/Users/julianeoliveira/Documents/Projects/AESOP/AESOP datalake/Population/table_2009_2023_etcc_eq_zero.csv')\n"
   ]
  },
  {
   "cell_type": "code",
   "execution_count": 109,
   "metadata": {},
   "outputs": [],
   "source": [
    "df_pop = df_pop[['Cód.', 'Uf', '2022']]\n",
    "\n",
    "df_imed_key = df_imed_key[['Nome_UF', 'UF',  'Região Geográfica Imediata',\n",
    "       'Nome Região Geográfica Imediata', \n",
    "       'Município', 'Código Município Completo', 'Nome_Município']]\n",
    "\n",
    "df_pop = df_pop.rename(columns = {'Cód.': 'co_ibge7'}) \n",
    "\n",
    "df_imed_key = df_imed_key.rename(columns = {'Código Município Completo': 'co_ibge7', \n",
    "                                            'Região Geográfica Imediata': 'co_imed'})\n",
    "\n",
    "df_imed_key = df_imed_key.merge(df_pop, on='co_ibge7', how='left')\n",
    "\n",
    "df_imed_pop = df_imed_key.groupby(['co_imed'])['2022'].sum().reset_index()\n",
    "\n",
    "df_imed_pop = df_imed_pop.assign(pop_2022 = df_imed_pop['2022'].astype(int))\n",
    "df_imed_pop = df_imed_pop[['co_imed', 'pop_2022']]\n",
    "\n",
    "\n",
    "df_codes_imed = df_imed_key.groupby(['Nome_UF','UF', 'co_imed','Uf'])['2022'].sum().reset_index()\n",
    "\n"
   ]
  },
  {
   "cell_type": "code",
   "execution_count": 110,
   "metadata": {},
   "outputs": [],
   "source": [
    "# Dictionary mapping Brazilian states to their regions\n",
    "state_to_region = {\n",
    "    \"AC\": \"North\", \"AM\": \"North\", \"AP\": \"North\", \"PA\": \"North\", \"RO\": \"North\", \"RR\": \"North\", \"TO\": \"North\",\n",
    "    \"AL\": \"Northeast\", \"BA\": \"Northeast\", \"CE\": \"Northeast\", \"MA\": \"Northeast\", \"PB\": \"Northeast\",\n",
    "    \"PE\": \"Northeast\", \"PI\": \"Northeast\", \"RN\": \"Northeast\", \"SE\": \"Northeast\",\n",
    "    \"DF\": \"Center-West\", \"GO\": \"Center-West\", \"MT\": \"Center-West\", \"MS\": \"Center-West\",\n",
    "    \"ES\": \"Southeast\", \"MG\": \"Southeast\", \"RJ\": \"Southeast\", \"SP\": \"Southeast\",\n",
    "    \"PR\": \"South\", \"RS\": \"South\", \"SC\": \"South\"\n",
    "}\n",
    "\n",
    "\n",
    "df_counts2 = df_counts.merge(df_codes_imed, on='co_imed', how='left')\n",
    "\n",
    "# Create a new column 'region' by mapping state codes to regions\n",
    "df_counts2[\"region\"] = df_counts2[\"Uf\"].map(state_to_region)\n"
   ]
  },
  {
   "cell_type": "code",
   "execution_count": 111,
   "metadata": {},
   "outputs": [],
   "source": [
    "df_counts2 = df_counts2.rename(columns = {'2022': 'pop'})"
   ]
  },
  {
   "cell_type": "code",
   "execution_count": 112,
   "metadata": {},
   "outputs": [],
   "source": [
    "bins = [0, 1.177890e+05, 3.247680e+05, float('inf')]\n",
    "labels = ['Small', 'Medium', 'Large']\n",
    "\n",
    "df_counts2['pop_cat'] = pd.cut(df_counts2['pop'], bins=bins, labels=labels, right=True)"
   ]
  },
  {
   "cell_type": "markdown",
   "metadata": {},
   "source": [
    "##  analysis"
   ]
  },
  {
   "cell_type": "code",
   "execution_count": 114,
   "metadata": {},
   "outputs": [
    {
     "name": "stdout",
     "output_type": "stream",
     "text": [
      " McNemar Test Results – Nationwide\n",
      "Nationwide      | Statistic: 81.0  | p-value: 0.0040 [[268, 81], [123, 84]]\n",
      "\n",
      " McNemar Test by Macro Region\n",
      "Center-West     | Statistic: 14.0  | p-value: 0.8555 [[39, 16], [14, 4]]\n",
      "North           | Statistic: 14.0  | p-value: 0.3915 [[45, 14], [20, 14]]\n",
      "Northeast       | Statistic: 17.0  | p-value: 0.0022 [[82, 17], [41, 36]]\n",
      "South           | Statistic: 15.0  | p-value: 0.6076 [[37, 15], [19, 11]]\n",
      "Southeast       | Statistic: 19.0  | p-value: 0.1934 [[65, 19], [29, 19]]\n",
      "\n",
      " McNemar Test by Population Size Category\n",
      "Large           | Statistic: 17.0  | p-value: 0.4296 [[52, 17], [23, 21]]\n",
      "Medium          | Statistic: 43.0  | p-value: 0.0346 [[144, 43], [66, 37]]\n",
      "Small           | Statistic: 21.0  | p-value: 0.1048 [[72, 21], [34, 26]]\n"
     ]
    }
   ],
   "source": [
    "from statsmodels.stats.contingency_tables import mcnemar\n",
    "\n",
    "# Contingency table\n",
    "#           OTC Yes | OTC No\n",
    "# PHC Yes     a     |   b\n",
    "# PHC No      c     |   d\n",
    "\n",
    "#[[268, 81],\n",
    "#[123, 84]]\n",
    "\n",
    "# Helper function to compute and print McNemar test\n",
    "def run_mcnemar_test(label, df_subset):\n",
    "    a = df_subset.n_phc_yes_otc_yes.sum()\n",
    "    b = df_subset.n_phc_yes_otc_no.sum()\n",
    "    c = df_subset.n_phc_no_otc_yes.sum()\n",
    "    d = df_subset.n_phc_no_otc_no.sum()\n",
    "\n",
    "    table = [[a, b],\n",
    "             [c, d]]\n",
    "\n",
    "    result = mcnemar(table, exact=True)\n",
    "    print(f\"{label:<15} | Statistic: {result.statistic:<5} | p-value: {result.pvalue:.4f}\", table)\n",
    "\n",
    "# National-level analysis\n",
    "print(\" McNemar Test Results – Nationwide\")\n",
    "run_mcnemar_test(\"Nationwide\", df_counts2)\n",
    "\n",
    "# Macro-region analysis\n",
    "print(\"\\n McNemar Test by Macro Region\")\n",
    "for region in sorted(df_counts2.region.unique()):\n",
    "    df_region = df_counts2[df_counts2.region == region]\n",
    "    run_mcnemar_test(region, df_region)\n",
    "\n",
    "# Population size category analysis\n",
    "print(\"\\n McNemar Test by Population Size Category\")\n",
    "for cat in sorted(df_counts2.pop_cat.unique()):\n",
    "    df_cat = df_counts2[df_counts2.pop_cat == cat]\n",
    "    run_mcnemar_test(cat, df_cat)\n"
   ]
  },
  {
   "cell_type": "code",
   "execution_count": 115,
   "metadata": {},
   "outputs": [
    {
     "data": {
      "text/plain": [
       "556"
      ]
     },
     "execution_count": 115,
     "metadata": {},
     "output_type": "execute_result"
    }
   ],
   "source": [
    "268 + 81+ 123 + 84\n",
    "\n"
   ]
  },
  {
   "cell_type": "code",
   "execution_count": 117,
   "metadata": {},
   "outputs": [
    {
     "data": {
      "text/plain": [
       "73"
      ]
     },
     "execution_count": 117,
     "metadata": {},
     "output_type": "execute_result"
    }
   ],
   "source": [
    "39+ 16 +14+ 4"
   ]
  },
  {
   "cell_type": "code",
   "execution_count": null,
   "metadata": {},
   "outputs": [],
   "source": []
  },
  {
   "cell_type": "code",
   "execution_count": null,
   "metadata": {},
   "outputs": [],
   "source": []
  },
  {
   "cell_type": "code",
   "execution_count": null,
   "metadata": {},
   "outputs": [],
   "source": []
  }
 ],
 "metadata": {
  "kernelspec": {
   "display_name": "Python 3",
   "language": "python",
   "name": "python3"
  },
  "language_info": {
   "codemirror_mode": {
    "name": "ipython",
    "version": 3
   },
   "file_extension": ".py",
   "mimetype": "text/x-python",
   "name": "python",
   "nbconvert_exporter": "python",
   "pygments_lexer": "ipython3",
   "version": "3.8.5"
  }
 },
 "nbformat": 4,
 "nbformat_minor": 4
}
