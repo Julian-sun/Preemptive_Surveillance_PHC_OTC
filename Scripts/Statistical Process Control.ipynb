{
 "cells": [
  {
   "cell_type": "code",
   "execution_count": 1,
   "metadata": {},
   "outputs": [],
   "source": [
    "import pandas as pd\n",
    "import numpy as np\n",
    "import scipy.stats\n",
    "from scipy import stats\n",
    "import early_warning_detection_functions\n",
    "import matplotlib.pyplot as plt\n"
   ]
  },
  {
   "cell_type": "markdown",
   "metadata": {},
   "source": [
    "# Read data"
   ]
  },
  {
   "cell_type": "code",
   "execution_count": 2,
   "metadata": {},
   "outputs": [],
   "source": [
    "df_aps = pd.read_parquet('/Users/julianeoliveira/Documents/github/Bivariate_Anomaly_Detection_Primary_Health_Care_Drug_Selling_ILI_surveillance/Results/data_manuscript_warning_phc_only_imed.parquet')\n",
    "\n",
    "df_otc = pd.read_parquet('/Users/julianeoliveira/Documents/github/Bivariate_Anomaly_Detection_Primary_Health_Care_Drug_Selling_ILI_surveillance/Results/data_manuscript_warning_otc_only_imed.parquet')\n",
    "\n",
    "df_aih = pd.read_parquet('/Users/julianeoliveira/Documents/github/Bivariate_Anomaly_Detection_Primary_Health_Care_Drug_Selling_ILI_surveillance/Results/data_manuscript_warning_aih_imed2.parquet')\n",
    "\n"
   ]
  },
  {
   "cell_type": "markdown",
   "metadata": {},
   "source": [
    "# Process data"
   ]
  },
  {
   "cell_type": "code",
   "execution_count": 11,
   "metadata": {},
   "outputs": [],
   "source": [
    "dta1 = df_aps[['nm_uf', 'co_imed', 'Nome_imed', 'year_week', 'year_week_ts',\n",
    "       'epidemi_cal_start', 'epidemi_cal_end', 'atend_ivas','atend_ivas_4',\n",
    "      'fitted_values_phc_only', 'residuals_phc_only']]"
   ]
  },
  {
   "cell_type": "code",
   "execution_count": 12,
   "metadata": {},
   "outputs": [],
   "source": [
    "dta2 = df_otc[['co_imed', 'year_week', 'num_otc_ivas', 'num_otc_ivas_4', 'fitted_values_otc_only', 'residuals_otc_only']]"
   ]
  },
  {
   "cell_type": "code",
   "execution_count": 13,
   "metadata": {},
   "outputs": [],
   "source": [
    "dta = dta1.merge(dta2, on = ['co_imed', 'year_week'], how = 'left')"
   ]
  },
  {
   "cell_type": "code",
   "execution_count": 17,
   "metadata": {},
   "outputs": [
    {
     "data": {
      "text/html": [
       "<div>\n",
       "<style scoped>\n",
       "    .dataframe tbody tr th:only-of-type {\n",
       "        vertical-align: middle;\n",
       "    }\n",
       "\n",
       "    .dataframe tbody tr th {\n",
       "        vertical-align: top;\n",
       "    }\n",
       "\n",
       "    .dataframe thead th {\n",
       "        text-align: right;\n",
       "    }\n",
       "</style>\n",
       "<table border=\"1\" class=\"dataframe\">\n",
       "  <thead>\n",
       "    <tr style=\"text-align: right;\">\n",
       "      <th></th>\n",
       "      <th>nm_uf</th>\n",
       "      <th>co_imed</th>\n",
       "      <th>Nome_imed</th>\n",
       "      <th>year_week</th>\n",
       "      <th>year_week_ts</th>\n",
       "      <th>epidemi_cal_start</th>\n",
       "      <th>epidemi_cal_end</th>\n",
       "      <th>atend_ivas</th>\n",
       "      <th>atend_ivas_4</th>\n",
       "      <th>fitted_values_phc_only</th>\n",
       "      <th>residuals_phc_only</th>\n",
       "      <th>num_otc_ivas</th>\n",
       "      <th>num_otc_ivas_4</th>\n",
       "      <th>fitted_values_otc_only</th>\n",
       "      <th>residuals_otc_only</th>\n",
       "    </tr>\n",
       "  </thead>\n",
       "  <tbody>\n",
       "    <tr>\n",
       "      <th>0</th>\n",
       "      <td>Acre</td>\n",
       "      <td>120003</td>\n",
       "      <td>Sena Madureira</td>\n",
       "      <td>2022-47</td>\n",
       "      <td>2022-11-21</td>\n",
       "      <td>2022-11-20</td>\n",
       "      <td>2022-11-26</td>\n",
       "      <td>347</td>\n",
       "      <td>0.00</td>\n",
       "      <td>87.322732</td>\n",
       "      <td>-6.746032</td>\n",
       "      <td>1191.0</td>\n",
       "      <td>0.00</td>\n",
       "      <td>516.987048</td>\n",
       "      <td>-3.535520</td>\n",
       "    </tr>\n",
       "    <tr>\n",
       "      <th>1</th>\n",
       "      <td>Acre</td>\n",
       "      <td>120003</td>\n",
       "      <td>Sena Madureira</td>\n",
       "      <td>2022-48</td>\n",
       "      <td>2022-11-28</td>\n",
       "      <td>2022-11-27</td>\n",
       "      <td>2022-12-03</td>\n",
       "      <td>292</td>\n",
       "      <td>0.00</td>\n",
       "      <td>87.322732</td>\n",
       "      <td>-6.746032</td>\n",
       "      <td>1202.0</td>\n",
       "      <td>0.00</td>\n",
       "      <td>517.716184</td>\n",
       "      <td>-3.535918</td>\n",
       "    </tr>\n",
       "    <tr>\n",
       "      <th>2</th>\n",
       "      <td>Acre</td>\n",
       "      <td>120003</td>\n",
       "      <td>Sena Madureira</td>\n",
       "      <td>2022-49</td>\n",
       "      <td>2022-12-05</td>\n",
       "      <td>2022-12-04</td>\n",
       "      <td>2022-12-10</td>\n",
       "      <td>291</td>\n",
       "      <td>0.00</td>\n",
       "      <td>87.322732</td>\n",
       "      <td>-6.746032</td>\n",
       "      <td>1813.0</td>\n",
       "      <td>0.00</td>\n",
       "      <td>518.446348</td>\n",
       "      <td>-3.536315</td>\n",
       "    </tr>\n",
       "    <tr>\n",
       "      <th>3</th>\n",
       "      <td>Acre</td>\n",
       "      <td>120003</td>\n",
       "      <td>Sena Madureira</td>\n",
       "      <td>2022-50</td>\n",
       "      <td>2022-12-12</td>\n",
       "      <td>2022-12-11</td>\n",
       "      <td>2022-12-17</td>\n",
       "      <td>454</td>\n",
       "      <td>346.00</td>\n",
       "      <td>87.322732</td>\n",
       "      <td>5.419730</td>\n",
       "      <td>1317.0</td>\n",
       "      <td>1380.75</td>\n",
       "      <td>519.177542</td>\n",
       "      <td>1.166502</td>\n",
       "    </tr>\n",
       "    <tr>\n",
       "      <th>4</th>\n",
       "      <td>Acre</td>\n",
       "      <td>120003</td>\n",
       "      <td>Sena Madureira</td>\n",
       "      <td>2022-51</td>\n",
       "      <td>2022-12-19</td>\n",
       "      <td>2022-12-18</td>\n",
       "      <td>2022-12-24</td>\n",
       "      <td>394</td>\n",
       "      <td>357.75</td>\n",
       "      <td>351.261116</td>\n",
       "      <td>0.057257</td>\n",
       "      <td>1189.0</td>\n",
       "      <td>1380.25</td>\n",
       "      <td>1203.450129</td>\n",
       "      <td>0.140221</td>\n",
       "    </tr>\n",
       "  </tbody>\n",
       "</table>\n",
       "</div>"
      ],
      "text/plain": [
       "  nm_uf  co_imed       Nome_imed year_week year_week_ts epidemi_cal_start  \\\n",
       "0  Acre   120003  Sena Madureira   2022-47   2022-11-21        2022-11-20   \n",
       "1  Acre   120003  Sena Madureira   2022-48   2022-11-28        2022-11-27   \n",
       "2  Acre   120003  Sena Madureira   2022-49   2022-12-05        2022-12-04   \n",
       "3  Acre   120003  Sena Madureira   2022-50   2022-12-12        2022-12-11   \n",
       "4  Acre   120003  Sena Madureira   2022-51   2022-12-19        2022-12-18   \n",
       "\n",
       "  epidemi_cal_end  atend_ivas  atend_ivas_4  fitted_values_phc_only  \\\n",
       "0      2022-11-26         347          0.00               87.322732   \n",
       "1      2022-12-03         292          0.00               87.322732   \n",
       "2      2022-12-10         291          0.00               87.322732   \n",
       "3      2022-12-17         454        346.00               87.322732   \n",
       "4      2022-12-24         394        357.75              351.261116   \n",
       "\n",
       "   residuals_phc_only  num_otc_ivas  num_otc_ivas_4  fitted_values_otc_only  \\\n",
       "0           -6.746032        1191.0            0.00              516.987048   \n",
       "1           -6.746032        1202.0            0.00              517.716184   \n",
       "2           -6.746032        1813.0            0.00              518.446348   \n",
       "3            5.419730        1317.0         1380.75              519.177542   \n",
       "4            0.057257        1189.0         1380.25             1203.450129   \n",
       "\n",
       "   residuals_otc_only  \n",
       "0           -3.535520  \n",
       "1           -3.535918  \n",
       "2           -3.536315  \n",
       "3            1.166502  \n",
       "4            0.140221  "
      ]
     },
     "execution_count": 17,
     "metadata": {},
     "output_type": "execute_result"
    }
   ],
   "source": [
    "dta.head()"
   ]
  },
  {
   "cell_type": "code",
   "execution_count": 18,
   "metadata": {},
   "outputs": [],
   "source": [
    "set_region = dta[dta.co_imed == 120003]"
   ]
  },
  {
   "cell_type": "code",
   "execution_count": 20,
   "metadata": {},
   "outputs": [
    {
     "data": {
      "text/plain": [
       "Index(['nm_uf', 'co_imed', 'Nome_imed', 'year_week', 'year_week_ts',\n",
       "       'epidemi_cal_start', 'epidemi_cal_end', 'atend_ivas', 'atend_ivas_4',\n",
       "       'fitted_values_phc_only', 'residuals_phc_only', 'num_otc_ivas',\n",
       "       'num_otc_ivas_4', 'fitted_values_otc_only', 'residuals_otc_only'],\n",
       "      dtype='object')"
      ]
     },
     "execution_count": 20,
     "metadata": {},
     "output_type": "execute_result"
    }
   ],
   "source": [
    "set_region.columns"
   ]
  },
  {
   "cell_type": "code",
   "execution_count": null,
   "metadata": {},
   "outputs": [],
   "source": [
    "# Control limits control limits for different levels \n",
    "\n",
    "lst = []\n",
    "\n",
    "for w in [0,0.5, 1, 1.5, 2, 2.5, 3, 3.5, 4, 4.5, 5, 5.5, 6]:\n",
    "    \n",
    "    for code in dta.co_imed.unique():\n",
    "        \n",
    "        set_region = dta[dta.co_imed == code]\n",
    "\n",
    "        sigma_t_phc_only = set_region.fitted_values_phc_only.rolling(window=5).std()\n",
    "    \n",
    "        UCL_phc_only = set_region.fitted_values_phc_only + w * sigma_t_phc_only\n",
    "        \n",
    "        set_region = set_region.assign(warning_phc_w = (set_region['atend_ivas_4'] >= set_region.UCL_phc_only).astype(int))\n",
    "        \n",
    "         lst.append(set_region)"
   ]
  },
  {
   "cell_type": "code",
   "execution_count": null,
   "metadata": {},
   "outputs": [],
   "source": []
  }
 ],
 "metadata": {
  "kernelspec": {
   "display_name": "Python 3",
   "language": "python",
   "name": "python3"
  },
  "language_info": {
   "codemirror_mode": {
    "name": "ipython",
    "version": 3
   },
   "file_extension": ".py",
   "mimetype": "text/x-python",
   "name": "python",
   "nbconvert_exporter": "python",
   "pygments_lexer": "ipython3",
   "version": "3.8.5"
  }
 },
 "nbformat": 4,
 "nbformat_minor": 4
}
